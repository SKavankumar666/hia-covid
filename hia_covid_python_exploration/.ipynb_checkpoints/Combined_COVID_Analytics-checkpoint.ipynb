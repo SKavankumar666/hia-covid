{
 "cells": [
  {
   "cell_type": "code",
   "execution_count": 10,
   "metadata": {},
   "outputs": [
    {
     "name": "stderr",
     "output_type": "stream",
     "text": [
      "/Users/philip.ballentine/anaconda3/lib/python3.7/site-packages/tqdm/std.py:697: FutureWarning: The Panel class is removed from pandas. Accessing it from the top-level namespace will also be removed in the next version\n",
      "  from pandas import Panel\n"
     ]
    }
   ],
   "source": [
    "import pandas as pd\n",
    "import seaborn as sns\n",
    "import statsmodels.api as sm\n",
    "from tqdm import tqdm \n",
    "tqdm.pandas()\n",
    "\n",
    "import statsmodels.formula.api as smf\n",
    "import numpy as np\n",
    "\n",
    "from sklearn.linear_model import LinearRegression\n",
    "import seaborn as sns\n",
    "import matplotlib.pyplot as plt\n",
    "\n",
    "pd.options.display.float_format = '{:.2f}'.format"
   ]
  },
  {
   "cell_type": "markdown",
   "metadata": {},
   "source": [
    "## Import Mobility Data"
   ]
  },
  {
   "cell_type": "code",
   "execution_count": 11,
   "metadata": {},
   "outputs": [],
   "source": [
    "combined = pd.read_csv(r\"/Users/philip.ballentine/Documents/hia_covid_repo/hia_covid_data_assets/hia_covid_combined.csv\", dtype={'County_FIPS': 'str'} )"
   ]
  },
  {
   "cell_type": "code",
   "execution_count": 12,
   "metadata": {},
   "outputs": [],
   "source": [
    "combined['StateCD'] = combined['State Code'] "
   ]
  },
  {
   "cell_type": "code",
   "execution_count": 13,
   "metadata": {},
   "outputs": [
    {
     "data": {
      "text/plain": [
       "(1011313, 69)"
      ]
     },
     "execution_count": 13,
     "metadata": {},
     "output_type": "execute_result"
    }
   ],
   "source": [
    "combined.shape"
   ]
  },
  {
   "cell_type": "code",
   "execution_count": 14,
   "metadata": {},
   "outputs": [
    {
     "data": {
      "text/plain": [
       "(3131,)"
      ]
     },
     "execution_count": 14,
     "metadata": {},
     "output_type": "execute_result"
    }
   ],
   "source": [
    "combined.County_FIPS.unique().shape"
   ]
  },
  {
   "cell_type": "markdown",
   "metadata": {},
   "source": [
    "## County Population Descriptions "
   ]
  },
  {
   "cell_type": "code",
   "execution_count": 15,
   "metadata": {},
   "outputs": [],
   "source": [
    "countylevel = combined.groupby(\"County_FIPS\").max()"
   ]
  },
  {
   "cell_type": "code",
   "execution_count": 16,
   "metadata": {},
   "outputs": [
    {
     "data": {
      "text/plain": [
       "count       3131.00\n",
       "mean      101459.88\n",
       "std       327673.58\n",
       "min           74.00\n",
       "25%        10948.50\n",
       "50%        25687.00\n",
       "75%        67058.50\n",
       "max     10105722.00\n",
       "Name: Population_ACS, dtype: float64"
      ]
     },
     "execution_count": 16,
     "metadata": {},
     "output_type": "execute_result"
    }
   ],
   "source": [
    "countylevel.Population_ACS.describe()"
   ]
  },
  {
   "cell_type": "code",
   "execution_count": 17,
   "metadata": {},
   "outputs": [],
   "source": [
    "plt.style.use('fivethirtyeight')"
   ]
  },
  {
   "cell_type": "code",
   "execution_count": 18,
   "metadata": {},
   "outputs": [
    {
     "data": {
      "image/png": "[encoded data removed]",
      "text/plain": [
       "<Figure size 518.4x288 with 1 Axes>"
      ]
     },
     "metadata": {},
     "output_type": "display_data"
    }
   ],
   "source": [
    "plt.rcParams.update({'font.size': 13})\n",
    "plt.style.use(\"dark_background\") \n",
    "sns.set_style({'axes.grid' : False})\n",
    "sns.displot(countylevel.Population_ACS, height=4, aspect=1.8, color=\"#00ffcd\", kind=\"kde\")\n",
    "plt.xticks(rotation=75)\n",
    "plt.ticklabel_format(useOffset=False, style='plain')"
   ]
  },
  {
   "cell_type": "markdown",
   "metadata": {},
   "source": [
    "## State Level Description of Deaths Per Capita on 2020-12-01"
   ]
  },
  {
   "cell_type": "code",
   "execution_count": 19,
   "metadata": {},
   "outputs": [],
   "source": [
    "dec = combined[combined.Date == '2020-12-01']"
   ]
  },
  {
   "cell_type": "code",
   "execution_count": 20,
   "metadata": {},
   "outputs": [],
   "source": [
    "statelevel = dec.groupby(\"StateCD\").sum()"
   ]
  },
  {
   "cell_type": "code",
   "execution_count": 21,
   "metadata": {},
   "outputs": [
    {
     "data": {
      "text/html": [
       "<div>\n",
       "<style scoped>\n",
       "    .dataframe tbody tr th:only-of-type {\n",
       "        vertical-align: middle;\n",
       "    }\n",
       "\n",
       "    .dataframe tbody tr th {\n",
       "        vertical-align: top;\n",
       "    }\n",
       "\n",
       "    .dataframe thead th {\n",
       "        text-align: right;\n",
       "    }\n",
       "</style>\n",
       "<table border=\"1\" class=\"dataframe\">\n",
       "  <thead>\n",
       "    <tr style=\"text-align: right;\">\n",
       "      <th></th>\n",
       "      <th>StateCD</th>\n",
       "      <th>Deaths</th>\n",
       "      <th>Population_ACS</th>\n",
       "      <th>Deaths_PER_100K</th>\n",
       "    </tr>\n",
       "  </thead>\n",
       "  <tbody>\n",
       "    <tr>\n",
       "      <th>46</th>\n",
       "      <td>VT</td>\n",
       "      <td>72</td>\n",
       "      <td>624636.00</td>\n",
       "      <td>11.53</td>\n",
       "    </tr>\n",
       "    <tr>\n",
       "      <th>21</th>\n",
       "      <td>ME</td>\n",
       "      <td>214</td>\n",
       "      <td>1330158.00</td>\n",
       "      <td>16.09</td>\n",
       "    </tr>\n",
       "    <tr>\n",
       "      <th>0</th>\n",
       "      <td>AK</td>\n",
       "      <td>122</td>\n",
       "      <td>737264.00</td>\n",
       "      <td>16.55</td>\n",
       "    </tr>\n",
       "    <tr>\n",
       "      <th>11</th>\n",
       "      <td>HI</td>\n",
       "      <td>242</td>\n",
       "      <td>1421572.00</td>\n",
       "      <td>17.02</td>\n",
       "    </tr>\n",
       "    <tr>\n",
       "      <th>44</th>\n",
       "      <td>UT</td>\n",
       "      <td>672</td>\n",
       "      <td>2993941.00</td>\n",
       "      <td>22.45</td>\n",
       "    </tr>\n",
       "    <tr>\n",
       "      <th>37</th>\n",
       "      <td>OR</td>\n",
       "      <td>936</td>\n",
       "      <td>4025127.00</td>\n",
       "      <td>23.25</td>\n",
       "    </tr>\n",
       "    <tr>\n",
       "      <th>47</th>\n",
       "      <td>WA</td>\n",
       "      <td>2802</td>\n",
       "      <td>7169967.00</td>\n",
       "      <td>39.08</td>\n",
       "    </tr>\n",
       "    <tr>\n",
       "      <th>50</th>\n",
       "      <td>WY</td>\n",
       "      <td>230</td>\n",
       "      <td>583200.00</td>\n",
       "      <td>39.44</td>\n",
       "    </tr>\n",
       "    <tr>\n",
       "      <th>30</th>\n",
       "      <td>NH</td>\n",
       "      <td>527</td>\n",
       "      <td>1331848.00</td>\n",
       "      <td>39.57</td>\n",
       "    </tr>\n",
       "    <tr>\n",
       "      <th>49</th>\n",
       "      <td>WV</td>\n",
       "      <td>758</td>\n",
       "      <td>1836843.00</td>\n",
       "      <td>41.27</td>\n",
       "    </tr>\n",
       "    <tr>\n",
       "      <th>17</th>\n",
       "      <td>KY</td>\n",
       "      <td>1943</td>\n",
       "      <td>4424376.00</td>\n",
       "      <td>43.92</td>\n",
       "    </tr>\n",
       "    <tr>\n",
       "      <th>36</th>\n",
       "      <td>OK</td>\n",
       "      <td>1758</td>\n",
       "      <td>3896251.00</td>\n",
       "      <td>45.12</td>\n",
       "    </tr>\n",
       "    <tr>\n",
       "      <th>45</th>\n",
       "      <td>VA</td>\n",
       "      <td>3392</td>\n",
       "      <td>6988060.00</td>\n",
       "      <td>48.54</td>\n",
       "    </tr>\n",
       "    <tr>\n",
       "      <th>4</th>\n",
       "      <td>CA</td>\n",
       "      <td>19304</td>\n",
       "      <td>38982847.00</td>\n",
       "      <td>49.52</td>\n",
       "    </tr>\n",
       "    <tr>\n",
       "      <th>16</th>\n",
       "      <td>KS</td>\n",
       "      <td>1498</td>\n",
       "      <td>2903820.00</td>\n",
       "      <td>51.59</td>\n",
       "    </tr>\n",
       "    <tr>\n",
       "      <th>27</th>\n",
       "      <td>NC</td>\n",
       "      <td>5284</td>\n",
       "      <td>10052564.00</td>\n",
       "      <td>52.56</td>\n",
       "    </tr>\n",
       "    <tr>\n",
       "      <th>24</th>\n",
       "      <td>MO</td>\n",
       "      <td>2746</td>\n",
       "      <td>5075761.00</td>\n",
       "      <td>54.10</td>\n",
       "    </tr>\n",
       "    <tr>\n",
       "      <th>35</th>\n",
       "      <td>OH</td>\n",
       "      <td>6548</td>\n",
       "      <td>11609756.00</td>\n",
       "      <td>56.40</td>\n",
       "    </tr>\n",
       "    <tr>\n",
       "      <th>29</th>\n",
       "      <td>NE</td>\n",
       "      <td>1076</td>\n",
       "      <td>1893921.00</td>\n",
       "      <td>56.81</td>\n",
       "    </tr>\n",
       "    <tr>\n",
       "      <th>5</th>\n",
       "      <td>CO</td>\n",
       "      <td>3109</td>\n",
       "      <td>5436519.00</td>\n",
       "      <td>57.19</td>\n",
       "    </tr>\n",
       "    <tr>\n",
       "      <th>13</th>\n",
       "      <td>ID</td>\n",
       "      <td>960</td>\n",
       "      <td>1657375.00</td>\n",
       "      <td>57.92</td>\n",
       "    </tr>\n",
       "    <tr>\n",
       "      <th>48</th>\n",
       "      <td>WI</td>\n",
       "      <td>3611</td>\n",
       "      <td>5763217.00</td>\n",
       "      <td>62.66</td>\n",
       "    </tr>\n",
       "    <tr>\n",
       "      <th>23</th>\n",
       "      <td>MN</td>\n",
       "      <td>3615</td>\n",
       "      <td>5490726.00</td>\n",
       "      <td>65.84</td>\n",
       "    </tr>\n",
       "    <tr>\n",
       "      <th>26</th>\n",
       "      <td>MT</td>\n",
       "      <td>698</td>\n",
       "      <td>1029862.00</td>\n",
       "      <td>67.78</td>\n",
       "    </tr>\n",
       "    <tr>\n",
       "      <th>42</th>\n",
       "      <td>TN</td>\n",
       "      <td>4562</td>\n",
       "      <td>6597381.00</td>\n",
       "      <td>69.15</td>\n",
       "    </tr>\n",
       "    <tr>\n",
       "      <th>33</th>\n",
       "      <td>NV</td>\n",
       "      <td>2164</td>\n",
       "      <td>2887725.00</td>\n",
       "      <td>74.94</td>\n",
       "    </tr>\n",
       "    <tr>\n",
       "      <th>1</th>\n",
       "      <td>AL</td>\n",
       "      <td>3638</td>\n",
       "      <td>4850771.00</td>\n",
       "      <td>75.00</td>\n",
       "    </tr>\n",
       "    <tr>\n",
       "      <th>20</th>\n",
       "      <td>MD</td>\n",
       "      <td>3888</td>\n",
       "      <td>5167442.00</td>\n",
       "      <td>75.24</td>\n",
       "    </tr>\n",
       "    <tr>\n",
       "      <th>32</th>\n",
       "      <td>NM</td>\n",
       "      <td>1589</td>\n",
       "      <td>2084828.00</td>\n",
       "      <td>76.22</td>\n",
       "    </tr>\n",
       "    <tr>\n",
       "      <th>12</th>\n",
       "      <td>IA</td>\n",
       "      <td>2449</td>\n",
       "      <td>3118102.00</td>\n",
       "      <td>78.54</td>\n",
       "    </tr>\n",
       "    <tr>\n",
       "      <th>43</th>\n",
       "      <td>TX</td>\n",
       "      <td>22114</td>\n",
       "      <td>27419612.00</td>\n",
       "      <td>80.65</td>\n",
       "    </tr>\n",
       "    <tr>\n",
       "      <th>38</th>\n",
       "      <td>PA</td>\n",
       "      <td>10504</td>\n",
       "      <td>12790505.00</td>\n",
       "      <td>82.12</td>\n",
       "    </tr>\n",
       "    <tr>\n",
       "      <th>8</th>\n",
       "      <td>DE</td>\n",
       "      <td>777</td>\n",
       "      <td>943732.00</td>\n",
       "      <td>82.33</td>\n",
       "    </tr>\n",
       "    <tr>\n",
       "      <th>2</th>\n",
       "      <td>AR</td>\n",
       "      <td>2512</td>\n",
       "      <td>2977944.00</td>\n",
       "      <td>84.35</td>\n",
       "    </tr>\n",
       "    <tr>\n",
       "      <th>15</th>\n",
       "      <td>IN</td>\n",
       "      <td>5598</td>\n",
       "      <td>6614418.00</td>\n",
       "      <td>84.63</td>\n",
       "    </tr>\n",
       "    <tr>\n",
       "      <th>40</th>\n",
       "      <td>SC</td>\n",
       "      <td>4404</td>\n",
       "      <td>4893444.00</td>\n",
       "      <td>90.00</td>\n",
       "    </tr>\n",
       "    <tr>\n",
       "      <th>10</th>\n",
       "      <td>GA</td>\n",
       "      <td>9251</td>\n",
       "      <td>10201635.00</td>\n",
       "      <td>90.68</td>\n",
       "    </tr>\n",
       "    <tr>\n",
       "      <th>9</th>\n",
       "      <td>FL</td>\n",
       "      <td>18679</td>\n",
       "      <td>20278447.00</td>\n",
       "      <td>92.11</td>\n",
       "    </tr>\n",
       "    <tr>\n",
       "      <th>22</th>\n",
       "      <td>MI</td>\n",
       "      <td>9659</td>\n",
       "      <td>9925568.00</td>\n",
       "      <td>97.31</td>\n",
       "    </tr>\n",
       "    <tr>\n",
       "      <th>3</th>\n",
       "      <td>AZ</td>\n",
       "      <td>6687</td>\n",
       "      <td>6809946.00</td>\n",
       "      <td>98.19</td>\n",
       "    </tr>\n",
       "    <tr>\n",
       "      <th>7</th>\n",
       "      <td>DC</td>\n",
       "      <td>685</td>\n",
       "      <td>672391.00</td>\n",
       "      <td>101.88</td>\n",
       "    </tr>\n",
       "    <tr>\n",
       "      <th>14</th>\n",
       "      <td>IL</td>\n",
       "      <td>12992</td>\n",
       "      <td>12743375.00</td>\n",
       "      <td>101.95</td>\n",
       "    </tr>\n",
       "    <tr>\n",
       "      <th>41</th>\n",
       "      <td>SD</td>\n",
       "      <td>948</td>\n",
       "      <td>855444.00</td>\n",
       "      <td>110.82</td>\n",
       "    </tr>\n",
       "    <tr>\n",
       "      <th>39</th>\n",
       "      <td>RI</td>\n",
       "      <td>1300</td>\n",
       "      <td>1056138.00</td>\n",
       "      <td>123.09</td>\n",
       "    </tr>\n",
       "    <tr>\n",
       "      <th>28</th>\n",
       "      <td>ND</td>\n",
       "      <td>954</td>\n",
       "      <td>745475.00</td>\n",
       "      <td>127.97</td>\n",
       "    </tr>\n",
       "    <tr>\n",
       "      <th>25</th>\n",
       "      <td>MS</td>\n",
       "      <td>3836</td>\n",
       "      <td>2986220.00</td>\n",
       "      <td>128.46</td>\n",
       "    </tr>\n",
       "    <tr>\n",
       "      <th>18</th>\n",
       "      <td>LA</td>\n",
       "      <td>6435</td>\n",
       "      <td>4648531.00</td>\n",
       "      <td>138.43</td>\n",
       "    </tr>\n",
       "    <tr>\n",
       "      <th>6</th>\n",
       "      <td>CT</td>\n",
       "      <td>5039</td>\n",
       "      <td>3594478.00</td>\n",
       "      <td>140.19</td>\n",
       "    </tr>\n",
       "    <tr>\n",
       "      <th>19</th>\n",
       "      <td>MA</td>\n",
       "      <td>10770</td>\n",
       "      <td>6789319.00</td>\n",
       "      <td>158.63</td>\n",
       "    </tr>\n",
       "    <tr>\n",
       "      <th>34</th>\n",
       "      <td>NY</td>\n",
       "      <td>34501</td>\n",
       "      <td>19798228.00</td>\n",
       "      <td>174.26</td>\n",
       "    </tr>\n",
       "    <tr>\n",
       "      <th>31</th>\n",
       "      <td>NJ</td>\n",
       "      <td>17083</td>\n",
       "      <td>8960161.00</td>\n",
       "      <td>190.66</td>\n",
       "    </tr>\n",
       "  </tbody>\n",
       "</table>\n",
       "</div>"
      ],
      "text/plain": [
       "   StateCD  Deaths  Population_ACS  Deaths_PER_100K\n",
       "46      VT      72       624636.00            11.53\n",
       "21      ME     214      1330158.00            16.09\n",
       "0       AK     122       737264.00            16.55\n",
       "11      HI     242      1421572.00            17.02\n",
       "44      UT     672      2993941.00            22.45\n",
       "37      OR     936      4025127.00            23.25\n",
       "47      WA    2802      7169967.00            39.08\n",
       "50      WY     230       583200.00            39.44\n",
       "30      NH     527      1331848.00            39.57\n",
       "49      WV     758      1836843.00            41.27\n",
       "17      KY    1943      4424376.00            43.92\n",
       "36      OK    1758      3896251.00            45.12\n",
       "45      VA    3392      6988060.00            48.54\n",
       "4       CA   19304     38982847.00            49.52\n",
       "16      KS    1498      2903820.00            51.59\n",
       "27      NC    5284     10052564.00            52.56\n",
       "24      MO    2746      5075761.00            54.10\n",
       "35      OH    6548     11609756.00            56.40\n",
       "29      NE    1076      1893921.00            56.81\n",
       "5       CO    3109      5436519.00            57.19\n",
       "13      ID     960      1657375.00            57.92\n",
       "48      WI    3611      5763217.00            62.66\n",
       "23      MN    3615      5490726.00            65.84\n",
       "26      MT     698      1029862.00            67.78\n",
       "42      TN    4562      6597381.00            69.15\n",
       "33      NV    2164      2887725.00            74.94\n",
       "1       AL    3638      4850771.00            75.00\n",
       "20      MD    3888      5167442.00            75.24\n",
       "32      NM    1589      2084828.00            76.22\n",
       "12      IA    2449      3118102.00            78.54\n",
       "43      TX   22114     27419612.00            80.65\n",
       "38      PA   10504     12790505.00            82.12\n",
       "8       DE     777       943732.00            82.33\n",
       "2       AR    2512      2977944.00            84.35\n",
       "15      IN    5598      6614418.00            84.63\n",
       "40      SC    4404      4893444.00            90.00\n",
       "10      GA    9251     10201635.00            90.68\n",
       "9       FL   18679     20278447.00            92.11\n",
       "22      MI    9659      9925568.00            97.31\n",
       "3       AZ    6687      6809946.00            98.19\n",
       "7       DC     685       672391.00           101.88\n",
       "14      IL   12992     12743375.00           101.95\n",
       "41      SD     948       855444.00           110.82\n",
       "39      RI    1300      1056138.00           123.09\n",
       "28      ND     954       745475.00           127.97\n",
       "25      MS    3836      2986220.00           128.46\n",
       "18      LA    6435      4648531.00           138.43\n",
       "6       CT    5039      3594478.00           140.19\n",
       "19      MA   10770      6789319.00           158.63\n",
       "34      NY   34501     19798228.00           174.26\n",
       "31      NJ   17083      8960161.00           190.66"
      ]
     },
     "execution_count": 21,
     "metadata": {},
     "output_type": "execute_result"
    }
   ],
   "source": [
    "s2 = statelevel[['Deaths','Population_ACS']].reset_index()\n",
    "s2['Deaths_PER_100K'] = s2['Deaths']/(s2['Population_ACS']/100000)\n",
    "s2.sort_values(by=\"Deaths_PER_100K\")"
   ]
  },
  {
   "cell_type": "markdown",
   "metadata": {},
   "source": [
    "## Yuma Example"
   ]
  },
  {
   "cell_type": "code",
   "execution_count": 22,
   "metadata": {},
   "outputs": [],
   "source": [
    "yuma = combined[combined['locationcol'] == 'Yuma|Arizona']"
   ]
  },
  {
   "cell_type": "code",
   "execution_count": 23,
   "metadata": {},
   "outputs": [
    {
     "data": {
      "text/plain": [
       "Index(['Unnamed: 0', 'Date', 'County_FIPS', 'State Code', 'Name',\n",
       "       'retail_and_recreation_PCT_CFB', 'grocery_and_pharmacy_PCT_CFB',\n",
       "       'parks_PCT_CFB', 'transit_stations_PCT_CFB', 'workplaces_PCT_CFB',\n",
       "       'residential_PCT_CFB', 'retail_and_recreation_PCT_CFB_RollingAvg',\n",
       "       'grocery_and_pharmacy_PCT_CFB_RollingAvg', 'parks_PCT_CFB_RollingAvg',\n",
       "       'transit_stations_PCT_CFB_RollingAvg', 'workplaces_PCT_CFB_RollingAvg',\n",
       "       'residential_PCT_CFB_RollingAvg', 'HS_DIPLOMA_ONLY_2018',\n",
       "       'SOME_COLLEGE_2018', 'BACHELORS_PLUS_2018', 'Poverty_PCT_2018',\n",
       "       'UrbanCD', 'Median_Income_2018', 'Population_ACS',\n",
       "       'Population_Black_ACS', 'Population_Hisp_ACS', 'Population_Native_ACS',\n",
       "       'PCT_Black_ACS', 'PCT_Hisp_ACS', 'PCT_Native_ACS',\n",
       "       'UrbanCD_Description', 'Metro', 'State', 'Confirmed', 'Deaths',\n",
       "       'Country/Region', 'Deaths_Previous', 'Confirmed_Previous', 'Deaths_New',\n",
       "       'Deaths_New_7', 'Deaths_New_14', 'Deaths_New_21', 'Deaths_New_28',\n",
       "       'Confirmed_New', 'locationcol', 'Confirmed_New_RollingAvg',\n",
       "       'Deaths_New_RollingAvg', 'Deaths_New_7_RollingAvg',\n",
       "       'Deaths_New_14_RollingAvg', 'Deaths_New_21_RollingAvg',\n",
       "       'Deaths_New_28_RollingAvg', 'Confirmed_PER_100K', 'Deaths_PER_100K',\n",
       "       'Deaths_Previous_PER_100K', 'Deaths_New_PER_100K',\n",
       "       'Deaths_New_7_PER_100K', 'Deaths_New_14_PER_100K',\n",
       "       'Deaths_New_21_PER_100K', 'Deaths_New_28_PER_100K',\n",
       "       'Confirmed_New_PER_100K', 'Confirmed_New_RollingAvg_PER_100K',\n",
       "       'Deaths_New_RollingAvg_PER_100K', 'Deaths_New_7_RollingAvg_PER_100K',\n",
       "       'Deaths_New_14_RollingAvg_PER_100K',\n",
       "       'Deaths_New_21_RollingAvg_PER_100K',\n",
       "       'Deaths_New_28_RollingAvg_PER_100K', 'Region', 'Division', 'StateCD'],\n",
       "      dtype='object')"
      ]
     },
     "execution_count": 23,
     "metadata": {},
     "output_type": "execute_result"
    }
   ],
   "source": [
    "yuma.columns"
   ]
  },
  {
   "cell_type": "code",
   "execution_count": 24,
   "metadata": {},
   "outputs": [],
   "source": [
    "sns.set(rc={'figure.figsize':(5,4)})"
   ]
  },
  {
   "cell_type": "code",
   "execution_count": 25,
   "metadata": {},
   "outputs": [
    {
     "name": "stderr",
     "output_type": "stream",
     "text": [
      "/Users/philip.ballentine/anaconda3/lib/python3.7/site-packages/ipykernel_launcher.py:3: SettingWithCopyWarning: \n",
      "A value is trying to be set on a copy of a slice from a DataFrame.\n",
      "Try using .loc[row_indexer,col_indexer] = value instead\n",
      "\n",
      "See the caveats in the documentation: https://pandas.pydata.org/pandas-docs/stable/user_guide/indexing.html#returning-a-view-versus-a-copy\n",
      "  This is separate from the ipykernel package so we can avoid doing imports until\n",
      "/Users/philip.ballentine/anaconda3/lib/python3.7/site-packages/ipykernel_launcher.py:7: SettingWithCopyWarning: \n",
      "A value is trying to be set on a copy of a slice from a DataFrame.\n",
      "Try using .loc[row_indexer,col_indexer] = value instead\n",
      "\n",
      "See the caveats in the documentation: https://pandas.pydata.org/pandas-docs/stable/user_guide/indexing.html#returning-a-view-versus-a-copy\n",
      "  import sys\n"
     ]
    }
   ],
   "source": [
    "yuma1 = yuma[['Date','Deaths_New']]\n",
    "yuma1.columns = ['Date','Deaths']\n",
    "yuma1['Type'] = 'Deaths_New'\n",
    "\n",
    "yuma2 = yuma[['Date','Deaths_New_RollingAvg']]\n",
    "yuma2.columns = ['Date','Deaths']\n",
    "yuma2['Type'] = 'Deaths_New_RollingAvg'\n",
    "\n",
    "yuma3 = pd.concat([yuma1,yuma2])"
   ]
  },
  {
   "cell_type": "code",
   "execution_count": 26,
   "metadata": {},
   "outputs": [
    {
     "data": {
      "text/html": [
       "<div>\n",
       "<style scoped>\n",
       "    .dataframe tbody tr th:only-of-type {\n",
       "        vertical-align: middle;\n",
       "    }\n",
       "\n",
       "    .dataframe tbody tr th {\n",
       "        vertical-align: top;\n",
       "    }\n",
       "\n",
       "    .dataframe thead th {\n",
       "        text-align: right;\n",
       "    }\n",
       "</style>\n",
       "<table border=\"1\" class=\"dataframe\">\n",
       "  <thead>\n",
       "    <tr style=\"text-align: right;\">\n",
       "      <th></th>\n",
       "      <th>Date</th>\n",
       "      <th>Deaths</th>\n",
       "      <th>Type</th>\n",
       "    </tr>\n",
       "  </thead>\n",
       "  <tbody>\n",
       "    <tr>\n",
       "      <th>35207</th>\n",
       "      <td>2020-01-22</td>\n",
       "      <td>nan</td>\n",
       "      <td>Deaths_New</td>\n",
       "    </tr>\n",
       "    <tr>\n",
       "      <th>35208</th>\n",
       "      <td>2020-01-23</td>\n",
       "      <td>0.00</td>\n",
       "      <td>Deaths_New</td>\n",
       "    </tr>\n",
       "    <tr>\n",
       "      <th>35209</th>\n",
       "      <td>2020-01-24</td>\n",
       "      <td>0.00</td>\n",
       "      <td>Deaths_New</td>\n",
       "    </tr>\n",
       "    <tr>\n",
       "      <th>35210</th>\n",
       "      <td>2020-01-25</td>\n",
       "      <td>0.00</td>\n",
       "      <td>Deaths_New</td>\n",
       "    </tr>\n",
       "    <tr>\n",
       "      <th>35211</th>\n",
       "      <td>2020-01-26</td>\n",
       "      <td>0.00</td>\n",
       "      <td>Deaths_New</td>\n",
       "    </tr>\n",
       "    <tr>\n",
       "      <th>...</th>\n",
       "      <td>...</td>\n",
       "      <td>...</td>\n",
       "      <td>...</td>\n",
       "    </tr>\n",
       "    <tr>\n",
       "      <th>35525</th>\n",
       "      <td>2020-12-05</td>\n",
       "      <td>3.00</td>\n",
       "      <td>Deaths_New_RollingAvg</td>\n",
       "    </tr>\n",
       "    <tr>\n",
       "      <th>35526</th>\n",
       "      <td>2020-12-06</td>\n",
       "      <td>2.43</td>\n",
       "      <td>Deaths_New_RollingAvg</td>\n",
       "    </tr>\n",
       "    <tr>\n",
       "      <th>35527</th>\n",
       "      <td>2020-12-07</td>\n",
       "      <td>2.43</td>\n",
       "      <td>Deaths_New_RollingAvg</td>\n",
       "    </tr>\n",
       "    <tr>\n",
       "      <th>35528</th>\n",
       "      <td>2020-12-08</td>\n",
       "      <td>2.57</td>\n",
       "      <td>Deaths_New_RollingAvg</td>\n",
       "    </tr>\n",
       "    <tr>\n",
       "      <th>35529</th>\n",
       "      <td>2020-12-09</td>\n",
       "      <td>2.71</td>\n",
       "      <td>Deaths_New_RollingAvg</td>\n",
       "    </tr>\n",
       "  </tbody>\n",
       "</table>\n",
       "<p>646 rows × 3 columns</p>\n",
       "</div>"
      ],
      "text/plain": [
       "             Date  Deaths                   Type\n",
       "35207  2020-01-22     nan             Deaths_New\n",
       "35208  2020-01-23    0.00             Deaths_New\n",
       "35209  2020-01-24    0.00             Deaths_New\n",
       "35210  2020-01-25    0.00             Deaths_New\n",
       "35211  2020-01-26    0.00             Deaths_New\n",
       "...           ...     ...                    ...\n",
       "35525  2020-12-05    3.00  Deaths_New_RollingAvg\n",
       "35526  2020-12-06    2.43  Deaths_New_RollingAvg\n",
       "35527  2020-12-07    2.43  Deaths_New_RollingAvg\n",
       "35528  2020-12-08    2.57  Deaths_New_RollingAvg\n",
       "35529  2020-12-09    2.71  Deaths_New_RollingAvg\n",
       "\n",
       "[646 rows x 3 columns]"
      ]
     },
     "execution_count": 26,
     "metadata": {},
     "output_type": "execute_result"
    }
   ],
   "source": [
    "yuma3"
   ]
  },
  {
   "cell_type": "code",
   "execution_count": 27,
   "metadata": {},
   "outputs": [
    {
     "data": {
      "text/plain": [
       "<seaborn.axisgrid.FacetGrid at 0x1a471e5f10>"
      ]
     },
     "execution_count": 27,
     "metadata": {},
     "output_type": "execute_result"
    },
    {
     "data": {
      "image/png": "[encoded data removed]",
      "text/plain": [
       "<Figure size 630x504 with 2 Axes>"
      ]
     },
     "metadata": {},
     "output_type": "display_data"
    }
   ],
   "source": [
    "plt.rcParams.update({'font.size': 14})\n",
    "plt.style.use(\"dark_background\")\n",
    "sns.set_style({'axes.grid' : False})\n",
    "g = sns.FacetGrid(yuma3, row=\"Type\",  height=3.5, aspect=2.5)\n",
    "g.map(sns.lineplot, \"Date\", \"Deaths\")"
   ]
  },
  {
   "cell_type": "code",
   "execution_count": 28,
   "metadata": {},
   "outputs": [],
   "source": [
    "def regress_two_var(df, X, Y, startdate = \"2020-01-01\", enddate = \"2020-10-01\"):\n",
    "    # Cleaning up the dataframe\n",
    "    df = df[df.Date >= startdate]\n",
    "    df = df[df.Date <= enddate]\n",
    "    df = df[df['{Y}'.format(Y=Y)].isna() == False]\n",
    "    df = df[df['{X}'.format(X=X)].isna() == False]\n",
    "    #dataframe[\"ratio\"] = dataframe['{Y}'.format(Y=Y)]/dataframe['{X}'.format(X=X)]\n",
    "    Xvar =  df['{X}'.format(X=X)].values.reshape(-1, 1) \n",
    "    Xvar1 = sm.add_constant(Xvar) # need to do this for statsmodels for some reason\n",
    "    Yvar = df['{Y}'.format(Y=Y)].values.reshape(-1, 1) \n",
    "    mod = sm.OLS(endog=Yvar,exog=Xvar1)\n",
    "    res = mod.fit()\n",
    "    print(res.summary())\n",
    "    # Graph the regression\n",
    "    linear_regressor = LinearRegression()  # create object for the class\n",
    "    fitted_model = linear_regressor.fit(X=Xvar,y=Yvar)  # perform linear regression\n",
    "    Y_pred = fitted_model.predict(Xvar)  # make predictions\n",
    "    #return fitted_model\n",
    "    plt.figure(figsize=(7,7))\n",
    "    plt.scatter(y=Yvar, x=Xvar)\n",
    "    plt.plot(Xvar, Y_pred, color='red')\n",
    "    plt.title(\"{X} on {Y} Regression\".format(X=X,Y=Y))\n",
    "    plt.show()\n",
    "    #Scatterplot to show data\n",
    "    #sns.scatterplot(y='{Y}'.format(Y=Y),x='{X}'.format(X=X), hue=\"Division\", data=df)"
   ]
  },
  {
   "cell_type": "code",
   "execution_count": 30,
   "metadata": {},
   "outputs": [
    {
     "name": "stdout",
     "output_type": "stream",
     "text": [
      "                            OLS Regression Results                            \n",
      "==============================================================================\n",
      "Dep. Variable:                      y   R-squared:                       0.594\n",
      "Model:                            OLS   Adj. R-squared:                  0.594\n",
      "Method:                 Least Squares   F-statistic:                 1.163e+06\n",
      "Date:                Wed, 16 Dec 2020   Prob (F-statistic):               0.00\n",
      "Time:                        14:28:48   Log-Likelihood:            -8.3529e+06\n",
      "No. Observations:              795274   AIC:                         1.671e+07\n",
      "Df Residuals:                  795272   BIC:                         1.671e+07\n",
      "Df Model:                           1                                         \n",
      "Covariance Type:            nonrobust                                         \n",
      "==============================================================================\n",
      "                 coef    std err          t      P>|t|      [0.025      0.975]\n",
      "------------------------------------------------------------------------------\n",
      "const       7.914e+04     26.394   2998.511      0.000    7.91e+04    7.92e+04\n",
      "x1         -1739.3686      1.613  -1078.216      0.000   -1742.530   -1736.207\n",
      "==============================================================================\n",
      "Omnibus:                   378619.700   Durbin-Watson:                   0.006\n",
      "Prob(Omnibus):                  0.000   Jarque-Bera (JB):          2745084.651\n",
      "Skew:                           2.180   Prob(JB):                         0.00\n",
      "Kurtosis:                      10.990   Cond. No.                         43.8\n",
      "==============================================================================\n",
      "\n",
      "Notes:\n",
      "[1] Standard Errors assume that the covariance matrix of the errors is correctly specified.\n"
     ]
    },
    {
     "data": {
      "image/png": "[encoded data removed]",
      "text/plain": [
       "<Figure size 504x504 with 1 Axes>"
      ]
     },
     "metadata": {},
     "output_type": "display_data"
    }
   ],
   "source": [
    "regress_two_var(df=combined,X=\"Poverty_PCT_2018\",Y=\"Median_Income_2018\")"
   ]
  },
  {
   "cell_type": "code",
   "execution_count": 31,
   "metadata": {},
   "outputs": [],
   "source": [
    "def multivariate_ols(input_df, Y, Xlist):\n",
    "    # Reshape the df to avoid NAs\n",
    "    dataframe = input_df\n",
    "    dataframe = dataframe[dataframe['{Y}'.format(Y=Y)].isna() == False]\n",
    "    # Clean out any rows where one of these is NA -- can lead to data loss\n",
    "    for i in Xlist:\n",
    "        dataframe = dataframe[dataframe[i].isna() == False]\n",
    "    # Check to ensure not too much thrown away\n",
    "    pct_preserved = dataframe.shape[0]/input_df.shape[0]\n",
    "    print(\"{pct} percent of the data preserved as non-NA\".format(pct = 100*round(pct_preserved,2)))\n",
    "    Xvar =  dataframe[Xlist]#.values.reshape(-1, len(Xlist)) \n",
    "    Xvar = sm.add_constant(Xvar)\n",
    "    Yvar = dataframe['{Y}'.format(Y=Y)].values.reshape(-1, 1) \n",
    "    mod = sm.OLS(endog=Yvar,exog=Xvar,)\n",
    "    res = mod.fit()\n",
    "    print(res.summary())\n",
    "    return res"
   ]
  },
  {
   "cell_type": "code",
   "execution_count": 32,
   "metadata": {},
   "outputs": [
    {
     "name": "stdout",
     "output_type": "stream",
     "text": [
      "23.0 percent of the data preserved as non-NA\n",
      "                            OLS Regression Results                            \n",
      "==============================================================================\n",
      "Dep. Variable:                      y   R-squared:                       0.192\n",
      "Model:                            OLS   Adj. R-squared:                  0.192\n",
      "Method:                 Least Squares   F-statistic:                 2.810e+04\n",
      "Date:                Wed, 16 Dec 2020   Prob (F-statistic):               0.00\n",
      "Time:                        14:28:55   Log-Likelihood:            -7.0715e+05\n",
      "No. Observations:              236968   AIC:                         1.414e+06\n",
      "Df Residuals:                  236965   BIC:                         1.414e+06\n",
      "Df Model:                           2                                         \n",
      "Covariance Type:            nonrobust                                         \n",
      "=======================================================================================\n",
      "                          coef    std err          t      P>|t|      [0.025      0.975]\n",
      "---------------------------------------------------------------------------------------\n",
      "const                   1.1311      0.053     21.339      0.000       1.027       1.235\n",
      "BACHELORS_PLUS_2018     0.2278      0.001    213.439      0.000       0.226       0.230\n",
      "Poverty_PCT_2018        0.0118      0.002      5.047      0.000       0.007       0.016\n",
      "==============================================================================\n",
      "Omnibus:                    12025.626   Durbin-Watson:                   0.021\n",
      "Prob(Omnibus):                  0.000   Jarque-Bera (JB):            18473.886\n",
      "Skew:                           0.448   Prob(JB):                         0.00\n",
      "Kurtosis:                       4.034   Cond. No.                         177.\n",
      "==============================================================================\n",
      "\n",
      "Notes:\n",
      "[1] Standard Errors assume that the covariance matrix of the errors is correctly specified.\n"
     ]
    },
    {
     "data": {
      "text/plain": [
       "<statsmodels.regression.linear_model.RegressionResultsWrapper at 0x1a23277590>"
      ]
     },
     "execution_count": 32,
     "metadata": {},
     "output_type": "execute_result"
    }
   ],
   "source": [
    "Xlist = ['BACHELORS_PLUS_2018',\"Poverty_PCT_2018\" ]\n",
    "\n",
    "multivariate_ols(input_df=combined, Y=\"residential_PCT_CFB_RollingAvg\", Xlist=Xlist)"
   ]
  },
  {
   "cell_type": "markdown",
   "metadata": {},
   "source": [
    "## Define list of all candidate predictors and then the possible outcomes"
   ]
  },
  {
   "cell_type": "markdown",
   "metadata": {},
   "source": [
    "## Create list of formulas for all combinations"
   ]
  },
  {
   "cell_type": "code",
   "execution_count": 33,
   "metadata": {},
   "outputs": [],
   "source": [
    "full_predictors = [\n",
    " 'C(Metro)',\n",
    " #'HS_DIPLOMA_ONLY_2018',\n",
    " 'PCT_Black_ACS',\n",
    " #'BACHELORS_PLUS_2018',\n",
    " 'Confirmed_New_RollingAvg_PER_100K',\n",
    " #'workplaces_PCT_CFB',\n",
    " #'residential_PCT_CFB_RollingAvg',\n",
    " 'Poverty_PCT_2018',\n",
    " #'Median_Income_2018',\n",
    " #'C(Region)',\n",
    " 'C(StateCD)',\n",
    "    \n",
    "]\n",
    "\n",
    "Ylist = [#'Deaths_New_7_RollingAvg_PER_100K',\n",
    "         #'Deaths_New_14_RollingAvg_PER_100K',\n",
    "         #'Deaths_New_28_RollingAvg_PER_100K',\n",
    "         #'Deaths_PER_100K'\n",
    "         'Deaths_New_RollingAvg_PER_100K'\n",
    "            ]"
   ]
  },
  {
   "cell_type": "code",
   "execution_count": 34,
   "metadata": {},
   "outputs": [],
   "source": [
    "# https://stackoverflow.com/questions/1482308/how-to-get-all-subsets-of-a-set-powerset\n",
    "from itertools import chain, combinations\n",
    "\n",
    "def powerset(iterable):\n",
    "    \"powerset([1,2,3]) --> () (1,) (2,) (3,) (1,2) (1,3) (2,3) (1,2,3)\"\n",
    "    s = list(iterable)\n",
    "    return set(chain.from_iterable(combinations(s, r) for r in range(len(s)+1)))\n",
    "\n",
    "ps = powerset(full_predictors)\n",
    "ps_list = [list(i) for i in ps]"
   ]
  },
  {
   "cell_type": "code",
   "execution_count": 35,
   "metadata": {},
   "outputs": [],
   "source": [
    "def get_powerset_list_of_text(fp=full_predictors, yl=Ylist):\n",
    "    ps = powerset(fp)\n",
    "    ps_list = [list(i) for i in ps]\n",
    "    textlist = []\n",
    "    for i in ps_list:\n",
    "        text = '|'\n",
    "        for x in i:\n",
    "            text = text+' + '+x\n",
    "        textlist.append(text)\n",
    "    textlist = [i.replace('| +','') for i in textlist if len(i) > 3] \n",
    "    full_form_list = []\n",
    "    for i in textlist:\n",
    "        for y in yl:\n",
    "            full_form_list.append(y+\" ~ \"+i)\n",
    "    print(\"The full list for {x} predictors and {y} outcome variables is {z} formulas long\".format(x=str(len(fp)), y=str(len(yl)),z=str(len(full_form_list))) )\n",
    "    return full_form_list\n",
    "    "
   ]
  },
  {
   "cell_type": "code",
   "execution_count": 36,
   "metadata": {},
   "outputs": [
    {
     "name": "stdout",
     "output_type": "stream",
     "text": [
      "The full list for 5 predictors and 1 outcome variables is 31 formulas long\n"
     ]
    }
   ],
   "source": [
    "full_form_list = get_powerset_list_of_text(full_predictors, Ylist)"
   ]
  },
  {
   "cell_type": "code",
   "execution_count": 37,
   "metadata": {},
   "outputs": [],
   "source": [
    "full_form_list\n",
    "samp_list = full_form_list[0:50]"
   ]
  },
  {
   "cell_type": "code",
   "execution_count": null,
   "metadata": {},
   "outputs": [],
   "source": [
    "#combined['Date_2'] = combined['Date'].astype('datetime64[ns]')\n",
    "#combined['Month'] = combined['Date_2'].dt.month"
   ]
  },
  {
   "cell_type": "markdown",
   "metadata": {},
   "source": [
    "## Define a Function for Formula-Based OLS"
   ]
  },
  {
   "cell_type": "code",
   "execution_count": 38,
   "metadata": {},
   "outputs": [],
   "source": [
    "def start_end_mulivariate_ols(formulatxt, startdate=\"2020-06-01\", enddate=\"2020-12-09\", df=combined):\n",
    "    segmented = df[df.Date > startdate]\n",
    "    segmented = segmented[segmented.Date < enddate]\n",
    "    mod = smf.ols(formula=formulatxt , data=segmented, missing='drop')\n",
    "    res = mod.fit()\n",
    "    #print(res.summary())\n",
    "    return res"
   ]
  },
  {
   "cell_type": "code",
   "execution_count": 39,
   "metadata": {},
   "outputs": [
    {
     "name": "stdout",
     "output_type": "stream",
     "text": [
      "                            OLS Regression Results                            \n",
      "==============================================================================\n",
      "Dep. Variable:        Deaths_PER_100K   R-squared:                       0.417\n",
      "Model:                            OLS   Adj. R-squared:                  0.417\n",
      "Method:                 Least Squares   F-statistic:                     2028.\n",
      "Date:                Wed, 16 Dec 2020   Prob (F-statistic):               0.00\n",
      "Time:                        14:29:55   Log-Likelihood:            -8.0348e+05\n",
      "No. Observations:              161394   AIC:                         1.607e+06\n",
      "Df Residuals:                  161336   BIC:                         1.608e+06\n",
      "Df Model:                          57                                         \n",
      "Covariance Type:            nonrobust                                         \n",
      "==================================================================================================\n",
      "                                     coef    std err          t      P>|t|      [0.025      0.975]\n",
      "--------------------------------------------------------------------------------------------------\n",
      "Intercept                         -9.9360      1.563     -6.356      0.000     -13.000      -6.872\n",
      "C(StateCD)[T.AL]                   4.1163      1.622      2.538      0.011       0.938       7.295\n",
      "C(StateCD)[T.AR]                   8.7973      1.707      5.153      0.000       5.451      12.143\n",
      "C(StateCD)[T.AZ]                  53.4172      1.742     30.671      0.000      50.004      56.831\n",
      "C(StateCD)[T.CA]                  -6.2591      1.585     -3.948      0.000      -9.367      -3.152\n",
      "C(StateCD)[T.CO]                  14.0558      1.679      8.370      0.000      10.764      17.347\n",
      "C(StateCD)[T.CT]                  74.0561      1.778     41.640      0.000      70.570      77.542\n",
      "C(StateCD)[T.DC]                  20.9758      3.057      6.861      0.000      14.984      26.968\n",
      "C(StateCD)[T.DE]                  40.5685      2.143     18.928      0.000      36.368      44.769\n",
      "C(StateCD)[T.FL]                  19.1872      1.575     12.180      0.000      16.100      22.275\n",
      "C(StateCD)[T.GA]                  13.4942      1.596      8.456      0.000      10.366      16.622\n",
      "C(StateCD)[T.HI]                 -10.8072      2.095     -5.159      0.000     -14.913      -6.702\n",
      "C(StateCD)[T.IA]                  24.2286      1.710     14.166      0.000      20.876      27.581\n",
      "C(StateCD)[T.ID]                  13.3827      1.802      7.426      0.000       9.851      16.915\n",
      "C(StateCD)[T.IL]                  14.9007      1.610      9.258      0.000      11.746      18.055\n",
      "C(StateCD)[T.IN]                  25.0011      1.602     15.602      0.000      21.860      28.142\n",
      "C(StateCD)[T.KS]                  -1.9402      1.752     -1.108      0.268      -5.374       1.493\n",
      "C(StateCD)[T.KY]                  -4.4491      1.671     -2.662      0.008      -7.725      -1.173\n",
      "C(StateCD)[T.LA]                  53.0313      1.662     31.917      0.000      49.775      56.288\n",
      "C(StateCD)[T.MA]                  96.2428      1.710     56.290      0.000      92.892      99.594\n",
      "C(StateCD)[T.MD]                  21.5251      1.681     12.804      0.000      18.230      24.820\n",
      "C(StateCD)[T.ME]                  -6.0107      1.834     -3.278      0.001      -9.604      -2.417\n",
      "C(StateCD)[T.MI]                  17.0523      1.591     10.721      0.000      13.935      20.170\n",
      "C(StateCD)[T.MN]                   7.5335      1.663      4.530      0.000       4.274      10.793\n",
      "C(StateCD)[T.MO]                  -1.2031      1.633     -0.737      0.461      -4.403       1.997\n",
      "C(StateCD)[T.MS]                  25.3344      1.787     14.180      0.000      21.833      28.836\n",
      "C(StateCD)[T.MT]                   1.6201      1.879      0.862      0.389      -2.063       5.303\n",
      "C(StateCD)[T.NC]                   2.3581      1.576      1.497      0.134      -0.730       5.446\n",
      "C(StateCD)[T.ND]                  32.0598      2.035     15.758      0.000      28.072      36.047\n",
      "C(StateCD)[T.NE]                  13.9381      1.947      7.159      0.000      10.122      17.754\n",
      "C(StateCD)[T.NH]                   9.4289      1.842      5.119      0.000       5.819      13.039\n",
      "C(StateCD)[T.NJ]                 128.8976      1.637     78.746      0.000     125.689     132.106\n",
      "C(StateCD)[T.NM]                  12.4132      1.758      7.061      0.000       8.968      15.859\n",
      "C(StateCD)[T.NV]                  11.3555      1.991      5.703      0.000       7.453      15.258\n",
      "C(StateCD)[T.NY]                  47.8182      1.583     30.209      0.000      44.716      50.921\n",
      "C(StateCD)[T.OH]                  12.2719      1.575      7.793      0.000       9.185      15.358\n",
      "C(StateCD)[T.OK]                  -1.2111      1.664     -0.728      0.467      -4.472       2.050\n",
      "C(StateCD)[T.OR]                 -12.5551      1.648     -7.619      0.000     -15.785      -9.325\n",
      "C(StateCD)[T.PA]                  23.4033      1.576     14.845      0.000      20.313      26.493\n",
      "C(StateCD)[T.RI]                  47.1534      2.073     22.743      0.000      43.090      51.217\n",
      "C(StateCD)[T.SC]                  19.2311      1.633     11.775      0.000      16.030      22.432\n",
      "C(StateCD)[T.SD]                  23.7568      2.303     10.317      0.000      19.243      28.270\n",
      "C(StateCD)[T.TN]                   4.1357      1.605      2.577      0.010       0.991       7.281\n",
      "C(StateCD)[T.TX]                  14.7147      1.566      9.397      0.000      11.646      17.784\n",
      "C(StateCD)[T.UT]                  -4.2375      1.781     -2.380      0.017      -7.727      -0.748\n",
      "C(StateCD)[T.VA]                  -3.4066      1.611     -2.115      0.034      -6.564      -0.249\n",
      "C(StateCD)[T.VT]                   1.8864      2.550      0.740      0.460      -3.112       6.885\n",
      "C(StateCD)[T.WA]                   5.7003      1.629      3.500      0.000       2.508       8.892\n",
      "C(StateCD)[T.WI]                   9.1557      1.601      5.717      0.000       6.017      12.294\n",
      "C(StateCD)[T.WV]                 -12.6108      1.810     -6.967      0.000     -16.159      -9.063\n",
      "C(StateCD)[T.WY]                   0.6489      2.131      0.305      0.761      -3.527       4.825\n",
      "C(Metro)[T.Micropolitan]         -11.9781      0.332    -36.089      0.000     -12.629     -11.328\n",
      "C(Metro)[T.Noncore_adjacent]       2.2195      0.707      3.138      0.002       0.833       3.606\n",
      "C(Metro)[T.Noncore_remote]       -19.6774      3.020     -6.515      0.000     -25.597     -13.757\n",
      "C(Metro)[T.Smaller_metro]        -16.9371      0.247    -68.512      0.000     -17.422     -16.453\n",
      "residential_PCT_CFB_RollingAvg     1.0972      0.034     32.584      0.000       1.031       1.163\n",
      "Poverty_PCT_2018                   2.7227      0.026    104.062      0.000       2.671       2.774\n",
      "PCT_Black_ACS                      0.3603      0.011     32.654      0.000       0.339       0.382\n",
      "==============================================================================\n",
      "Omnibus:                    56901.242   Durbin-Watson:                   0.026\n",
      "Prob(Omnibus):                  0.000   Jarque-Bera (JB):           368009.032\n",
      "Skew:                           1.550   Prob(JB):                         0.00\n",
      "Kurtosis:                       9.716   Cond. No.                     2.58e+03\n",
      "==============================================================================\n",
      "\n",
      "Notes:\n",
      "[1] Standard Errors assume that the covariance matrix of the errors is correctly specified.\n",
      "[2] The condition number is large, 2.58e+03. This might indicate that there are\n",
      "strong multicollinearity or other numerical problems.\n"
     ]
    }
   ],
   "source": [
    "mod1 = start_end_mulivariate_ols(startdate = \"2020-06-01\", enddate = \"2020-12-01\", formulatxt=\"\"\"\n",
    "Deaths_PER_100K ~ residential_PCT_CFB_RollingAvg + Poverty_PCT_2018 + C(StateCD) + PCT_Black_ACS + C(Metro)\"\"\")\n",
    "print(mod1.summary())"
   ]
  },
  {
   "cell_type": "markdown",
   "metadata": {},
   "source": [
    "## Test Formula for OLS"
   ]
  },
  {
   "cell_type": "code",
   "execution_count": 57,
   "metadata": {},
   "outputs": [],
   "source": [
    "# Construct monthly daterange tuples\n",
    "\n",
    "every_month = []\n",
    "for i in range(4,9):\n",
    "    a = '2020-0{c}-01'.format(c=i)\n",
    "    b = '2020-0{c}-01'.format(c=i+1)\n",
    "    every_month.append((a,b))\n",
    "every_month.append(('2020-09-01','2020-10-01'))\n",
    "every_month.append(('2020-10-01','2020-11-01'))\n",
    "for i in range(10,12):\n",
    "    a = '2020-{c}-01'.format(c=i)\n",
    "    b = '2020-{c}-01'.format(c=i+1)\n",
    "every_month.append((a,b))"
   ]
  },
  {
   "cell_type": "code",
   "execution_count": 58,
   "metadata": {},
   "outputs": [],
   "source": [
    "every_3month =[\n",
    " ('2020-04-01', '2020-07-01'),\n",
    " ('2020-05-01', '2020-08-01'),\n",
    " ('2020-06-01', '2020-09-01'),\n",
    " ('2020-07-01', '2020-10-01'),\n",
    " ('2020-08-01', '2020-11-01'),\n",
    " ('2020-09-01', '2020-12-01'),\n",
    "]\n"
   ]
  },
  {
   "cell_type": "code",
   "execution_count": 59,
   "metadata": {},
   "outputs": [],
   "source": [
    "jun_dec =  [('2020-09-01', '2020-12-01')]"
   ]
  },
  {
   "cell_type": "code",
   "execution_count": 44,
   "metadata": {},
   "outputs": [],
   "source": [
    "#dir(mod1)"
   ]
  },
  {
   "cell_type": "markdown",
   "metadata": {},
   "source": [
    "## Function for running model and then graphing it over the different dateranges"
   ]
  },
  {
   "cell_type": "code",
   "execution_count": 45,
   "metadata": {},
   "outputs": [],
   "source": [
    "def run_timeseries_models(formulatxt, list_dateranges, df):\n",
    "    list_results = []\n",
    "    for i in list_dateranges:\n",
    "        res = start_end_mulivariate_ols(formulatxt = formulatxt, startdate = i[0], enddate = i[1], df=df)\n",
    "        name = i[0]+\"-\"+i[1]\n",
    "        list_results.append({\"model\":res,\"start\":i[0], \"end\":i[1]})\n",
    "    \n",
    "    resultslist = [{\"bic\":i['model'].bic, \n",
    "                    \"aic\":i['model'].aic, \n",
    "                    \"start\":i['start'], \n",
    "                    \"end\":i['end'], \n",
    "                    \"r2_adj\":i[\"model\"].rsquared_adj,\n",
    "                    \"formula\":formulatxt,\n",
    "                    \"n_obs\":i['model'].nobs\n",
    "                     } for i in list_results]\n",
    "    return pd.DataFrame.from_dict(resultslist)\n",
    "    \n",
    "    \n",
    "    \n",
    "    "
   ]
  },
  {
   "cell_type": "code",
   "execution_count": 46,
   "metadata": {},
   "outputs": [],
   "source": [
    "formulatxt = \"Deaths_New_21_RollingAvg_PER_100K ~  residential_PCT_CFB_RollingAvg + C(StateCD)\"\n",
    "\n",
    "df = run_timeseries_models(formulatxt=formulatxt, list_dateranges=every_month, df=combined)"
   ]
  },
  {
   "cell_type": "code",
   "execution_count": 47,
   "metadata": {},
   "outputs": [
    {
     "data": {
      "text/html": [
       "<div>\n",
       "<style scoped>\n",
       "    .dataframe tbody tr th:only-of-type {\n",
       "        vertical-align: middle;\n",
       "    }\n",
       "\n",
       "    .dataframe tbody tr th {\n",
       "        vertical-align: top;\n",
       "    }\n",
       "\n",
       "    .dataframe thead th {\n",
       "        text-align: right;\n",
       "    }\n",
       "</style>\n",
       "<table border=\"1\" class=\"dataframe\">\n",
       "  <thead>\n",
       "    <tr style=\"text-align: right;\">\n",
       "      <th></th>\n",
       "      <th>bic</th>\n",
       "      <th>aic</th>\n",
       "      <th>start</th>\n",
       "      <th>end</th>\n",
       "      <th>r2_adj</th>\n",
       "      <th>formula</th>\n",
       "      <th>n_obs</th>\n",
       "    </tr>\n",
       "  </thead>\n",
       "  <tbody>\n",
       "    <tr>\n",
       "      <th>0</th>\n",
       "      <td>27672.44</td>\n",
       "      <td>27267.95</td>\n",
       "      <td>2020-04-01</td>\n",
       "      <td>2020-05-01</td>\n",
       "      <td>0.50</td>\n",
       "      <td>Deaths_New_21_RollingAvg_PER_100K ~  residenti...</td>\n",
       "      <td>17654.00</td>\n",
       "    </tr>\n",
       "    <tr>\n",
       "      <th>1</th>\n",
       "      <td>11521.31</td>\n",
       "      <td>11109.64</td>\n",
       "      <td>2020-05-01</td>\n",
       "      <td>2020-06-01</td>\n",
       "      <td>0.27</td>\n",
       "      <td>Deaths_New_21_RollingAvg_PER_100K ~  residenti...</td>\n",
       "      <td>20268.00</td>\n",
       "    </tr>\n",
       "    <tr>\n",
       "      <th>2</th>\n",
       "      <td>9608.55</td>\n",
       "      <td>9194.51</td>\n",
       "      <td>2020-06-01</td>\n",
       "      <td>2020-07-01</td>\n",
       "      <td>0.23</td>\n",
       "      <td>Deaths_New_21_RollingAvg_PER_100K ~  residenti...</td>\n",
       "      <td>21212.00</td>\n",
       "    </tr>\n",
       "    <tr>\n",
       "      <th>3</th>\n",
       "      <td>15090.70</td>\n",
       "      <td>14675.40</td>\n",
       "      <td>2020-07-01</td>\n",
       "      <td>2020-08-01</td>\n",
       "      <td>0.35</td>\n",
       "      <td>Deaths_New_21_RollingAvg_PER_100K ~  residenti...</td>\n",
       "      <td>21732.00</td>\n",
       "    </tr>\n",
       "    <tr>\n",
       "      <th>4</th>\n",
       "      <td>13754.51</td>\n",
       "      <td>13331.99</td>\n",
       "      <td>2020-08-01</td>\n",
       "      <td>2020-09-01</td>\n",
       "      <td>0.22</td>\n",
       "      <td>Deaths_New_21_RollingAvg_PER_100K ~  residenti...</td>\n",
       "      <td>24967.00</td>\n",
       "    </tr>\n",
       "    <tr>\n",
       "      <th>5</th>\n",
       "      <td>14643.36</td>\n",
       "      <td>14219.12</td>\n",
       "      <td>2020-09-01</td>\n",
       "      <td>2020-10-01</td>\n",
       "      <td>0.15</td>\n",
       "      <td>Deaths_New_21_RollingAvg_PER_100K ~  residenti...</td>\n",
       "      <td>25808.00</td>\n",
       "    </tr>\n",
       "    <tr>\n",
       "      <th>6</th>\n",
       "      <td>41450.55</td>\n",
       "      <td>41014.98</td>\n",
       "      <td>2020-10-01</td>\n",
       "      <td>2020-11-01</td>\n",
       "      <td>0.16</td>\n",
       "      <td>Deaths_New_21_RollingAvg_PER_100K ~  residenti...</td>\n",
       "      <td>32091.00</td>\n",
       "    </tr>\n",
       "    <tr>\n",
       "      <th>7</th>\n",
       "      <td>34925.92</td>\n",
       "      <td>34520.35</td>\n",
       "      <td>2020-11-01</td>\n",
       "      <td>2020-12-01</td>\n",
       "      <td>0.23</td>\n",
       "      <td>Deaths_New_21_RollingAvg_PER_100K ~  residenti...</td>\n",
       "      <td>18021.00</td>\n",
       "    </tr>\n",
       "    <tr>\n",
       "      <th>8</th>\n",
       "      <td>191316.15</td>\n",
       "      <td>190800.82</td>\n",
       "      <td>2020-06-01</td>\n",
       "      <td>2020-12-01</td>\n",
       "      <td>0.07</td>\n",
       "      <td>Deaths_New_21_RollingAvg_PER_100K ~  residenti...</td>\n",
       "      <td>148764.00</td>\n",
       "    </tr>\n",
       "  </tbody>\n",
       "</table>\n",
       "</div>"
      ],
      "text/plain": [
       "        bic       aic       start         end  r2_adj  \\\n",
       "0  27672.44  27267.95  2020-04-01  2020-05-01    0.50   \n",
       "1  11521.31  11109.64  2020-05-01  2020-06-01    0.27   \n",
       "2   9608.55   9194.51  2020-06-01  2020-07-01    0.23   \n",
       "3  15090.70  14675.40  2020-07-01  2020-08-01    0.35   \n",
       "4  13754.51  13331.99  2020-08-01  2020-09-01    0.22   \n",
       "5  14643.36  14219.12  2020-09-01  2020-10-01    0.15   \n",
       "6  41450.55  41014.98  2020-10-01  2020-11-01    0.16   \n",
       "7  34925.92  34520.35  2020-11-01  2020-12-01    0.23   \n",
       "8 191316.15 190800.82  2020-06-01  2020-12-01    0.07   \n",
       "\n",
       "                                             formula     n_obs  \n",
       "0  Deaths_New_21_RollingAvg_PER_100K ~  residenti...  17654.00  \n",
       "1  Deaths_New_21_RollingAvg_PER_100K ~  residenti...  20268.00  \n",
       "2  Deaths_New_21_RollingAvg_PER_100K ~  residenti...  21212.00  \n",
       "3  Deaths_New_21_RollingAvg_PER_100K ~  residenti...  21732.00  \n",
       "4  Deaths_New_21_RollingAvg_PER_100K ~  residenti...  24967.00  \n",
       "5  Deaths_New_21_RollingAvg_PER_100K ~  residenti...  25808.00  \n",
       "6  Deaths_New_21_RollingAvg_PER_100K ~  residenti...  32091.00  \n",
       "7  Deaths_New_21_RollingAvg_PER_100K ~  residenti...  18021.00  \n",
       "8  Deaths_New_21_RollingAvg_PER_100K ~  residenti... 148764.00  "
      ]
     },
     "execution_count": 47,
     "metadata": {},
     "output_type": "execute_result"
    }
   ],
   "source": [
    "df"
   ]
  },
  {
   "cell_type": "markdown",
   "metadata": {},
   "source": [
    "## Run model and return dataframe showing the BIC, AIC, and R Squared"
   ]
  },
  {
   "cell_type": "code",
   "execution_count": 60,
   "metadata": {},
   "outputs": [],
   "source": [
    "def graph_bic_adj2_TS(formulatxt, list_dateranges, df):\n",
    "    df_graph = run_timeseries_models(formulatxt=formulatxt, list_dateranges=list_dateranges, df=df)\n",
    "    plt.figure(figsize=(12,6))\n",
    "    ax = sns.lineplot(x=\"start\", y=\"bic\", label=\"BIC\", data=df_graph)\n",
    "    plt.legend(loc=\"upper left\")\n",
    "    ax2 = ax.twinx()\n",
    "    ax2 = sns.lineplot(x=\"start\", y=\"r2_adj\", label=\"R2_ADJ\", color='red', data=df_graph)\n",
    "    plt.title(\"BIC vs R2_ADJ\")\n",
    "    plt.legend(loc=\"upper right\")\n",
    "    print(formulatxt)\n",
    "    print()"
   ]
  },
  {
   "cell_type": "code",
   "execution_count": 61,
   "metadata": {},
   "outputs": [
    {
     "data": {
      "text/plain": [
       "Index(['Unnamed: 0', 'Date', 'County_FIPS', 'State Code', 'Name',\n",
       "       'retail_and_recreation_PCT_CFB', 'grocery_and_pharmacy_PCT_CFB',\n",
       "       'parks_PCT_CFB', 'transit_stations_PCT_CFB', 'workplaces_PCT_CFB',\n",
       "       'residential_PCT_CFB', 'retail_and_recreation_PCT_CFB_RollingAvg',\n",
       "       'grocery_and_pharmacy_PCT_CFB_RollingAvg', 'parks_PCT_CFB_RollingAvg',\n",
       "       'transit_stations_PCT_CFB_RollingAvg', 'workplaces_PCT_CFB_RollingAvg',\n",
       "       'residential_PCT_CFB_RollingAvg', 'HS_DIPLOMA_ONLY_2018',\n",
       "       'SOME_COLLEGE_2018', 'BACHELORS_PLUS_2018', 'Poverty_PCT_2018',\n",
       "       'UrbanCD', 'Median_Income_2018', 'Population_ACS',\n",
       "       'Population_Black_ACS', 'Population_Hisp_ACS', 'Population_Native_ACS',\n",
       "       'PCT_Black_ACS', 'PCT_Hisp_ACS', 'PCT_Native_ACS',\n",
       "       'UrbanCD_Description', 'Metro', 'State', 'Confirmed', 'Deaths',\n",
       "       'Country/Region', 'Deaths_Previous', 'Confirmed_Previous', 'Deaths_New',\n",
       "       'Deaths_New_7', 'Deaths_New_14', 'Deaths_New_21', 'Deaths_New_28',\n",
       "       'Confirmed_New', 'locationcol', 'Confirmed_New_RollingAvg',\n",
       "       'Deaths_New_RollingAvg', 'Deaths_New_7_RollingAvg',\n",
       "       'Deaths_New_14_RollingAvg', 'Deaths_New_21_RollingAvg',\n",
       "       'Deaths_New_28_RollingAvg', 'Confirmed_PER_100K', 'Deaths_PER_100K',\n",
       "       'Deaths_Previous_PER_100K', 'Deaths_New_PER_100K',\n",
       "       'Deaths_New_7_PER_100K', 'Deaths_New_14_PER_100K',\n",
       "       'Deaths_New_21_PER_100K', 'Deaths_New_28_PER_100K',\n",
       "       'Confirmed_New_PER_100K', 'Confirmed_New_RollingAvg_PER_100K',\n",
       "       'Deaths_New_RollingAvg_PER_100K', 'Deaths_New_7_RollingAvg_PER_100K',\n",
       "       'Deaths_New_14_RollingAvg_PER_100K',\n",
       "       'Deaths_New_21_RollingAvg_PER_100K',\n",
       "       'Deaths_New_28_RollingAvg_PER_100K', 'Region', 'Division', 'StateCD'],\n",
       "      dtype='object')"
      ]
     },
     "execution_count": 61,
     "metadata": {},
     "output_type": "execute_result"
    }
   ],
   "source": [
    "combined.columns"
   ]
  },
  {
   "cell_type": "code",
   "execution_count": 62,
   "metadata": {},
   "outputs": [],
   "source": [
    "plt.rcParams.update({\"grid.linewidth\":0.5, \"grid.alpha\":0.5})\n",
    "sns.set(style=\"ticks\", context=\"talk\")\n",
    "plt.style.use(\"dark_background\")"
   ]
  },
  {
   "cell_type": "code",
   "execution_count": 63,
   "metadata": {},
   "outputs": [
    {
     "name": "stdout",
     "output_type": "stream",
     "text": [
      "residential_PCT_CFB_RollingAvg ~ Poverty_PCT_2018 + C(StateCD) + C(Metro) + Deaths_PER_100K\n",
      "\n"
     ]
    },
    {
     "data": {
      "image/png": "[encoded data removed]",
      "text/plain": [
       "<Figure size 864x432 with 2 Axes>"
      ]
     },
     "metadata": {},
     "output_type": "display_data"
    }
   ],
   "source": [
    "formula1 = \"\"\"residential_PCT_CFB_RollingAvg ~ Poverty_PCT_2018 + C(StateCD) + C(Metro) + Deaths_PER_100K\"\"\"\n",
    "\n",
    "graph_bic_adj2_TS(formulatxt=formula1, list_dateranges=every_month, df=combined)"
   ]
  },
  {
   "cell_type": "code",
   "execution_count": 64,
   "metadata": {},
   "outputs": [
    {
     "name": "stdout",
     "output_type": "stream",
     "text": [
      "                                  OLS Regression Results                                  \n",
      "==========================================================================================\n",
      "Dep. Variable:     residential_PCT_CFB_RollingAvg   R-squared:                       0.394\n",
      "Model:                                        OLS   Adj. R-squared:                  0.394\n",
      "Method:                             Least Squares   F-statistic:                     1872.\n",
      "Date:                            Wed, 16 Dec 2020   Prob (F-statistic):               0.00\n",
      "Time:                                    14:32:43   Log-Likelihood:            -3.8459e+05\n",
      "No. Observations:                          161394   AIC:                         7.693e+05\n",
      "Df Residuals:                              161337   BIC:                         7.699e+05\n",
      "Df Model:                                      56                                         \n",
      "Covariance Type:                        nonrobust                                         \n",
      "================================================================================================\n",
      "                                   coef    std err          t      P>|t|      [0.025      0.975]\n",
      "------------------------------------------------------------------------------------------------\n",
      "Intercept                        8.2166      0.115     71.594      0.000       7.992       8.442\n",
      "C(StateCD)[T.AL]                -0.2404      0.121     -1.990      0.047      -0.477      -0.004\n",
      "C(StateCD)[T.AR]                 0.1006      0.127      0.790      0.430      -0.149       0.350\n",
      "C(StateCD)[T.AZ]                 1.8753      0.130     14.452      0.000       1.621       2.130\n",
      "C(StateCD)[T.CA]                 3.5213      0.118     29.899      0.000       3.290       3.752\n",
      "C(StateCD)[T.CO]                 2.1102      0.125     16.858      0.000       1.865       2.355\n",
      "C(StateCD)[T.CT]                 1.1998      0.133      8.995      0.000       0.938       1.461\n",
      "C(StateCD)[T.DC]                 8.0837      0.226     35.724      0.000       7.640       8.527\n",
      "C(StateCD)[T.DE]                 0.6821      0.160      4.267      0.000       0.369       0.995\n",
      "C(StateCD)[T.FL]                 0.9406      0.118      8.001      0.000       0.710       1.171\n",
      "C(StateCD)[T.GA]                 0.6705      0.118      5.664      0.000       0.438       0.903\n",
      "C(StateCD)[T.HI]                 6.7715      0.155     43.594      0.000       6.467       7.076\n",
      "C(StateCD)[T.IA]                 0.9884      0.128      7.743      0.000       0.738       1.239\n",
      "C(StateCD)[T.ID]                -1.4146      0.134    -10.526      0.000      -1.678      -1.151\n",
      "C(StateCD)[T.IL]                 0.7948      0.120      6.618      0.000       0.559       1.030\n",
      "C(StateCD)[T.IN]                -0.9428      0.120     -7.883      0.000      -1.177      -0.708\n",
      "C(StateCD)[T.KS]                 0.6356      0.131      4.863      0.000       0.379       0.892\n",
      "C(StateCD)[T.KY]                 0.5677      0.125      4.553      0.000       0.323       0.812\n",
      "C(StateCD)[T.LA]                -0.1739      0.124     -1.404      0.160      -0.417       0.069\n",
      "C(StateCD)[T.MA]                 2.2961      0.129     17.850      0.000       2.044       2.548\n",
      "C(StateCD)[T.MD]                 2.8842      0.125     23.099      0.000       2.639       3.129\n",
      "C(StateCD)[T.ME]                 0.5844      0.137      4.273      0.000       0.316       0.852\n",
      "C(StateCD)[T.MI]                 0.3629      0.119      3.057      0.002       0.130       0.596\n",
      "C(StateCD)[T.MN]                 1.8458      0.124     14.888      0.000       1.603       2.089\n",
      "C(StateCD)[T.MO]                -1.0260      0.122     -8.424      0.000      -1.265      -0.787\n",
      "C(StateCD)[T.MS]                -0.1594      0.132     -1.204      0.229      -0.419       0.100\n",
      "C(StateCD)[T.MT]                -0.6430      0.140     -4.588      0.000      -0.918      -0.368\n",
      "C(StateCD)[T.NC]                 0.5662      0.117      4.825      0.000       0.336       0.796\n",
      "C(StateCD)[T.ND]                 0.5023      0.152      3.307      0.001       0.205       0.800\n",
      "C(StateCD)[T.NE]                 1.3786      0.145      9.491      0.000       1.094       1.663\n",
      "C(StateCD)[T.NH]                 1.5519      0.137     11.297      0.000       1.283       1.821\n",
      "C(StateCD)[T.NJ]                 1.7134      0.124     13.775      0.000       1.470       1.957\n",
      "C(StateCD)[T.NM]                 4.5358      0.130     34.825      0.000       4.281       4.791\n",
      "C(StateCD)[T.NV]                 1.3334      0.149      8.978      0.000       1.042       1.624\n",
      "C(StateCD)[T.NY]                 1.1487      0.118      9.704      0.000       0.917       1.381\n",
      "C(StateCD)[T.OH]                -0.4727      0.118     -4.023      0.000      -0.703      -0.242\n",
      "C(StateCD)[T.OK]                -0.0906      0.124     -0.730      0.465      -0.334       0.153\n",
      "C(StateCD)[T.OR]                 0.8913      0.123      7.259      0.000       0.651       1.132\n",
      "C(StateCD)[T.PA]                 0.3435      0.118      2.919      0.004       0.113       0.574\n",
      "C(StateCD)[T.RI]                -0.2011      0.155     -1.299      0.194      -0.504       0.102\n",
      "C(StateCD)[T.SC]                 0.5038      0.121      4.153      0.000       0.266       0.742\n",
      "C(StateCD)[T.SD]                -0.5432      0.172     -3.161      0.002      -0.880      -0.206\n",
      "C(StateCD)[T.TN]                -0.6086      0.120     -5.083      0.000      -0.843      -0.374\n",
      "C(StateCD)[T.TX]                 1.6398      0.117     14.045      0.000       1.411       1.869\n",
      "C(StateCD)[T.UT]                 0.6880      0.133      5.180      0.000       0.428       0.948\n",
      "C(StateCD)[T.VA]                 1.9139      0.120     15.984      0.000       1.679       2.149\n",
      "C(StateCD)[T.VT]                 4.1840      0.190     22.023      0.000       3.812       4.556\n",
      "C(StateCD)[T.WA]                 1.1135      0.121      9.171      0.000       0.876       1.351\n",
      "C(StateCD)[T.WI]                 0.9334      0.119      7.813      0.000       0.699       1.168\n",
      "C(StateCD)[T.WV]                 0.8088      0.135      5.993      0.000       0.544       1.073\n",
      "C(StateCD)[T.WY]                -1.2198      0.159     -7.675      0.000      -1.531      -0.908\n",
      "C(Metro)[T.Micropolitan]        -3.6584      0.022   -164.728      0.000      -3.702      -3.615\n",
      "C(Metro)[T.Noncore_adjacent]    -4.4670      0.051    -87.534      0.000      -4.567      -4.367\n",
      "C(Metro)[T.Noncore_remote]      -5.4119      0.225    -24.063      0.000      -5.853      -4.971\n",
      "C(Metro)[T.Smaller_metro]       -2.1183      0.017   -121.279      0.000      -2.153      -2.084\n",
      "Poverty_PCT_2018                -0.0728      0.002    -41.022      0.000      -0.076      -0.069\n",
      "Deaths_PER_100K                  0.0071      0.000     38.333      0.000       0.007       0.007\n",
      "==============================================================================\n",
      "Omnibus:                    19848.456   Durbin-Watson:                   0.046\n",
      "Prob(Omnibus):                  0.000   Jarque-Bera (JB):           140050.600\n",
      "Skew:                           0.378   Prob(JB):                         0.00\n",
      "Kurtosis:                       7.501   Cond. No.                     8.04e+03\n",
      "==============================================================================\n",
      "\n",
      "Notes:\n",
      "[1] Standard Errors assume that the covariance matrix of the errors is correctly specified.\n",
      "[2] The condition number is large, 8.04e+03. This might indicate that there are\n",
      "strong multicollinearity or other numerical problems.\n"
     ]
    }
   ],
   "source": [
    "mod1 = start_end_mulivariate_ols(startdate = \"2020-06-01\", enddate = \"2020-12-01\", formulatxt=formula1)\n",
    "print(mod1.summary())"
   ]
  },
  {
   "cell_type": "code",
   "execution_count": 65,
   "metadata": {},
   "outputs": [
    {
     "name": "stdout",
     "output_type": "stream",
     "text": [
      "Deaths_PER_100K ~ Poverty_PCT_2018 + C(StateCD) + PCT_Black_ACS + residential_PCT_CFB_RollingAvg + C(Metro)\n",
      "\n"
     ]
    },
    {
     "data": {
      "image/png": "[encoded data removed]",
      "text/plain": [
       "<Figure size 864x432 with 2 Axes>"
      ]
     },
     "metadata": {},
     "output_type": "display_data"
    }
   ],
   "source": [
    "formula1 = \"\"\"Deaths_PER_100K ~ Poverty_PCT_2018 + C(StateCD) + PCT_Black_ACS + residential_PCT_CFB_RollingAvg + C(Metro)\"\"\"\n",
    "\n",
    "graph_bic_adj2_TS(formulatxt=formula1, list_dateranges=every_month, df=combined)"
   ]
  },
  {
   "cell_type": "code",
   "execution_count": 66,
   "metadata": {},
   "outputs": [
    {
     "name": "stdout",
     "output_type": "stream",
     "text": [
      "                            OLS Regression Results                            \n",
      "==============================================================================\n",
      "Dep. Variable:        Deaths_PER_100K   R-squared:                       0.417\n",
      "Model:                            OLS   Adj. R-squared:                  0.417\n",
      "Method:                 Least Squares   F-statistic:                     2028.\n",
      "Date:                Wed, 16 Dec 2020   Prob (F-statistic):               0.00\n",
      "Time:                        14:32:54   Log-Likelihood:            -8.0348e+05\n",
      "No. Observations:              161394   AIC:                         1.607e+06\n",
      "Df Residuals:                  161336   BIC:                         1.608e+06\n",
      "Df Model:                          57                                         \n",
      "Covariance Type:            nonrobust                                         \n",
      "==================================================================================================\n",
      "                                     coef    std err          t      P>|t|      [0.025      0.975]\n",
      "--------------------------------------------------------------------------------------------------\n",
      "Intercept                         -9.9360      1.563     -6.356      0.000     -13.000      -6.872\n",
      "C(StateCD)[T.AL]                   4.1163      1.622      2.538      0.011       0.938       7.295\n",
      "C(StateCD)[T.AR]                   8.7973      1.707      5.153      0.000       5.451      12.143\n",
      "C(StateCD)[T.AZ]                  53.4172      1.742     30.671      0.000      50.004      56.831\n",
      "C(StateCD)[T.CA]                  -6.2591      1.585     -3.948      0.000      -9.367      -3.152\n",
      "C(StateCD)[T.CO]                  14.0558      1.679      8.370      0.000      10.764      17.347\n",
      "C(StateCD)[T.CT]                  74.0561      1.778     41.640      0.000      70.570      77.542\n",
      "C(StateCD)[T.DC]                  20.9758      3.057      6.861      0.000      14.984      26.968\n",
      "C(StateCD)[T.DE]                  40.5685      2.143     18.928      0.000      36.368      44.769\n",
      "C(StateCD)[T.FL]                  19.1872      1.575     12.180      0.000      16.100      22.275\n",
      "C(StateCD)[T.GA]                  13.4942      1.596      8.456      0.000      10.366      16.622\n",
      "C(StateCD)[T.HI]                 -10.8072      2.095     -5.159      0.000     -14.913      -6.702\n",
      "C(StateCD)[T.IA]                  24.2286      1.710     14.166      0.000      20.876      27.581\n",
      "C(StateCD)[T.ID]                  13.3827      1.802      7.426      0.000       9.851      16.915\n",
      "C(StateCD)[T.IL]                  14.9007      1.610      9.258      0.000      11.746      18.055\n",
      "C(StateCD)[T.IN]                  25.0011      1.602     15.602      0.000      21.860      28.142\n",
      "C(StateCD)[T.KS]                  -1.9402      1.752     -1.108      0.268      -5.374       1.493\n",
      "C(StateCD)[T.KY]                  -4.4491      1.671     -2.662      0.008      -7.725      -1.173\n",
      "C(StateCD)[T.LA]                  53.0313      1.662     31.917      0.000      49.775      56.288\n",
      "C(StateCD)[T.MA]                  96.2428      1.710     56.290      0.000      92.892      99.594\n",
      "C(StateCD)[T.MD]                  21.5251      1.681     12.804      0.000      18.230      24.820\n",
      "C(StateCD)[T.ME]                  -6.0107      1.834     -3.278      0.001      -9.604      -2.417\n",
      "C(StateCD)[T.MI]                  17.0523      1.591     10.721      0.000      13.935      20.170\n",
      "C(StateCD)[T.MN]                   7.5335      1.663      4.530      0.000       4.274      10.793\n",
      "C(StateCD)[T.MO]                  -1.2031      1.633     -0.737      0.461      -4.403       1.997\n",
      "C(StateCD)[T.MS]                  25.3344      1.787     14.180      0.000      21.833      28.836\n",
      "C(StateCD)[T.MT]                   1.6201      1.879      0.862      0.389      -2.063       5.303\n",
      "C(StateCD)[T.NC]                   2.3581      1.576      1.497      0.134      -0.730       5.446\n",
      "C(StateCD)[T.ND]                  32.0598      2.035     15.758      0.000      28.072      36.047\n",
      "C(StateCD)[T.NE]                  13.9381      1.947      7.159      0.000      10.122      17.754\n",
      "C(StateCD)[T.NH]                   9.4289      1.842      5.119      0.000       5.819      13.039\n",
      "C(StateCD)[T.NJ]                 128.8976      1.637     78.746      0.000     125.689     132.106\n",
      "C(StateCD)[T.NM]                  12.4132      1.758      7.061      0.000       8.968      15.859\n",
      "C(StateCD)[T.NV]                  11.3555      1.991      5.703      0.000       7.453      15.258\n",
      "C(StateCD)[T.NY]                  47.8182      1.583     30.209      0.000      44.716      50.921\n",
      "C(StateCD)[T.OH]                  12.2719      1.575      7.793      0.000       9.185      15.358\n",
      "C(StateCD)[T.OK]                  -1.2111      1.664     -0.728      0.467      -4.472       2.050\n",
      "C(StateCD)[T.OR]                 -12.5551      1.648     -7.619      0.000     -15.785      -9.325\n",
      "C(StateCD)[T.PA]                  23.4033      1.576     14.845      0.000      20.313      26.493\n",
      "C(StateCD)[T.RI]                  47.1534      2.073     22.743      0.000      43.090      51.217\n",
      "C(StateCD)[T.SC]                  19.2311      1.633     11.775      0.000      16.030      22.432\n",
      "C(StateCD)[T.SD]                  23.7568      2.303     10.317      0.000      19.243      28.270\n",
      "C(StateCD)[T.TN]                   4.1357      1.605      2.577      0.010       0.991       7.281\n",
      "C(StateCD)[T.TX]                  14.7147      1.566      9.397      0.000      11.646      17.784\n",
      "C(StateCD)[T.UT]                  -4.2375      1.781     -2.380      0.017      -7.727      -0.748\n",
      "C(StateCD)[T.VA]                  -3.4066      1.611     -2.115      0.034      -6.564      -0.249\n",
      "C(StateCD)[T.VT]                   1.8864      2.550      0.740      0.460      -3.112       6.885\n",
      "C(StateCD)[T.WA]                   5.7003      1.629      3.500      0.000       2.508       8.892\n",
      "C(StateCD)[T.WI]                   9.1557      1.601      5.717      0.000       6.017      12.294\n",
      "C(StateCD)[T.WV]                 -12.6108      1.810     -6.967      0.000     -16.159      -9.063\n",
      "C(StateCD)[T.WY]                   0.6489      2.131      0.305      0.761      -3.527       4.825\n",
      "C(Metro)[T.Micropolitan]         -11.9781      0.332    -36.089      0.000     -12.629     -11.328\n",
      "C(Metro)[T.Noncore_adjacent]       2.2195      0.707      3.138      0.002       0.833       3.606\n",
      "C(Metro)[T.Noncore_remote]       -19.6774      3.020     -6.515      0.000     -25.597     -13.757\n",
      "C(Metro)[T.Smaller_metro]        -16.9371      0.247    -68.512      0.000     -17.422     -16.453\n",
      "Poverty_PCT_2018                   2.7227      0.026    104.062      0.000       2.671       2.774\n",
      "PCT_Black_ACS                      0.3603      0.011     32.654      0.000       0.339       0.382\n",
      "residential_PCT_CFB_RollingAvg     1.0972      0.034     32.584      0.000       1.031       1.163\n",
      "==============================================================================\n",
      "Omnibus:                    56901.242   Durbin-Watson:                   0.026\n",
      "Prob(Omnibus):                  0.000   Jarque-Bera (JB):           368009.032\n",
      "Skew:                           1.550   Prob(JB):                         0.00\n",
      "Kurtosis:                       9.716   Cond. No.                     2.58e+03\n",
      "==============================================================================\n",
      "\n",
      "Notes:\n",
      "[1] Standard Errors assume that the covariance matrix of the errors is correctly specified.\n",
      "[2] The condition number is large, 2.58e+03. This might indicate that there are\n",
      "strong multicollinearity or other numerical problems.\n"
     ]
    }
   ],
   "source": [
    "mod1 = start_end_mulivariate_ols(startdate = \"2020-06-01\", enddate = \"2020-12-01\", formulatxt=formula1)\n",
    "print(mod1.summary())"
   ]
  },
  {
   "cell_type": "code",
   "execution_count": 67,
   "metadata": {},
   "outputs": [
    {
     "name": "stdout",
     "output_type": "stream",
     "text": [
      "Deaths_New_RollingAvg_PER_100K ~ residential_PCT_CFB_RollingAvg + Poverty_PCT_2018 + StateCD\n",
      "\n"
     ]
    },
    {
     "data": {
      "image/png": "[encoded data removed]",
      "text/plain": [
       "<Figure size 864x432 with 2 Axes>"
      ]
     },
     "metadata": {},
     "output_type": "display_data"
    }
   ],
   "source": [
    "formula1 = \"\"\"Deaths_New_RollingAvg_PER_100K ~ residential_PCT_CFB_RollingAvg + Poverty_PCT_2018 + StateCD\"\"\"\n",
    "\n",
    "graph_bic_adj2_TS(formulatxt=formula1, list_dateranges=every_month, df=combined)"
   ]
  },
  {
   "cell_type": "code",
   "execution_count": 68,
   "metadata": {},
   "outputs": [
    {
     "name": "stdout",
     "output_type": "stream",
     "text": [
      "Deaths_New_RollingAvg_PER_100K ~ residential_PCT_CFB_RollingAvg + Poverty_PCT_2018 + Metro\n",
      "\n"
     ]
    },
    {
     "data": {
      "image/png": "[encoded data removed]",
      "text/plain": [
       "<Figure size 864x432 with 2 Axes>"
      ]
     },
     "metadata": {},
     "output_type": "display_data"
    }
   ],
   "source": [
    "formula1 = \"\"\"Deaths_New_RollingAvg_PER_100K ~ residential_PCT_CFB_RollingAvg + Poverty_PCT_2018 + Metro\"\"\"\n",
    "\n",
    "graph_bic_adj2_TS(formulatxt=formula1, list_dateranges=every_month, df=combined)"
   ]
  },
  {
   "cell_type": "markdown",
   "metadata": {},
   "source": [
    "## List of all possible formulas for OLS "
   ]
  },
  {
   "cell_type": "code",
   "execution_count": 69,
   "metadata": {},
   "outputs": [
    {
     "name": "stdout",
     "output_type": "stream",
     "text": [
      "The full list for 5 predictors and 1 outcome variables is 31 formulas long\n"
     ]
    }
   ],
   "source": [
    "full_form_list = get_powerset_list_of_text(full_predictors, Ylist)"
   ]
  },
  {
   "cell_type": "code",
   "execution_count": null,
   "metadata": {},
   "outputs": [
    {
     "name": "stderr",
     "output_type": "stream",
     "text": [
      " 52%|█████▏    | 16/31 [01:27<01:41,  6.75s/it]"
     ]
    }
   ],
   "source": [
    "list_df = []\n",
    "for i in tqdm(full_form_list):\n",
    "    try:\n",
    "        df = run_timeseries_models(formulatxt=i, list_dateranges=every_month, df=combined)\n",
    "        list_df.append(df)\n",
    "    except:\n",
    "        print(\"Error for {i}\".format(i=i))"
   ]
  },
  {
   "cell_type": "code",
   "execution_count": null,
   "metadata": {},
   "outputs": [],
   "source": []
  },
  {
   "cell_type": "code",
   "execution_count": null,
   "metadata": {},
   "outputs": [],
   "source": [
    "bigdf = pd.concat(list_df)"
   ]
  },
  {
   "cell_type": "code",
   "execution_count": null,
   "metadata": {},
   "outputs": [],
   "source": [
    "bigdf['num_var'] = bigdf['formula'].str.count('\\+')+1\n",
    "\n",
    "bigdf['has_mob'] = bigdf['formula'].str.contains(\"CFB\")"
   ]
  },
  {
   "cell_type": "code",
   "execution_count": null,
   "metadata": {},
   "outputs": [],
   "source": [
    "list_forms = list(bigdf.formula.unique())\n",
    "list_forms_nomob =[i for i in list(bigdf['formula'].unique()) if \"CFB\" not in i]\n",
    "list_forms_mob =[i for i in list(bigdf['formula'].unique()) if \"CFB\" in i]\n",
    "\n",
    "\n",
    "\n",
    "b = bigdf[bigdf.formula.isin(list_forms_nomob)].groupby(\"formula\").mean().sort_values(by=\"num_var\",ascending=False)\n",
    "b_post06 = bigdf[bigdf.formula.isin(list_forms_nomob) & (bigdf.start >= '2020-06-01')].groupby(\"formula\").mean().sort_values(by=\"num_var\",ascending=False)\n",
    "\n",
    "\n",
    "c = bigdf[bigdf.formula.isin(list_forms_mob)].groupby(\"formula\").mean().sort_values(by=\"num_var\",ascending=False)\n",
    "\n",
    "d = bigdf.groupby(\"formula\").mean().sort_values(by=\"num_var\",ascending=False)"
   ]
  },
  {
   "cell_type": "code",
   "execution_count": null,
   "metadata": {},
   "outputs": [],
   "source": [
    "b_post06[b.num_var.isin([3,4,5,6,7,8])].sort_values(by=\"bic\", ascending=True).head(50)"
   ]
  },
  {
   "cell_type": "code",
   "execution_count": null,
   "metadata": {},
   "outputs": [],
   "source": [
    "b.head(10)"
   ]
  },
  {
   "cell_type": "code",
   "execution_count": null,
   "metadata": {},
   "outputs": [],
   "source": [
    "c.head(10)"
   ]
  },
  {
   "cell_type": "code",
   "execution_count": null,
   "metadata": {},
   "outputs": [],
   "source": [
    "\n",
    "plt.rcParams.update({\"grid.linewidth\":0.5, \"grid.alpha\":0.5})\n",
    "sns.set(style=\"ticks\", context=\"talk\")\n",
    "plt.style.use(\"dark_background\")\n",
    "sns.scatterplot(y=\"r2_adj\", x=\"num_var\", data=b)\n",
    "plt.title(\"Regression Models by Adjusted R Squared and Number of Variables \\nPredicting Deaths_New_RollingAvg_PER_100K \\n Mobility not included\")"
   ]
  },
  {
   "cell_type": "code",
   "execution_count": null,
   "metadata": {},
   "outputs": [],
   "source": [
    "\n",
    "plt.rcParams.update({\"grid.linewidth\":0.5, \"grid.alpha\":0.5})\n",
    "sns.set(style=\"ticks\", context=\"talk\")\n",
    "plt.style.use(\"dark_background\")\n",
    "sns.scatterplot(y=\"r2_adj\", x=\"num_var\", hue=\"has_mob\", size=\"bic\",data=d)\n",
    "plt.legend()\n",
    "plt.title(\"Regression Models by Adjusted R Squared and Number of Variables \\nPredicting Deaths_New_RollingAvg_PER_100K\")"
   ]
  },
  {
   "cell_type": "code",
   "execution_count": null,
   "metadata": {},
   "outputs": [],
   "source": [
    "plt.rcParams.update({\"grid.linewidth\":0.5, \"grid.alpha\":0.5})\n",
    "sns.set(style=\"ticks\", context=\"talk\")\n",
    "plt.style.use(\"dark_background\")\n",
    "\n",
    "\n",
    "bigdf_hasmob = bigdf[bigdf.has_mob == True]\n",
    "bigdf_nomob = bigdf[bigdf.has_mob == False]\n",
    "\n",
    "\n",
    "plt.figure(figsize=(14,6))\n",
    "sns.scatterplot(y=\"r2_adj\", x=\"start\", size = \"num_var\", data=bigdf_hasmob)\n",
    "plt.title(\"Adjusted R Squared vs Start Date of 1-Month Regression \\nPredicting Deaths_New_RollingAvg_PER_100K\")\n",
    "plt.legend()"
   ]
  },
  {
   "cell_type": "code",
   "execution_count": null,
   "metadata": {},
   "outputs": [],
   "source": [
    "plt.figure(figsize=(14,6))\n",
    "sns.scatterplot(y=\"r2_adj\", x=\"start\", size = \"num_var\", data=bigdf_nomob)\n",
    "plt.title(\"Adjusted R Squared vs Start Date of 1-Month Regression \\nPredicting Deaths_New_RollingAvg_PER_100K\")\n",
    "plt.legend()"
   ]
  },
  {
   "cell_type": "code",
   "execution_count": null,
   "metadata": {},
   "outputs": [],
   "source": [
    "formula1 = \"\"\"\n",
    "Deaths_New_RollingAvg_PER_100K ~ PCT_Black_ACS + BACHELORS_PLUS_2018 + Confirmed_New_RollingAvg_PER_100K + Poverty_PCT_2018 + C(StateCD)\n",
    "\"\"\"\n",
    "graph_bic_adj2_TS(formulatxt=formula1, list_dateranges=every_month, df=combined)\n",
    "\n",
    "mod2 = start_end_mulivariate_ols(formulatxt=formula1, startdate='2020-06-01', enddate='2020-11-15', df= combined)\n",
    "print(mod2.summary())"
   ]
  },
  {
   "cell_type": "code",
   "execution_count": null,
   "metadata": {},
   "outputs": [],
   "source": [
    "formula1 = \"\"\"Deaths_New_RollingAvg_PER_100K ~ C(Metro) + PCT_Black_ACS + BACHELORS_PLUS_2018 + Confirmed_New_RollingAvg_PER_100K + Poverty_PCT_2018 + Median_Income_2018 + C(StateCD)\"\"\"\n",
    "graph_bic_adj2_TS(formulatxt=formula1, list_dateranges=every_month, df=combined)\n",
    "\n",
    "mod2 = start_end_mulivariate_ols(formulatxt=formula1, startdate='2020-06-01', enddate='2020-12-01', df= combined)\n",
    "print(mod2.summary())"
   ]
  },
  {
   "cell_type": "code",
   "execution_count": null,
   "metadata": {},
   "outputs": [],
   "source": [
    "formula1 = \"\"\"Deaths_New_RollingAvg_PER_100K ~ Confirmed_New_RollingAvg_PER_100K + Poverty_PCT_2018 + C(StateCD)\"\"\"\n",
    "graph_bic_adj2_TS(formulatxt=formula1, list_dateranges=every_month, df=combined)\n",
    "\n",
    "mod2 = start_end_mulivariate_ols(formulatxt=formula1, startdate='2020-06-01', enddate='2020-12-01', df= combined)\n",
    "print(mod2.summary())"
   ]
  },
  {
   "cell_type": "code",
   "execution_count": null,
   "metadata": {},
   "outputs": [],
   "source": [
    "combined.columns"
   ]
  },
  {
   "cell_type": "markdown",
   "metadata": {},
   "source": [
    "## Detecting and managing Multicolinearity & VIF"
   ]
  },
  {
   "cell_type": "code",
   "execution_count": null,
   "metadata": {},
   "outputs": [],
   "source": [
    "#Sources: https://etav.github.io/python/vif_factor_python.html\n",
    "        # https://www.sigmamagic.com/blogs/what-is-variance-inflation-factor/ "
   ]
  },
  {
   "cell_type": "code",
   "execution_count": null,
   "metadata": {},
   "outputs": [],
   "source": [
    "#https://etav.github.io/python/vif_factor_python.html\n",
    "\n",
    "combined_1day = combined[combined.Date == \"2020-10-08\"]\n",
    "\n",
    "\n",
    "cols_subset = [\"Metro\",\"PCT_Black_ACS\",'PCT_Native_ACS',\"PCT_Hisp_ACS\", \n",
    "               \"BACHELORS_PLUS_2018\",\"HS_DIPLOMA_ONLY_2018\", \"Median_Income_2018\",\n",
    "               \"Poverty_PCT_2018\",\"Deaths_PER_100K\", \"StateCD\", \"Region\", \"residential_PCT_CFB_RollingAvg\"\n",
    "              ] \n",
    "combined_sub2 = combined[cols_subset]\n",
    "\n",
    "sns.set(rc={'figure.figsize':(11,8)})\n",
    "corr = combined_sub2.corr()\n",
    "sns.heatmap(corr, annot=True, fmt='.2f')\n",
    "plt.show()"
   ]
  },
  {
   "cell_type": "code",
   "execution_count": null,
   "metadata": {},
   "outputs": [],
   "source": [
    "from patsy import dmatrices\n",
    "from statsmodels.stats.outliers_influence import variance_inflation_factor"
   ]
  },
  {
   "cell_type": "code",
   "execution_count": null,
   "metadata": {},
   "outputs": [],
   "source": [
    "#combined_sub2_long = pd.get_dummies(combined_sub2, columns=[\"Metro\",\"StateCD\"])\n",
    "()\n",
    "\n",
    "list_col = list(cols_subset)\n",
    "#list_col = [i for i in list_col if \"Death\" not in i and \"RollingAvg\" not in i]\n",
    "#list_col.remove(\"State Code\")\n",
    "list_col.remove(\"Deaths_PER_100K\")\n",
    "\n",
    "features = \"+\".join(list_col)\n",
    "\n",
    "\n",
    "y, X = dmatrices(\"Deaths_PER_100K ~\"+features, combined_sub2, return_type='dataframe')"
   ]
  },
  {
   "cell_type": "code",
   "execution_count": null,
   "metadata": {},
   "outputs": [],
   "source": [
    "vif = pd.DataFrame()\n",
    "vif[\"VIF Factor\"] = [variance_inflation_factor(X.values, i) for i in range(X.shape[1])]\n",
    "vif[\"features\"] = X.columns"
   ]
  },
  {
   "cell_type": "code",
   "execution_count": null,
   "metadata": {},
   "outputs": [],
   "source": [
    "vifs = vif.round(1).sort_values(by=\"VIF Factor\", ascending=False)"
   ]
  },
  {
   "cell_type": "code",
   "execution_count": null,
   "metadata": {},
   "outputs": [],
   "source": [
    "vifs[(vifs[\"features\"].str.contains(\"State\") == False) & (vifs[\"VIF Factor\"] != np.inf)]"
   ]
  },
  {
   "cell_type": "markdown",
   "metadata": {},
   "source": [
    "## All subsets for county-level regressions"
   ]
  },
  {
   "cell_type": "code",
   "execution_count": null,
   "metadata": {},
   "outputs": [],
   "source": [
    "full_predictors = [\n",
    " 'C(Metro)',\n",
    " 'PCT_Black_ACS',\n",
    " #'BACHELORS_PLUS_2018',\n",
    " 'Confirmed_New_RollingAvg_PER_100K',\n",
    " #'PCT_Hispanic_ACS',\n",
    " #'PCT_Native_ACS',\n",
    " 'Poverty_PCT_2018',\n",
    " 'C(StateCD)',\n",
    "    \n",
    "]\n",
    "\n",
    "Ylist = [#'Deaths_New_7_RollingAvg_PER_100K',\n",
    "         #'Deaths_New_14_RollingAvg_PER_100K',\n",
    "         #'Deaths_New_28_RollingAvg_PER_100K',\n",
    "         'Deaths_PER_100K'\n",
    "         #'Deaths_New_RollingAvg_PER_100K'\n",
    "            ]"
   ]
  },
  {
   "cell_type": "code",
   "execution_count": null,
   "metadata": {},
   "outputs": [],
   "source": [
    "textlist = []\n",
    "\n",
    "for i in ps_list:\n",
    "    text = '|'\n",
    "    for x in i:\n",
    "        text = text+' + '+x\n",
    "    textlist.append(text)\n",
    "\n",
    "\n",
    "textlist = [i.replace('| +','') for i in textlist if len(i) > 3]\n",
    "    \n",
    "full_form_list = []\n",
    "for i in textlist:\n",
    "    for y in Ylist:\n",
    "        full_form_list.append(y+\" ~ \"+i)\n",
    "\n",
    "\n",
    "full_form_list\n",
    "samp_list = full_form_list[0:50]"
   ]
  },
  {
   "cell_type": "code",
   "execution_count": null,
   "metadata": {},
   "outputs": [],
   "source": [
    "list_df = []\n",
    "for i in tqdm(full_form_list):\n",
    "    try:\n",
    "        df = run_timeseries_models(formulatxt=i, list_dateranges=every_month, df=combined)\n",
    "        list_df.append(df)\n",
    "    except:\n",
    "        print(\"Error for {i}\".format(i=i))"
   ]
  },
  {
   "cell_type": "code",
   "execution_count": null,
   "metadata": {},
   "outputs": [],
   "source": [
    "bigdf_county = pd.concat(list_df)\n",
    "bigdf_county['num_var'] = bigdf_county['formula'].str.count('\\+')+1"
   ]
  },
  {
   "cell_type": "code",
   "execution_count": null,
   "metadata": {},
   "outputs": [],
   "source": [
    "list_forms = list(bigdf_county.formula.unique())\n",
    "list_forms =[i for i in list(bigdf_county['formula'].unique()) if \"Confirmed\" not in i and \"CFB\" not in i and \"StateCD\" not in i]\n",
    "\n",
    "\n",
    "bigdf_county[bigdf_county.formula.isin(list_forms)].groupby(\"formula\").mean().sort_values(by=\"r2_adj\",ascending=False).head(30)"
   ]
  },
  {
   "cell_type": "code",
   "execution_count": null,
   "metadata": {},
   "outputs": [],
   "source": [
    "bigdf_county[bigdf_county.formula.isin(list_forms)].groupby(\"formula\").mean().sort_values(by=\"bic\",ascending=True).head(30)"
   ]
  },
  {
   "cell_type": "code",
   "execution_count": null,
   "metadata": {},
   "outputs": [],
   "source": [
    "full_predictors = [\n",
    " 'C(Metro)',\n",
    " 'PCT_Black_ACS',\n",
    " #'BACHELORS_PLUS_2018',\n",
    " 'Confirmed_New_RollingAvg_PER_100K',\n",
    " #'PCT_Hispanic_ACS',\n",
    " #'PCT_Native_ACS',\n",
    " 'Poverty_PCT_2018',\n",
    " 'C(StateCD)',\n",
    "    \n",
    "]\n",
    "\n",
    "Ylist = [#'Deaths_New_7_RollingAvg_PER_100K',\n",
    "         'Deaths_New_14_RollingAvg_PER_100K',\n",
    "         #'Deaths_New_28_RollingAvg_PER_100K',\n",
    "         #'Deaths_PER_100K'\n",
    "         #'Deaths_New_RollingAvg_PER_100K'\n",
    "            ]\n",
    "\n",
    "textlist = []\n",
    "\n",
    "for i in ps_list:\n",
    "    text = '|'\n",
    "    for x in i:\n",
    "        text = text+' + '+x\n",
    "    textlist.append(text)\n",
    "\n",
    "\n",
    "textlist = [i.replace('| +','') for i in textlist if len(i) > 3]\n",
    "    \n",
    "full_form_list = []\n",
    "for i in textlist:\n",
    "    for y in Ylist:\n",
    "        full_form_list.append(y+\" ~ \"+i)\n",
    "\n",
    "\n",
    "list_df = []\n",
    "for i in tqdm(full_form_list):\n",
    "    try:\n",
    "        df = run_timeseries_models(formulatxt=i, list_dateranges=[('2020-06-01','2020-12-01')], df=combined)\n",
    "        list_df.append(df)\n",
    "    except:\n",
    "        print(\"Error for {i}\".format(i=i))"
   ]
  },
  {
   "cell_type": "code",
   "execution_count": null,
   "metadata": {},
   "outputs": [],
   "source": [
    "bigdf_newdeath = pd.concat(list_df)\n",
    "bigdf_newdeath['num_var'] = bigdf_newdeath['formula'].str.count('\\+')+1"
   ]
  },
  {
   "cell_type": "code",
   "execution_count": null,
   "metadata": {},
   "outputs": [],
   "source": [
    "list_forms = list(bigdf_newdeath.formula.unique())\n",
    "list_form = [i for i in list_forms if \"CFB\" not in i]\n",
    "list_form = [i for i in list_forms if \"CFB\" not in i and \"Confirmed\" in i]\n",
    "list_form\n",
    "\n",
    "bigdf_newdeath[bigdf_newdeath.formula.isin(list_form) == True].groupby(\"formula\").mean().sort_values(by=\"r2_adj\",ascending=False).head(50)"
   ]
  },
  {
   "cell_type": "code",
   "execution_count": null,
   "metadata": {},
   "outputs": [],
   "source": [
    "mod1 = start_end_mulivariate_ols(startdate = \"2020-06-01\", enddate = \"2020-07-01\", formulatxt=\"\"\"\n",
    "Deaths_New_21_RollingAvg_PER_100K ~  Confirmed_New_RollingAvg_PER_100K + StateCD + Metro\"\"\")\n",
    "print(mod1.summary())"
   ]
  },
  {
   "cell_type": "code",
   "execution_count": null,
   "metadata": {},
   "outputs": [],
   "source": [
    "mod1 = start_end_mulivariate_ols(startdate = \"2020-04-01\", enddate = \"2020-06-01\", formulatxt=\"\"\"\n",
    "Deaths_New_21_RollingAvg_PER_100K ~  Confirmed_New_RollingAvg_PER_100K + StateCD\"\"\")\n",
    "print(mod1.summary())"
   ]
  },
  {
   "cell_type": "code",
   "execution_count": null,
   "metadata": {},
   "outputs": [],
   "source": [
    "mod1 = start_end_mulivariate_ols(startdate = \"2020-06-01\", enddate = \"2020-09-01\", formulatxt=\"\"\"\n",
    "Deaths_New_21_RollingAvg_PER_100K ~  Confirmed_New_RollingAvg_PER_100K + StateCD\"\"\")\n",
    "print(mod1.summary())"
   ]
  },
  {
   "cell_type": "code",
   "execution_count": null,
   "metadata": {},
   "outputs": [],
   "source": [
    "mod1 = start_end_mulivariate_ols(startdate = \"2020-10-01\", enddate = \"2020-12-01\", formulatxt=\"\"\"\n",
    "Deaths_New_14_RollingAvg_PER_100K ~  Confirmed_New_RollingAvg_PER_100K + StateCD\"\"\")\n",
    "print(mod1.summary())"
   ]
  },
  {
   "cell_type": "code",
   "execution_count": null,
   "metadata": {},
   "outputs": [],
   "source": [
    "mod1 = start_end_mulivariate_ols(startdate = \"2020-10-01\", enddate = \"2020-12-01\", formulatxt=\"\"\"\n",
    "Deaths_New_14_RollingAvg_PER_100K ~  Confirmed_New_RollingAvg_PER_100K \"\"\")\n",
    "print(mod1.summary())"
   ]
  },
  {
   "cell_type": "code",
   "execution_count": null,
   "metadata": {},
   "outputs": [],
   "source": []
  }
 ],
 "metadata": {
  "kernelspec": {
   "display_name": "Python 3",
   "language": "python",
   "name": "python3"
  },
  "language_info": {
   "codemirror_mode": {
    "name": "ipython",
    "version": 3
   },
   "file_extension": ".py",
   "mimetype": "text/x-python",
   "name": "python",
   "nbconvert_exporter": "python",
   "pygments_lexer": "ipython3",
   "version": "3.7.7"
  }
 },
 "nbformat": 4,
 "nbformat_minor": 4
}
