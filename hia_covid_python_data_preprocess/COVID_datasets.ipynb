{
 "cells": [
  {
   "cell_type": "code",
   "execution_count": 1,
   "metadata": {},
   "outputs": [],
   "source": [
    "#conda install -c conda-forge datapackage"
   ]
  },
  {
   "cell_type": "code",
   "execution_count": 2,
   "metadata": {},
   "outputs": [],
   "source": [
    "#conda install -c conda-forge jsontableschema-panda"
   ]
  },
  {
   "cell_type": "code",
   "execution_count": 3,
   "metadata": {},
   "outputs": [],
   "source": [
    "from datapackage import Package"
   ]
  },
  {
   "cell_type": "code",
   "execution_count": 4,
   "metadata": {},
   "outputs": [],
   "source": [
    "import pandas as pd"
   ]
  },
  {
   "cell_type": "code",
   "execution_count": 5,
   "metadata": {},
   "outputs": [],
   "source": [
    "import seaborn as sns\n",
    "import matplotlib.pyplot as plt"
   ]
  },
  {
   "cell_type": "code",
   "execution_count": 6,
   "metadata": {},
   "outputs": [
    {
     "name": "stderr",
     "output_type": "stream",
     "text": [
      "/Users/philip.ballentine/anaconda3/lib/python3.7/site-packages/tqdm/std.py:697: FutureWarning: The Panel class is removed from pandas. Accessing it from the top-level namespace will also be removed in the next version\n",
      "  from pandas import Panel\n"
     ]
    }
   ],
   "source": [
    "from tqdm import tqdm\n",
    "tqdm.pandas() # to use in progress_apply"
   ]
  },
  {
   "cell_type": "code",
   "execution_count": 7,
   "metadata": {},
   "outputs": [],
   "source": [
    "from random import sample"
   ]
  },
  {
   "cell_type": "code",
   "execution_count": 8,
   "metadata": {},
   "outputs": [],
   "source": [
    "import statsmodels.api as sm"
   ]
  },
  {
   "cell_type": "code",
   "execution_count": 9,
   "metadata": {},
   "outputs": [],
   "source": [
    "import us\n",
    "import addfips"
   ]
  },
  {
   "cell_type": "code",
   "execution_count": 10,
   "metadata": {},
   "outputs": [],
   "source": [
    "import numpy as np "
   ]
  },
  {
   "cell_type": "code",
   "execution_count": 11,
   "metadata": {},
   "outputs": [],
   "source": [
    "import os"
   ]
  },
  {
   "cell_type": "markdown",
   "metadata": {},
   "source": [
    "## Get COVID-19 DataPackage and Process Files"
   ]
  },
  {
   "cell_type": "code",
   "execution_count": 12,
   "metadata": {},
   "outputs": [],
   "source": [
    "package = Package('https://datahub.io/core/covid-19/datapackage.json')"
   ]
  },
  {
   "cell_type": "code",
   "execution_count": 13,
   "metadata": {},
   "outputs": [
    {
     "name": "stdout",
     "output_type": "stream",
     "text": [
      "['us_confirmed_csv', 'us_deaths_csv', 'us_simplified_csv']\n"
     ]
    }
   ],
   "source": [
    "# get list of all resources:\n",
    "resources = package.descriptor['resources']\n",
    "resourceList = [resources[x]['name'] for x in range(0, len(resources))]\n",
    "#print(resourceList)\n",
    "\n",
    "us_resourceList = [i for i in resourceList if (\"us\" in i and \"csv\" in i and \"preview\" not in i)]\n",
    "\n",
    "\n",
    "print(us_resourceList)"
   ]
  },
  {
   "cell_type": "code",
   "execution_count": 14,
   "metadata": {},
   "outputs": [],
   "source": [
    "# package.descriptor['resources']"
   ]
  },
  {
   "cell_type": "code",
   "execution_count": 15,
   "metadata": {},
   "outputs": [],
   "source": [
    "us_simplified_csv = package.get_resource('us_simplified_csv').read(keyed=True)"
   ]
  },
  {
   "cell_type": "code",
   "execution_count": 16,
   "metadata": {},
   "outputs": [
    {
     "data": {
      "text/plain": [
       "list"
      ]
     },
     "execution_count": 16,
     "metadata": {},
     "output_type": "execute_result"
    }
   ],
   "source": [
    "type(us_simplified_csv)"
   ]
  },
  {
   "cell_type": "code",
   "execution_count": 17,
   "metadata": {},
   "outputs": [],
   "source": [
    "df_dict = dict()\n",
    "def make_pandas_dfs_from_resource(resourcenamelist):\n",
    "    for resourcename in resourcenamelist:\n",
    "        try:\n",
    "            resource = package.get_resource(resourcename).read(keyed=True)\n",
    "            df_dict[resourcename] = pd.DataFrame(resource)\n",
    "            print(\"{name} is complete\".format(name=resourcename))\n",
    "        except:\n",
    "            print(\"There was an error for {name}\".format(name=resourcename))"
   ]
  },
  {
   "cell_type": "code",
   "execution_count": 18,
   "metadata": {},
   "outputs": [
    {
     "name": "stdout",
     "output_type": "stream",
     "text": [
      "us_confirmed_csv is complete\n",
      "us_deaths_csv is complete\n",
      "us_simplified_csv is complete\n"
     ]
    }
   ],
   "source": [
    "make_pandas_dfs_from_resource(us_resourceList)"
   ]
  },
  {
   "cell_type": "code",
   "execution_count": 19,
   "metadata": {},
   "outputs": [
    {
     "data": {
      "text/plain": [
       "dict_keys(['us_confirmed_csv', 'us_deaths_csv', 'us_simplified_csv'])"
      ]
     },
     "execution_count": 19,
     "metadata": {},
     "output_type": "execute_result"
    }
   ],
   "source": [
    "df_dict.keys()"
   ]
  },
  {
   "cell_type": "code",
   "execution_count": 20,
   "metadata": {},
   "outputs": [],
   "source": [
    "us_simplified_df = df_dict['us_simplified_csv']"
   ]
  },
  {
   "cell_type": "code",
   "execution_count": 21,
   "metadata": {},
   "outputs": [],
   "source": [
    "us_deaths_df = df_dict['us_deaths_csv']"
   ]
  },
  {
   "cell_type": "code",
   "execution_count": 22,
   "metadata": {},
   "outputs": [],
   "source": [
    "us_confirmed_df = df_dict['us_confirmed_csv']"
   ]
  },
  {
   "cell_type": "code",
   "execution_count": 23,
   "metadata": {},
   "outputs": [
    {
     "name": "stdout",
     "output_type": "stream",
     "text": [
      "Index(['Admin2', 'Date', 'Case', 'Country/Region', 'Province/State'], dtype='object')\n",
      "Index(['Admin2', 'Date', 'Case', 'Country/Region', 'Province/State'], dtype='object')\n",
      "Index(['Date', 'Admin2', 'Province/State', 'Confirmed', 'Deaths',\n",
      "       'Country/Region'],\n",
      "      dtype='object')\n"
     ]
    }
   ],
   "source": [
    "for i in df_dict.values():\n",
    "    print(i.columns)"
   ]
  },
  {
   "cell_type": "markdown",
   "metadata": {},
   "source": [
    "## Shape File with Current Totals of Cases and Deaths"
   ]
  },
  {
   "cell_type": "code",
   "execution_count": 24,
   "metadata": {},
   "outputs": [
    {
     "data": {
      "text/html": [
       "<div>\n",
       "<style scoped>\n",
       "    .dataframe tbody tr th:only-of-type {\n",
       "        vertical-align: middle;\n",
       "    }\n",
       "\n",
       "    .dataframe tbody tr th {\n",
       "        vertical-align: top;\n",
       "    }\n",
       "\n",
       "    .dataframe thead th {\n",
       "        text-align: right;\n",
       "    }\n",
       "</style>\n",
       "<table border=\"1\" class=\"dataframe\">\n",
       "  <thead>\n",
       "    <tr style=\"text-align: right;\">\n",
       "      <th></th>\n",
       "      <th>Date</th>\n",
       "      <th>Admin2</th>\n",
       "      <th>Province/State</th>\n",
       "      <th>Confirmed</th>\n",
       "      <th>Deaths</th>\n",
       "      <th>Country/Region</th>\n",
       "    </tr>\n",
       "  </thead>\n",
       "  <tbody>\n",
       "    <tr>\n",
       "      <th>0</th>\n",
       "      <td>2020-01-22</td>\n",
       "      <td>Autauga</td>\n",
       "      <td>Alabama</td>\n",
       "      <td>0</td>\n",
       "      <td>0</td>\n",
       "      <td>US</td>\n",
       "    </tr>\n",
       "    <tr>\n",
       "      <th>1</th>\n",
       "      <td>2020-01-23</td>\n",
       "      <td>Autauga</td>\n",
       "      <td>Alabama</td>\n",
       "      <td>0</td>\n",
       "      <td>0</td>\n",
       "      <td>US</td>\n",
       "    </tr>\n",
       "    <tr>\n",
       "      <th>2</th>\n",
       "      <td>2020-01-24</td>\n",
       "      <td>Autauga</td>\n",
       "      <td>Alabama</td>\n",
       "      <td>0</td>\n",
       "      <td>0</td>\n",
       "      <td>US</td>\n",
       "    </tr>\n",
       "    <tr>\n",
       "      <th>3</th>\n",
       "      <td>2020-01-25</td>\n",
       "      <td>Autauga</td>\n",
       "      <td>Alabama</td>\n",
       "      <td>0</td>\n",
       "      <td>0</td>\n",
       "      <td>US</td>\n",
       "    </tr>\n",
       "    <tr>\n",
       "      <th>4</th>\n",
       "      <td>2020-01-26</td>\n",
       "      <td>Autauga</td>\n",
       "      <td>Alabama</td>\n",
       "      <td>0</td>\n",
       "      <td>0</td>\n",
       "      <td>US</td>\n",
       "    </tr>\n",
       "    <tr>\n",
       "      <th>...</th>\n",
       "      <td>...</td>\n",
       "      <td>...</td>\n",
       "      <td>...</td>\n",
       "      <td>...</td>\n",
       "      <td>...</td>\n",
       "      <td>...</td>\n",
       "    </tr>\n",
       "    <tr>\n",
       "      <th>1078815</th>\n",
       "      <td>2020-12-05</td>\n",
       "      <td>Weston</td>\n",
       "      <td>Wyoming</td>\n",
       "      <td>419</td>\n",
       "      <td>2</td>\n",
       "      <td>US</td>\n",
       "    </tr>\n",
       "    <tr>\n",
       "      <th>1078816</th>\n",
       "      <td>2020-12-06</td>\n",
       "      <td>Weston</td>\n",
       "      <td>Wyoming</td>\n",
       "      <td>420</td>\n",
       "      <td>2</td>\n",
       "      <td>US</td>\n",
       "    </tr>\n",
       "    <tr>\n",
       "      <th>1078817</th>\n",
       "      <td>2020-12-07</td>\n",
       "      <td>Weston</td>\n",
       "      <td>Wyoming</td>\n",
       "      <td>422</td>\n",
       "      <td>2</td>\n",
       "      <td>US</td>\n",
       "    </tr>\n",
       "    <tr>\n",
       "      <th>1078818</th>\n",
       "      <td>2020-12-08</td>\n",
       "      <td>Weston</td>\n",
       "      <td>Wyoming</td>\n",
       "      <td>425</td>\n",
       "      <td>2</td>\n",
       "      <td>US</td>\n",
       "    </tr>\n",
       "    <tr>\n",
       "      <th>1078819</th>\n",
       "      <td>2020-12-09</td>\n",
       "      <td>Weston</td>\n",
       "      <td>Wyoming</td>\n",
       "      <td>427</td>\n",
       "      <td>2</td>\n",
       "      <td>US</td>\n",
       "    </tr>\n",
       "  </tbody>\n",
       "</table>\n",
       "<p>1078820 rows × 6 columns</p>\n",
       "</div>"
      ],
      "text/plain": [
       "               Date   Admin2 Province/State  Confirmed  Deaths Country/Region\n",
       "0        2020-01-22  Autauga        Alabama          0       0             US\n",
       "1        2020-01-23  Autauga        Alabama          0       0             US\n",
       "2        2020-01-24  Autauga        Alabama          0       0             US\n",
       "3        2020-01-25  Autauga        Alabama          0       0             US\n",
       "4        2020-01-26  Autauga        Alabama          0       0             US\n",
       "...             ...      ...            ...        ...     ...            ...\n",
       "1078815  2020-12-05   Weston        Wyoming        419       2             US\n",
       "1078816  2020-12-06   Weston        Wyoming        420       2             US\n",
       "1078817  2020-12-07   Weston        Wyoming        422       2             US\n",
       "1078818  2020-12-08   Weston        Wyoming        425       2             US\n",
       "1078819  2020-12-09   Weston        Wyoming        427       2             US\n",
       "\n",
       "[1078820 rows x 6 columns]"
      ]
     },
     "execution_count": 24,
     "metadata": {},
     "output_type": "execute_result"
    }
   ],
   "source": [
    "us_simplified_df"
   ]
  },
  {
   "cell_type": "code",
   "execution_count": 25,
   "metadata": {},
   "outputs": [
    {
     "data": {
      "text/plain": [
       "0          Alabama\n",
       "1          Alabama\n",
       "2          Alabama\n",
       "3          Alabama\n",
       "4          Alabama\n",
       "            ...   \n",
       "1078815    Wyoming\n",
       "1078816    Wyoming\n",
       "1078817    Wyoming\n",
       "1078818    Wyoming\n",
       "1078819    Wyoming\n",
       "Name: Province/State, Length: 1078820, dtype: object"
      ]
     },
     "execution_count": 25,
     "metadata": {},
     "output_type": "execute_result"
    }
   ],
   "source": [
    "us_simplified_df['Province/State'] "
   ]
  },
  {
   "cell_type": "code",
   "execution_count": 26,
   "metadata": {},
   "outputs": [],
   "source": [
    "us_simplified_df.rename(columns={'Province/State': 'State'}, inplace=True)"
   ]
  },
  {
   "cell_type": "code",
   "execution_count": 27,
   "metadata": {},
   "outputs": [],
   "source": [
    "us_simplified_df = us_simplified_df[us_simplified_df.Admin2 != 'Unassigned']"
   ]
  },
  {
   "cell_type": "code",
   "execution_count": 28,
   "metadata": {},
   "outputs": [
    {
     "name": "stderr",
     "output_type": "stream",
     "text": [
      "/Users/philip.ballentine/anaconda3/lib/python3.7/site-packages/pandas/core/generic.py:5168: SettingWithCopyWarning: \n",
      "A value is trying to be set on a copy of a slice from a DataFrame.\n",
      "Try using .loc[row_indexer,col_indexer] = value instead\n",
      "\n",
      "See the caveats in the documentation: https://pandas.pydata.org/pandas-docs/stable/user_guide/indexing.html#returning-a-view-versus-a-copy\n",
      "  self[name] = value\n"
     ]
    }
   ],
   "source": [
    "us_simplified_df.Date = us_simplified_df.Date.astype(\"datetime64\")"
   ]
  },
  {
   "cell_type": "code",
   "execution_count": 29,
   "metadata": {},
   "outputs": [
    {
     "name": "stderr",
     "output_type": "stream",
     "text": [
      "/Users/philip.ballentine/anaconda3/lib/python3.7/site-packages/ipykernel_launcher.py:1: SettingWithCopyWarning: \n",
      "A value is trying to be set on a copy of a slice from a DataFrame.\n",
      "Try using .loc[row_indexer,col_indexer] = value instead\n",
      "\n",
      "See the caveats in the documentation: https://pandas.pydata.org/pandas-docs/stable/user_guide/indexing.html#returning-a-view-versus-a-copy\n",
      "  \"\"\"Entry point for launching an IPython kernel.\n"
     ]
    }
   ],
   "source": [
    "us_simplified_df['Deaths_Previous'] = us_simplified_df.groupby(['Admin2','State'])['Deaths'].shift(1)"
   ]
  },
  {
   "cell_type": "code",
   "execution_count": 30,
   "metadata": {},
   "outputs": [
    {
     "name": "stderr",
     "output_type": "stream",
     "text": [
      "/Users/philip.ballentine/anaconda3/lib/python3.7/site-packages/ipykernel_launcher.py:1: SettingWithCopyWarning: \n",
      "A value is trying to be set on a copy of a slice from a DataFrame.\n",
      "Try using .loc[row_indexer,col_indexer] = value instead\n",
      "\n",
      "See the caveats in the documentation: https://pandas.pydata.org/pandas-docs/stable/user_guide/indexing.html#returning-a-view-versus-a-copy\n",
      "  \"\"\"Entry point for launching an IPython kernel.\n"
     ]
    }
   ],
   "source": [
    "us_simplified_df['Confirmed_Previous'] = us_simplified_df.groupby(['Admin2','State'])['Confirmed'].shift(1)"
   ]
  },
  {
   "cell_type": "code",
   "execution_count": 31,
   "metadata": {},
   "outputs": [
    {
     "name": "stderr",
     "output_type": "stream",
     "text": [
      "/Users/philip.ballentine/anaconda3/lib/python3.7/site-packages/ipykernel_launcher.py:1: SettingWithCopyWarning: \n",
      "A value is trying to be set on a copy of a slice from a DataFrame.\n",
      "Try using .loc[row_indexer,col_indexer] = value instead\n",
      "\n",
      "See the caveats in the documentation: https://pandas.pydata.org/pandas-docs/stable/user_guide/indexing.html#returning-a-view-versus-a-copy\n",
      "  \"\"\"Entry point for launching an IPython kernel.\n"
     ]
    }
   ],
   "source": [
    "us_simplified_df['Deaths_New'] = us_simplified_df.Deaths - us_simplified_df.Deaths_Previous"
   ]
  },
  {
   "cell_type": "code",
   "execution_count": 32,
   "metadata": {},
   "outputs": [
    {
     "name": "stderr",
     "output_type": "stream",
     "text": [
      "/Users/philip.ballentine/anaconda3/lib/python3.7/site-packages/ipykernel_launcher.py:1: SettingWithCopyWarning: \n",
      "A value is trying to be set on a copy of a slice from a DataFrame.\n",
      "Try using .loc[row_indexer,col_indexer] = value instead\n",
      "\n",
      "See the caveats in the documentation: https://pandas.pydata.org/pandas-docs/stable/user_guide/indexing.html#returning-a-view-versus-a-copy\n",
      "  \"\"\"Entry point for launching an IPython kernel.\n"
     ]
    }
   ],
   "source": [
    "us_simplified_df['Deaths_New_+7'] = us_simplified_df.groupby(['Admin2','State'])['Deaths_New'].shift(-7)"
   ]
  },
  {
   "cell_type": "code",
   "execution_count": 33,
   "metadata": {},
   "outputs": [
    {
     "name": "stderr",
     "output_type": "stream",
     "text": [
      "/Users/philip.ballentine/anaconda3/lib/python3.7/site-packages/ipykernel_launcher.py:1: SettingWithCopyWarning: \n",
      "A value is trying to be set on a copy of a slice from a DataFrame.\n",
      "Try using .loc[row_indexer,col_indexer] = value instead\n",
      "\n",
      "See the caveats in the documentation: https://pandas.pydata.org/pandas-docs/stable/user_guide/indexing.html#returning-a-view-versus-a-copy\n",
      "  \"\"\"Entry point for launching an IPython kernel.\n"
     ]
    }
   ],
   "source": [
    "us_simplified_df['Deaths_New_+14'] = us_simplified_df.groupby(['Admin2','State'])['Deaths_New'].shift(-14)"
   ]
  },
  {
   "cell_type": "code",
   "execution_count": 34,
   "metadata": {},
   "outputs": [
    {
     "name": "stderr",
     "output_type": "stream",
     "text": [
      "/Users/philip.ballentine/anaconda3/lib/python3.7/site-packages/ipykernel_launcher.py:1: SettingWithCopyWarning: \n",
      "A value is trying to be set on a copy of a slice from a DataFrame.\n",
      "Try using .loc[row_indexer,col_indexer] = value instead\n",
      "\n",
      "See the caveats in the documentation: https://pandas.pydata.org/pandas-docs/stable/user_guide/indexing.html#returning-a-view-versus-a-copy\n",
      "  \"\"\"Entry point for launching an IPython kernel.\n"
     ]
    }
   ],
   "source": [
    "us_simplified_df['Deaths_New_+21'] = us_simplified_df.groupby(['Admin2','State'])['Deaths_New'].shift(-21)"
   ]
  },
  {
   "cell_type": "code",
   "execution_count": 35,
   "metadata": {},
   "outputs": [
    {
     "name": "stderr",
     "output_type": "stream",
     "text": [
      "/Users/philip.ballentine/anaconda3/lib/python3.7/site-packages/ipykernel_launcher.py:1: SettingWithCopyWarning: \n",
      "A value is trying to be set on a copy of a slice from a DataFrame.\n",
      "Try using .loc[row_indexer,col_indexer] = value instead\n",
      "\n",
      "See the caveats in the documentation: https://pandas.pydata.org/pandas-docs/stable/user_guide/indexing.html#returning-a-view-versus-a-copy\n",
      "  \"\"\"Entry point for launching an IPython kernel.\n"
     ]
    }
   ],
   "source": [
    "us_simplified_df['Deaths_New_+28'] = us_simplified_df.groupby(['Admin2','State'])['Deaths_New'].shift(-28)"
   ]
  },
  {
   "cell_type": "code",
   "execution_count": 36,
   "metadata": {},
   "outputs": [
    {
     "name": "stderr",
     "output_type": "stream",
     "text": [
      "/Users/philip.ballentine/anaconda3/lib/python3.7/site-packages/ipykernel_launcher.py:1: SettingWithCopyWarning: \n",
      "A value is trying to be set on a copy of a slice from a DataFrame.\n",
      "Try using .loc[row_indexer,col_indexer] = value instead\n",
      "\n",
      "See the caveats in the documentation: https://pandas.pydata.org/pandas-docs/stable/user_guide/indexing.html#returning-a-view-versus-a-copy\n",
      "  \"\"\"Entry point for launching an IPython kernel.\n"
     ]
    }
   ],
   "source": [
    "us_simplified_df['Confirmed_New'] =  us_simplified_df.Confirmed - us_simplified_df.Confirmed_Previous"
   ]
  },
  {
   "cell_type": "code",
   "execution_count": 37,
   "metadata": {},
   "outputs": [
    {
     "name": "stderr",
     "output_type": "stream",
     "text": [
      "/Users/philip.ballentine/anaconda3/lib/python3.7/site-packages/ipykernel_launcher.py:2: SettingWithCopyWarning: \n",
      "A value is trying to be set on a copy of a slice from a DataFrame.\n",
      "Try using .loc[row_indexer,col_indexer] = value instead\n",
      "\n",
      "See the caveats in the documentation: https://pandas.pydata.org/pandas-docs/stable/user_guide/indexing.html#returning-a-view-versus-a-copy\n",
      "  \n"
     ]
    }
   ],
   "source": [
    "# Add locationcol key \n",
    "us_simplified_df['locationcol'] = us_simplified_df['Admin2']+'|'+us_simplified_df['State']"
   ]
  },
  {
   "cell_type": "code",
   "execution_count": 38,
   "metadata": {},
   "outputs": [
    {
     "data": {
      "image/png": "[encoded data removed]",
      "text/plain": [
       "<Figure size 792x576 with 2 Axes>"
      ]
     },
     "metadata": {},
     "output_type": "display_data"
    }
   ],
   "source": [
    "#Corrplot for all of the variables\n",
    "sns.set(rc={'figure.figsize':(11,8)})\n",
    "corr = us_simplified_df.corr()\n",
    "sns.heatmap(corr, annot=True, fmt='.2f')\n",
    "plt.show()"
   ]
  },
  {
   "cell_type": "code",
   "execution_count": 39,
   "metadata": {},
   "outputs": [],
   "source": [
    "\n",
    "list_all_locations = list(us_simplified_df['locationcol'].unique())\n",
    "\n",
    "# Sample half of the locations\n",
    "# sample_num = int(round(len(list_all_locations)/2, 0))\n",
    "# list_locations_sampled = list_all_locations  #sample(list_all_locations, sample_num) list_all_locations"
   ]
  },
  {
   "cell_type": "code",
   "execution_count": 40,
   "metadata": {},
   "outputs": [
    {
     "data": {
      "text/plain": [
       "Index(['Date', 'Admin2', 'State', 'Confirmed', 'Deaths', 'Country/Region',\n",
       "       'Deaths_Previous', 'Confirmed_Previous', 'Deaths_New', 'Deaths_New_+7',\n",
       "       'Deaths_New_+14', 'Deaths_New_+21', 'Deaths_New_+28', 'Confirmed_New',\n",
       "       'locationcol'],\n",
       "      dtype='object')"
      ]
     },
     "execution_count": 40,
     "metadata": {},
     "output_type": "execute_result"
    }
   ],
   "source": [
    "us_simplified_df.columns"
   ]
  },
  {
   "cell_type": "markdown",
   "metadata": {},
   "source": [
    "## Fix Counties - Cities Confusion\n",
    "\n",
    "Some counties and cities have the same name. In the COVID dataset, the cities are reported with \"city\" but the counties have no appelation. In order for the lookup to work properly, we need to add \"County\" to these county-level reports. "
   ]
  },
  {
   "cell_type": "code",
   "execution_count": 41,
   "metadata": {},
   "outputs": [
    {
     "data": {
      "text/html": [
       "<div>\n",
       "<style scoped>\n",
       "    .dataframe tbody tr th:only-of-type {\n",
       "        vertical-align: middle;\n",
       "    }\n",
       "\n",
       "    .dataframe tbody tr th {\n",
       "        vertical-align: top;\n",
       "    }\n",
       "\n",
       "    .dataframe thead th {\n",
       "        text-align: right;\n",
       "    }\n",
       "</style>\n",
       "<table border=\"1\" class=\"dataframe\">\n",
       "  <thead>\n",
       "    <tr style=\"text-align: right;\">\n",
       "      <th></th>\n",
       "      <th>Date</th>\n",
       "      <th>Admin2</th>\n",
       "      <th>State</th>\n",
       "      <th>Confirmed</th>\n",
       "      <th>Deaths</th>\n",
       "      <th>Country/Region</th>\n",
       "      <th>Deaths_Previous</th>\n",
       "      <th>Confirmed_Previous</th>\n",
       "      <th>Deaths_New</th>\n",
       "      <th>Deaths_New_+7</th>\n",
       "      <th>Deaths_New_+14</th>\n",
       "      <th>Deaths_New_+21</th>\n",
       "      <th>Deaths_New_+28</th>\n",
       "      <th>Confirmed_New</th>\n",
       "      <th>locationcol</th>\n",
       "    </tr>\n",
       "  </thead>\n",
       "  <tbody>\n",
       "    <tr>\n",
       "      <th>400521</th>\n",
       "      <td>2020-01-23</td>\n",
       "      <td>Baltimore City</td>\n",
       "      <td>Maryland</td>\n",
       "      <td>0</td>\n",
       "      <td>0</td>\n",
       "      <td>US</td>\n",
       "      <td>0.0</td>\n",
       "      <td>0.0</td>\n",
       "      <td>0.0</td>\n",
       "      <td>0.0</td>\n",
       "      <td>0.0</td>\n",
       "      <td>0.0</td>\n",
       "      <td>0.0</td>\n",
       "      <td>0.0</td>\n",
       "      <td>Baltimore City|Maryland</td>\n",
       "    </tr>\n",
       "    <tr>\n",
       "      <th>400522</th>\n",
       "      <td>2020-01-24</td>\n",
       "      <td>Baltimore City</td>\n",
       "      <td>Maryland</td>\n",
       "      <td>0</td>\n",
       "      <td>0</td>\n",
       "      <td>US</td>\n",
       "      <td>0.0</td>\n",
       "      <td>0.0</td>\n",
       "      <td>0.0</td>\n",
       "      <td>0.0</td>\n",
       "      <td>0.0</td>\n",
       "      <td>0.0</td>\n",
       "      <td>0.0</td>\n",
       "      <td>0.0</td>\n",
       "      <td>Baltimore City|Maryland</td>\n",
       "    </tr>\n",
       "    <tr>\n",
       "      <th>400523</th>\n",
       "      <td>2020-01-25</td>\n",
       "      <td>Baltimore City</td>\n",
       "      <td>Maryland</td>\n",
       "      <td>0</td>\n",
       "      <td>0</td>\n",
       "      <td>US</td>\n",
       "      <td>0.0</td>\n",
       "      <td>0.0</td>\n",
       "      <td>0.0</td>\n",
       "      <td>0.0</td>\n",
       "      <td>0.0</td>\n",
       "      <td>0.0</td>\n",
       "      <td>0.0</td>\n",
       "      <td>0.0</td>\n",
       "      <td>Baltimore City|Maryland</td>\n",
       "    </tr>\n",
       "    <tr>\n",
       "      <th>400524</th>\n",
       "      <td>2020-01-26</td>\n",
       "      <td>Baltimore City</td>\n",
       "      <td>Maryland</td>\n",
       "      <td>0</td>\n",
       "      <td>0</td>\n",
       "      <td>US</td>\n",
       "      <td>0.0</td>\n",
       "      <td>0.0</td>\n",
       "      <td>0.0</td>\n",
       "      <td>0.0</td>\n",
       "      <td>0.0</td>\n",
       "      <td>0.0</td>\n",
       "      <td>0.0</td>\n",
       "      <td>0.0</td>\n",
       "      <td>Baltimore City|Maryland</td>\n",
       "    </tr>\n",
       "    <tr>\n",
       "      <th>400525</th>\n",
       "      <td>2020-01-27</td>\n",
       "      <td>Baltimore City</td>\n",
       "      <td>Maryland</td>\n",
       "      <td>0</td>\n",
       "      <td>0</td>\n",
       "      <td>US</td>\n",
       "      <td>0.0</td>\n",
       "      <td>0.0</td>\n",
       "      <td>0.0</td>\n",
       "      <td>0.0</td>\n",
       "      <td>0.0</td>\n",
       "      <td>0.0</td>\n",
       "      <td>0.0</td>\n",
       "      <td>0.0</td>\n",
       "      <td>Baltimore City|Maryland</td>\n",
       "    </tr>\n",
       "    <tr>\n",
       "      <th>...</th>\n",
       "      <td>...</td>\n",
       "      <td>...</td>\n",
       "      <td>...</td>\n",
       "      <td>...</td>\n",
       "      <td>...</td>\n",
       "      <td>...</td>\n",
       "      <td>...</td>\n",
       "      <td>...</td>\n",
       "      <td>...</td>\n",
       "      <td>...</td>\n",
       "      <td>...</td>\n",
       "      <td>...</td>\n",
       "      <td>...</td>\n",
       "      <td>...</td>\n",
       "      <td>...</td>\n",
       "    </tr>\n",
       "    <tr>\n",
       "      <th>1006758</th>\n",
       "      <td>2020-11-07</td>\n",
       "      <td>Roanoke City</td>\n",
       "      <td>Virginia</td>\n",
       "      <td>3224</td>\n",
       "      <td>47</td>\n",
       "      <td>US</td>\n",
       "      <td>47.0</td>\n",
       "      <td>3176.0</td>\n",
       "      <td>0.0</td>\n",
       "      <td>-1.0</td>\n",
       "      <td>1.0</td>\n",
       "      <td>3.0</td>\n",
       "      <td>0.0</td>\n",
       "      <td>48.0</td>\n",
       "      <td>Roanoke City|Virginia</td>\n",
       "    </tr>\n",
       "    <tr>\n",
       "      <th>1006759</th>\n",
       "      <td>2020-11-08</td>\n",
       "      <td>Roanoke City</td>\n",
       "      <td>Virginia</td>\n",
       "      <td>3240</td>\n",
       "      <td>47</td>\n",
       "      <td>US</td>\n",
       "      <td>47.0</td>\n",
       "      <td>3224.0</td>\n",
       "      <td>0.0</td>\n",
       "      <td>0.0</td>\n",
       "      <td>0.0</td>\n",
       "      <td>1.0</td>\n",
       "      <td>0.0</td>\n",
       "      <td>16.0</td>\n",
       "      <td>Roanoke City|Virginia</td>\n",
       "    </tr>\n",
       "    <tr>\n",
       "      <th>1006760</th>\n",
       "      <td>2020-11-09</td>\n",
       "      <td>Roanoke City</td>\n",
       "      <td>Virginia</td>\n",
       "      <td>3255</td>\n",
       "      <td>48</td>\n",
       "      <td>US</td>\n",
       "      <td>47.0</td>\n",
       "      <td>3240.0</td>\n",
       "      <td>1.0</td>\n",
       "      <td>1.0</td>\n",
       "      <td>0.0</td>\n",
       "      <td>0.0</td>\n",
       "      <td>0.0</td>\n",
       "      <td>15.0</td>\n",
       "      <td>Roanoke City|Virginia</td>\n",
       "    </tr>\n",
       "    <tr>\n",
       "      <th>1006761</th>\n",
       "      <td>2020-11-10</td>\n",
       "      <td>Roanoke City</td>\n",
       "      <td>Virginia</td>\n",
       "      <td>3313</td>\n",
       "      <td>50</td>\n",
       "      <td>US</td>\n",
       "      <td>48.0</td>\n",
       "      <td>3255.0</td>\n",
       "      <td>2.0</td>\n",
       "      <td>5.0</td>\n",
       "      <td>2.0</td>\n",
       "      <td>1.0</td>\n",
       "      <td>0.0</td>\n",
       "      <td>58.0</td>\n",
       "      <td>Roanoke City|Virginia</td>\n",
       "    </tr>\n",
       "    <tr>\n",
       "      <th>1006762</th>\n",
       "      <td>2020-11-11</td>\n",
       "      <td>Roanoke City</td>\n",
       "      <td>Virginia</td>\n",
       "      <td>3343</td>\n",
       "      <td>50</td>\n",
       "      <td>US</td>\n",
       "      <td>50.0</td>\n",
       "      <td>3313.0</td>\n",
       "      <td>0.0</td>\n",
       "      <td>3.0</td>\n",
       "      <td>2.0</td>\n",
       "      <td>0.0</td>\n",
       "      <td>0.0</td>\n",
       "      <td>30.0</td>\n",
       "      <td>Roanoke City|Virginia</td>\n",
       "    </tr>\n",
       "  </tbody>\n",
       "</table>\n",
       "<p>2940 rows × 15 columns</p>\n",
       "</div>"
      ],
      "text/plain": [
       "              Date          Admin2     State  Confirmed  Deaths  \\\n",
       "400521  2020-01-23  Baltimore City  Maryland          0       0   \n",
       "400522  2020-01-24  Baltimore City  Maryland          0       0   \n",
       "400523  2020-01-25  Baltimore City  Maryland          0       0   \n",
       "400524  2020-01-26  Baltimore City  Maryland          0       0   \n",
       "400525  2020-01-27  Baltimore City  Maryland          0       0   \n",
       "...            ...             ...       ...        ...     ...   \n",
       "1006758 2020-11-07    Roanoke City  Virginia       3224      47   \n",
       "1006759 2020-11-08    Roanoke City  Virginia       3240      47   \n",
       "1006760 2020-11-09    Roanoke City  Virginia       3255      48   \n",
       "1006761 2020-11-10    Roanoke City  Virginia       3313      50   \n",
       "1006762 2020-11-11    Roanoke City  Virginia       3343      50   \n",
       "\n",
       "        Country/Region  Deaths_Previous  Confirmed_Previous  Deaths_New  \\\n",
       "400521              US              0.0                 0.0         0.0   \n",
       "400522              US              0.0                 0.0         0.0   \n",
       "400523              US              0.0                 0.0         0.0   \n",
       "400524              US              0.0                 0.0         0.0   \n",
       "400525              US              0.0                 0.0         0.0   \n",
       "...                ...              ...                 ...         ...   \n",
       "1006758             US             47.0              3176.0         0.0   \n",
       "1006759             US             47.0              3224.0         0.0   \n",
       "1006760             US             47.0              3240.0         1.0   \n",
       "1006761             US             48.0              3255.0         2.0   \n",
       "1006762             US             50.0              3313.0         0.0   \n",
       "\n",
       "         Deaths_New_+7  Deaths_New_+14  Deaths_New_+21  Deaths_New_+28  \\\n",
       "400521             0.0             0.0             0.0             0.0   \n",
       "400522             0.0             0.0             0.0             0.0   \n",
       "400523             0.0             0.0             0.0             0.0   \n",
       "400524             0.0             0.0             0.0             0.0   \n",
       "400525             0.0             0.0             0.0             0.0   \n",
       "...                ...             ...             ...             ...   \n",
       "1006758           -1.0             1.0             3.0             0.0   \n",
       "1006759            0.0             0.0             1.0             0.0   \n",
       "1006760            1.0             0.0             0.0             0.0   \n",
       "1006761            5.0             2.0             1.0             0.0   \n",
       "1006762            3.0             2.0             0.0             0.0   \n",
       "\n",
       "         Confirmed_New              locationcol  \n",
       "400521             0.0  Baltimore City|Maryland  \n",
       "400522             0.0  Baltimore City|Maryland  \n",
       "400523             0.0  Baltimore City|Maryland  \n",
       "400524             0.0  Baltimore City|Maryland  \n",
       "400525             0.0  Baltimore City|Maryland  \n",
       "...                ...                      ...  \n",
       "1006758           48.0    Roanoke City|Virginia  \n",
       "1006759           16.0    Roanoke City|Virginia  \n",
       "1006760           15.0    Roanoke City|Virginia  \n",
       "1006761           58.0    Roanoke City|Virginia  \n",
       "1006762           30.0    Roanoke City|Virginia  \n",
       "\n",
       "[2940 rows x 15 columns]"
      ]
     },
     "execution_count": 41,
     "metadata": {},
     "output_type": "execute_result"
    }
   ],
   "source": [
    "us_simplified_df_nona = us_simplified_df.dropna()\n",
    "\n",
    "fairfax = us_simplified_df_nona[us_simplified_df_nona.Admin2.str.contains(\"City\")]\n",
    "\n",
    "fairfax"
   ]
  },
  {
   "cell_type": "code",
   "execution_count": 42,
   "metadata": {},
   "outputs": [
    {
     "data": {
      "text/html": [
       "<div>\n",
       "<style scoped>\n",
       "    .dataframe tbody tr th:only-of-type {\n",
       "        vertical-align: middle;\n",
       "    }\n",
       "\n",
       "    .dataframe tbody tr th {\n",
       "        vertical-align: top;\n",
       "    }\n",
       "\n",
       "    .dataframe thead th {\n",
       "        text-align: right;\n",
       "    }\n",
       "</style>\n",
       "<table border=\"1\" class=\"dataframe\">\n",
       "  <thead>\n",
       "    <tr style=\"text-align: right;\">\n",
       "      <th></th>\n",
       "      <th>Date</th>\n",
       "      <th>State</th>\n",
       "      <th>Confirmed</th>\n",
       "      <th>Deaths</th>\n",
       "      <th>Country/Region</th>\n",
       "      <th>Deaths_Previous</th>\n",
       "      <th>Confirmed_Previous</th>\n",
       "      <th>Deaths_New</th>\n",
       "      <th>Deaths_New_+7</th>\n",
       "      <th>Deaths_New_+14</th>\n",
       "      <th>Deaths_New_+21</th>\n",
       "      <th>Deaths_New_+28</th>\n",
       "      <th>Confirmed_New</th>\n",
       "      <th>locationcol</th>\n",
       "    </tr>\n",
       "    <tr>\n",
       "      <th>Admin2</th>\n",
       "      <th></th>\n",
       "      <th></th>\n",
       "      <th></th>\n",
       "      <th></th>\n",
       "      <th></th>\n",
       "      <th></th>\n",
       "      <th></th>\n",
       "      <th></th>\n",
       "      <th></th>\n",
       "      <th></th>\n",
       "      <th></th>\n",
       "      <th></th>\n",
       "      <th></th>\n",
       "      <th></th>\n",
       "    </tr>\n",
       "  </thead>\n",
       "  <tbody>\n",
       "    <tr>\n",
       "      <th>Baltimore City</th>\n",
       "      <td>2020-11-11</td>\n",
       "      <td>Maryland</td>\n",
       "      <td>19768</td>\n",
       "      <td>519</td>\n",
       "      <td>US</td>\n",
       "      <td>517.0</td>\n",
       "      <td>19549.0</td>\n",
       "      <td>11.0</td>\n",
       "      <td>11.0</td>\n",
       "      <td>11.0</td>\n",
       "      <td>11.0</td>\n",
       "      <td>12.0</td>\n",
       "      <td>267.0</td>\n",
       "      <td>Baltimore City|Maryland</td>\n",
       "    </tr>\n",
       "    <tr>\n",
       "      <th>Carson City</th>\n",
       "      <td>2020-11-11</td>\n",
       "      <td>Nevada</td>\n",
       "      <td>1005</td>\n",
       "      <td>11</td>\n",
       "      <td>US</td>\n",
       "      <td>11.0</td>\n",
       "      <td>994.0</td>\n",
       "      <td>1.0</td>\n",
       "      <td>1.0</td>\n",
       "      <td>1.0</td>\n",
       "      <td>7.0</td>\n",
       "      <td>7.0</td>\n",
       "      <td>103.0</td>\n",
       "      <td>Carson City|Nevada</td>\n",
       "    </tr>\n",
       "    <tr>\n",
       "      <th>Charles City</th>\n",
       "      <td>2020-11-11</td>\n",
       "      <td>Virginia</td>\n",
       "      <td>113</td>\n",
       "      <td>5</td>\n",
       "      <td>US</td>\n",
       "      <td>5.0</td>\n",
       "      <td>112.0</td>\n",
       "      <td>2.0</td>\n",
       "      <td>2.0</td>\n",
       "      <td>2.0</td>\n",
       "      <td>2.0</td>\n",
       "      <td>2.0</td>\n",
       "      <td>4.0</td>\n",
       "      <td>Charles City|Virginia</td>\n",
       "    </tr>\n",
       "    <tr>\n",
       "      <th>Fairfax City</th>\n",
       "      <td>2020-11-11</td>\n",
       "      <td>Virginia</td>\n",
       "      <td>178</td>\n",
       "      <td>8</td>\n",
       "      <td>US</td>\n",
       "      <td>8.0</td>\n",
       "      <td>175.0</td>\n",
       "      <td>2.0</td>\n",
       "      <td>2.0</td>\n",
       "      <td>2.0</td>\n",
       "      <td>2.0</td>\n",
       "      <td>2.0</td>\n",
       "      <td>10.0</td>\n",
       "      <td>Fairfax City|Virginia</td>\n",
       "    </tr>\n",
       "    <tr>\n",
       "      <th>Franklin City</th>\n",
       "      <td>2020-11-11</td>\n",
       "      <td>Virginia</td>\n",
       "      <td>521</td>\n",
       "      <td>14</td>\n",
       "      <td>US</td>\n",
       "      <td>14.0</td>\n",
       "      <td>520.0</td>\n",
       "      <td>2.0</td>\n",
       "      <td>2.0</td>\n",
       "      <td>2.0</td>\n",
       "      <td>2.0</td>\n",
       "      <td>2.0</td>\n",
       "      <td>22.0</td>\n",
       "      <td>Franklin City|Virginia</td>\n",
       "    </tr>\n",
       "    <tr>\n",
       "      <th>James City</th>\n",
       "      <td>2020-11-11</td>\n",
       "      <td>Virginia</td>\n",
       "      <td>1020</td>\n",
       "      <td>22</td>\n",
       "      <td>US</td>\n",
       "      <td>22.0</td>\n",
       "      <td>1018.0</td>\n",
       "      <td>10.0</td>\n",
       "      <td>10.0</td>\n",
       "      <td>10.0</td>\n",
       "      <td>10.0</td>\n",
       "      <td>10.0</td>\n",
       "      <td>35.0</td>\n",
       "      <td>James City|Virginia</td>\n",
       "    </tr>\n",
       "    <tr>\n",
       "      <th>Kansas City</th>\n",
       "      <td>2020-11-11</td>\n",
       "      <td>Missouri</td>\n",
       "      <td>17845</td>\n",
       "      <td>241</td>\n",
       "      <td>US</td>\n",
       "      <td>236.0</td>\n",
       "      <td>17564.0</td>\n",
       "      <td>17.0</td>\n",
       "      <td>17.0</td>\n",
       "      <td>17.0</td>\n",
       "      <td>17.0</td>\n",
       "      <td>17.0</td>\n",
       "      <td>835.0</td>\n",
       "      <td>Kansas City|Missouri</td>\n",
       "    </tr>\n",
       "    <tr>\n",
       "      <th>Richmond City</th>\n",
       "      <td>2020-11-11</td>\n",
       "      <td>Virginia</td>\n",
       "      <td>5840</td>\n",
       "      <td>78</td>\n",
       "      <td>US</td>\n",
       "      <td>78.0</td>\n",
       "      <td>5799.0</td>\n",
       "      <td>10.0</td>\n",
       "      <td>10.0</td>\n",
       "      <td>10.0</td>\n",
       "      <td>10.0</td>\n",
       "      <td>10.0</td>\n",
       "      <td>81.0</td>\n",
       "      <td>Richmond City|Virginia</td>\n",
       "    </tr>\n",
       "    <tr>\n",
       "      <th>Roanoke City</th>\n",
       "      <td>2020-11-11</td>\n",
       "      <td>Virginia</td>\n",
       "      <td>3343</td>\n",
       "      <td>50</td>\n",
       "      <td>US</td>\n",
       "      <td>50.0</td>\n",
       "      <td>3313.0</td>\n",
       "      <td>7.0</td>\n",
       "      <td>7.0</td>\n",
       "      <td>7.0</td>\n",
       "      <td>7.0</td>\n",
       "      <td>7.0</td>\n",
       "      <td>68.0</td>\n",
       "      <td>Roanoke City|Virginia</td>\n",
       "    </tr>\n",
       "    <tr>\n",
       "      <th>St. Louis City</th>\n",
       "      <td>2020-11-11</td>\n",
       "      <td>Missouri</td>\n",
       "      <td>9917</td>\n",
       "      <td>232</td>\n",
       "      <td>US</td>\n",
       "      <td>232.0</td>\n",
       "      <td>9917.0</td>\n",
       "      <td>15.0</td>\n",
       "      <td>15.0</td>\n",
       "      <td>15.0</td>\n",
       "      <td>15.0</td>\n",
       "      <td>15.0</td>\n",
       "      <td>305.0</td>\n",
       "      <td>St. Louis City|Missouri</td>\n",
       "    </tr>\n",
       "  </tbody>\n",
       "</table>\n",
       "</div>"
      ],
      "text/plain": [
       "                     Date     State  Confirmed  Deaths Country/Region  \\\n",
       "Admin2                                                                  \n",
       "Baltimore City 2020-11-11  Maryland      19768     519             US   \n",
       "Carson City    2020-11-11    Nevada       1005      11             US   \n",
       "Charles City   2020-11-11  Virginia        113       5             US   \n",
       "Fairfax City   2020-11-11  Virginia        178       8             US   \n",
       "Franklin City  2020-11-11  Virginia        521      14             US   \n",
       "James City     2020-11-11  Virginia       1020      22             US   \n",
       "Kansas City    2020-11-11  Missouri      17845     241             US   \n",
       "Richmond City  2020-11-11  Virginia       5840      78             US   \n",
       "Roanoke City   2020-11-11  Virginia       3343      50             US   \n",
       "St. Louis City 2020-11-11  Missouri       9917     232             US   \n",
       "\n",
       "                Deaths_Previous  Confirmed_Previous  Deaths_New  \\\n",
       "Admin2                                                            \n",
       "Baltimore City            517.0             19549.0        11.0   \n",
       "Carson City                11.0               994.0         1.0   \n",
       "Charles City                5.0               112.0         2.0   \n",
       "Fairfax City                8.0               175.0         2.0   \n",
       "Franklin City              14.0               520.0         2.0   \n",
       "James City                 22.0              1018.0        10.0   \n",
       "Kansas City               236.0             17564.0        17.0   \n",
       "Richmond City              78.0              5799.0        10.0   \n",
       "Roanoke City               50.0              3313.0         7.0   \n",
       "St. Louis City            232.0              9917.0        15.0   \n",
       "\n",
       "                Deaths_New_+7  Deaths_New_+14  Deaths_New_+21  Deaths_New_+28  \\\n",
       "Admin2                                                                          \n",
       "Baltimore City           11.0            11.0            11.0            12.0   \n",
       "Carson City               1.0             1.0             7.0             7.0   \n",
       "Charles City              2.0             2.0             2.0             2.0   \n",
       "Fairfax City              2.0             2.0             2.0             2.0   \n",
       "Franklin City             2.0             2.0             2.0             2.0   \n",
       "James City               10.0            10.0            10.0            10.0   \n",
       "Kansas City              17.0            17.0            17.0            17.0   \n",
       "Richmond City            10.0            10.0            10.0            10.0   \n",
       "Roanoke City              7.0             7.0             7.0             7.0   \n",
       "St. Louis City           15.0            15.0            15.0            15.0   \n",
       "\n",
       "                Confirmed_New              locationcol  \n",
       "Admin2                                                  \n",
       "Baltimore City          267.0  Baltimore City|Maryland  \n",
       "Carson City             103.0       Carson City|Nevada  \n",
       "Charles City              4.0    Charles City|Virginia  \n",
       "Fairfax City             10.0    Fairfax City|Virginia  \n",
       "Franklin City            22.0   Franklin City|Virginia  \n",
       "James City               35.0      James City|Virginia  \n",
       "Kansas City             835.0     Kansas City|Missouri  \n",
       "Richmond City            81.0   Richmond City|Virginia  \n",
       "Roanoke City             68.0    Roanoke City|Virginia  \n",
       "St. Louis City          305.0  St. Louis City|Missouri  "
      ]
     },
     "execution_count": 42,
     "metadata": {},
     "output_type": "execute_result"
    }
   ],
   "source": [
    "fairfax.groupby(\"Admin2\").max()"
   ]
  },
  {
   "cell_type": "code",
   "execution_count": 43,
   "metadata": {},
   "outputs": [
    {
     "name": "stderr",
     "output_type": "stream",
     "text": [
      "/Users/philip.ballentine/anaconda3/lib/python3.7/site-packages/pandas/core/generic.py:5168: SettingWithCopyWarning: \n",
      "A value is trying to be set on a copy of a slice from a DataFrame.\n",
      "Try using .loc[row_indexer,col_indexer] = value instead\n",
      "\n",
      "See the caveats in the documentation: https://pandas.pydata.org/pandas-docs/stable/user_guide/indexing.html#returning-a-view-versus-a-copy\n",
      "  self[name] = value\n"
     ]
    }
   ],
   "source": [
    "fairfax.locationcol = fairfax.Admin2+'|'+fairfax.State\n",
    "\n",
    "cities_list = list(fairfax.locationcol.unique())\n",
    "\n",
    "counties_with_citynames_list = [i.replace(' City','') for i in cities_list]"
   ]
  },
  {
   "cell_type": "code",
   "execution_count": 44,
   "metadata": {},
   "outputs": [
    {
     "data": {
      "text/plain": [
       "['Baltimore|Maryland',\n",
       " 'Kansas|Missouri',\n",
       " 'St. Louis|Missouri',\n",
       " 'Carson|Nevada',\n",
       " 'Charles|Virginia',\n",
       " 'Fairfax|Virginia',\n",
       " 'Franklin|Virginia',\n",
       " 'James|Virginia',\n",
       " 'Richmond|Virginia',\n",
       " 'Roanoke|Virginia']"
      ]
     },
     "execution_count": 44,
     "metadata": {},
     "output_type": "execute_result"
    }
   ],
   "source": [
    "counties_with_citynames_list"
   ]
  },
  {
   "cell_type": "code",
   "execution_count": 45,
   "metadata": {},
   "outputs": [],
   "source": [
    "no_county_issues = us_simplified_df[(us_simplified_df.Admin2+'|'+us_simplified_df.State).isin(counties_with_citynames_list) == False]"
   ]
  },
  {
   "cell_type": "code",
   "execution_count": 46,
   "metadata": {},
   "outputs": [],
   "source": [
    "county_issues = us_simplified_df[(us_simplified_df.Admin2+'|'+us_simplified_df.State).isin(counties_with_citynames_list)]"
   ]
  },
  {
   "cell_type": "code",
   "execution_count": 47,
   "metadata": {},
   "outputs": [
    {
     "name": "stderr",
     "output_type": "stream",
     "text": [
      "/Users/philip.ballentine/anaconda3/lib/python3.7/site-packages/pandas/core/generic.py:5168: SettingWithCopyWarning: \n",
      "A value is trying to be set on a copy of a slice from a DataFrame.\n",
      "Try using .loc[row_indexer,col_indexer] = value instead\n",
      "\n",
      "See the caveats in the documentation: https://pandas.pydata.org/pandas-docs/stable/user_guide/indexing.html#returning-a-view-versus-a-copy\n",
      "  self[name] = value\n"
     ]
    }
   ],
   "source": [
    "county_issues.Admin2 = county_issues.Admin2+' County'"
   ]
  },
  {
   "cell_type": "code",
   "execution_count": 48,
   "metadata": {},
   "outputs": [
    {
     "data": {
      "text/plain": [
       "array(['Baltimore County', 'St. Louis County', 'Fairfax County',\n",
       "       'Franklin County', 'Richmond County', 'Roanoke County'],\n",
       "      dtype=object)"
      ]
     },
     "execution_count": 48,
     "metadata": {},
     "output_type": "execute_result"
    }
   ],
   "source": [
    "county_issues.Admin2.unique()"
   ]
  },
  {
   "cell_type": "code",
   "execution_count": 49,
   "metadata": {},
   "outputs": [],
   "source": [
    "us_simplified_df_countyfixed = pd.concat([county_issues,no_county_issues],ignore_index=True)"
   ]
  },
  {
   "cell_type": "code",
   "execution_count": 50,
   "metadata": {},
   "outputs": [],
   "source": [
    "us_simplified_df_countyfixed.locationcol = us_simplified_df_countyfixed.Admin2+'|'+us_simplified_df_countyfixed.State"
   ]
  },
  {
   "cell_type": "code",
   "execution_count": 51,
   "metadata": {},
   "outputs": [
    {
     "data": {
      "text/plain": [
       "1.0"
      ]
     },
     "execution_count": 51,
     "metadata": {},
     "output_type": "execute_result"
    }
   ],
   "source": [
    "us_simplified_df_countyfixed.shape[0]/us_simplified_df.shape[0]"
   ]
  },
  {
   "cell_type": "code",
   "execution_count": 52,
   "metadata": {},
   "outputs": [],
   "source": [
    "us_simplified_df = us_simplified_df_countyfixed"
   ]
  },
  {
   "cell_type": "markdown",
   "metadata": {},
   "source": [
    "## County Level - Add the Rolling Averages and Recombine"
   ]
  },
  {
   "cell_type": "code",
   "execution_count": 53,
   "metadata": {},
   "outputs": [
    {
     "name": "stderr",
     "output_type": "stream",
     "text": [
      "  0%|          | 0/3283 [00:00<?, ?it/s]/Users/philip.ballentine/anaconda3/lib/python3.7/site-packages/ipykernel_launcher.py:4: SettingWithCopyWarning: \n",
      "A value is trying to be set on a copy of a slice from a DataFrame.\n",
      "Try using .loc[row_indexer,col_indexer] = value instead\n",
      "\n",
      "See the caveats in the documentation: https://pandas.pydata.org/pandas-docs/stable/user_guide/indexing.html#returning-a-view-versus-a-copy\n",
      "  after removing the cwd from sys.path.\n",
      "/Users/philip.ballentine/anaconda3/lib/python3.7/site-packages/ipykernel_launcher.py:5: SettingWithCopyWarning: \n",
      "A value is trying to be set on a copy of a slice from a DataFrame.\n",
      "Try using .loc[row_indexer,col_indexer] = value instead\n",
      "\n",
      "See the caveats in the documentation: https://pandas.pydata.org/pandas-docs/stable/user_guide/indexing.html#returning-a-view-versus-a-copy\n",
      "  \"\"\"\n",
      "/Users/philip.ballentine/anaconda3/lib/python3.7/site-packages/ipykernel_launcher.py:6: SettingWithCopyWarning: \n",
      "A value is trying to be set on a copy of a slice from a DataFrame.\n",
      "Try using .loc[row_indexer,col_indexer] = value instead\n",
      "\n",
      "See the caveats in the documentation: https://pandas.pydata.org/pandas-docs/stable/user_guide/indexing.html#returning-a-view-versus-a-copy\n",
      "  \n",
      "/Users/philip.ballentine/anaconda3/lib/python3.7/site-packages/ipykernel_launcher.py:7: SettingWithCopyWarning: \n",
      "A value is trying to be set on a copy of a slice from a DataFrame.\n",
      "Try using .loc[row_indexer,col_indexer] = value instead\n",
      "\n",
      "See the caveats in the documentation: https://pandas.pydata.org/pandas-docs/stable/user_guide/indexing.html#returning-a-view-versus-a-copy\n",
      "  import sys\n",
      "/Users/philip.ballentine/anaconda3/lib/python3.7/site-packages/ipykernel_launcher.py:8: SettingWithCopyWarning: \n",
      "A value is trying to be set on a copy of a slice from a DataFrame.\n",
      "Try using .loc[row_indexer,col_indexer] = value instead\n",
      "\n",
      "See the caveats in the documentation: https://pandas.pydata.org/pandas-docs/stable/user_guide/indexing.html#returning-a-view-versus-a-copy\n",
      "  \n",
      "/Users/philip.ballentine/anaconda3/lib/python3.7/site-packages/ipykernel_launcher.py:9: SettingWithCopyWarning: \n",
      "A value is trying to be set on a copy of a slice from a DataFrame.\n",
      "Try using .loc[row_indexer,col_indexer] = value instead\n",
      "\n",
      "See the caveats in the documentation: https://pandas.pydata.org/pandas-docs/stable/user_guide/indexing.html#returning-a-view-versus-a-copy\n",
      "  if __name__ == '__main__':\n",
      "100%|██████████| 3283/3283 [03:22<00:00, 16.24it/s]\n"
     ]
    }
   ],
   "source": [
    "list_frames = []\n",
    "for i in tqdm(list_all_locations):\n",
    "    frame = us_simplified_df[us_simplified_df.locationcol == i]\n",
    "    frame['Confirmed_New_RollingAvg'] = frame.rolling(7, min_periods=7, center=False, on=\"Date\")['Confirmed_New'].mean()\n",
    "    frame['Deaths_New_RollingAvg'] = frame.rolling(7, min_periods=7, center=False, on=\"Date\")['Deaths_New'].mean()\n",
    "    frame['Deaths_New_+7_RollingAvg'] = frame.rolling(7, min_periods=7, center=False, on=\"Date\")['Deaths_New_+7'].mean()\n",
    "    frame['Deaths_New_+14_RollingAvg'] = frame.rolling(7, min_periods=7, center=False, on=\"Date\")['Deaths_New_+14'].mean()\n",
    "    frame['Deaths_New_+21_RollingAvg'] = frame.rolling(7, min_periods=7, center=False, on=\"Date\")['Deaths_New_+21'].mean()\n",
    "    frame['Deaths_New_+28_RollingAvg'] = frame.rolling(7, min_periods=7, center=False, on=\"Date\")['Deaths_New_+28'].mean()\n",
    "    list_frames.append(frame)"
   ]
  },
  {
   "cell_type": "code",
   "execution_count": 54,
   "metadata": {},
   "outputs": [],
   "source": [
    "large_frame_df = pd.concat(list_frames)"
   ]
  },
  {
   "cell_type": "code",
   "execution_count": 55,
   "metadata": {},
   "outputs": [],
   "source": [
    "# Take a look at one county\n",
    "yuma = large_frame_df[large_frame_df['locationcol'] == 'Yuma|Arizona']"
   ]
  },
  {
   "cell_type": "code",
   "execution_count": 56,
   "metadata": {},
   "outputs": [
    {
     "data": {
      "image/png": "[encoded data removed]",
      "text/plain": [
       "<Figure size 792x576 with 1 Axes>"
      ]
     },
     "metadata": {},
     "output_type": "display_data"
    }
   ],
   "source": [
    "plot1 = sns.lineplot(x=\"Date\", y=\"Deaths_New\", data=yuma)\n",
    "plt1 = sns.lineplot(x=\"Date\", y=\"Deaths_New_+7_RollingAvg\", data=yuma)"
   ]
  },
  {
   "cell_type": "code",
   "execution_count": 57,
   "metadata": {},
   "outputs": [
    {
     "data": {
      "image/png": "[encoded data removed]",
      "text/plain": [
       "<Figure size 648x792 with 2 Axes>"
      ]
     },
     "metadata": {},
     "output_type": "display_data"
    }
   ],
   "source": [
    "#Corrplot\n",
    "sns.set(rc={'figure.figsize':(9,11)})\n",
    "corr = large_frame_df.corr()\n",
    "sns.heatmap(corr, annot=True, fmt='.2f')\n",
    "plt.show()"
   ]
  },
  {
   "cell_type": "markdown",
   "metadata": {},
   "source": [
    "## Mapping FIPS Codes to the COVID Dataset using addfips"
   ]
  },
  {
   "cell_type": "code",
   "execution_count": 58,
   "metadata": {},
   "outputs": [
    {
     "data": {
      "text/plain": [
       "Index(['Date', 'Admin2', 'State', 'Confirmed', 'Deaths', 'Country/Region',\n",
       "       'Deaths_Previous', 'Confirmed_Previous', 'Deaths_New', 'Deaths_New_+7',\n",
       "       'Deaths_New_+14', 'Deaths_New_+21', 'Deaths_New_+28', 'Confirmed_New',\n",
       "       'locationcol', 'Confirmed_New_RollingAvg', 'Deaths_New_RollingAvg',\n",
       "       'Deaths_New_+7_RollingAvg', 'Deaths_New_+14_RollingAvg',\n",
       "       'Deaths_New_+21_RollingAvg', 'Deaths_New_+28_RollingAvg'],\n",
       "      dtype='object')"
      ]
     },
     "execution_count": 58,
     "metadata": {},
     "output_type": "execute_result"
    }
   ],
   "source": [
    "large_frame_df.columns\n",
    "# No FIPS codes natively included in this dataset, so I had to construct a mapping process "
   ]
  },
  {
   "cell_type": "code",
   "execution_count": 59,
   "metadata": {},
   "outputs": [],
   "source": [
    "def lookup_location(locationstring):\n",
    "    af = addfips.AddFIPS()\n",
    "    try:\n",
    "        namelist = locationstring.split('|')\n",
    "        statename = namelist[1]\n",
    "        countyname = namelist[0]\n",
    "        fipscode = af.get_county_fips(countyname, state=statename)\n",
    "        return fipscode\n",
    "    except:\n",
    "        return np.NaN"
   ]
  },
  {
   "cell_type": "code",
   "execution_count": 60,
   "metadata": {},
   "outputs": [
    {
     "name": "stderr",
     "output_type": "stream",
     "text": [
      "/Users/philip.ballentine/anaconda3/lib/python3.7/site-packages/tqdm/std.py:697: FutureWarning: The Panel class is removed from pandas. Accessing it from the top-level namespace will also be removed in the next version\n",
      "  from pandas import Panel\n"
     ]
    }
   ],
   "source": [
    "tqdm.pandas()"
   ]
  },
  {
   "cell_type": "code",
   "execution_count": 61,
   "metadata": {},
   "outputs": [],
   "source": [
    "unique_counties = pd.DataFrame(large_frame_df.locationcol.unique(), columns = ['locationcol'])"
   ]
  },
  {
   "cell_type": "code",
   "execution_count": 62,
   "metadata": {},
   "outputs": [
    {
     "name": "stderr",
     "output_type": "stream",
     "text": [
      "100%|██████████| 3276/3276 [01:09<00:00, 46.87it/s]\n"
     ]
    }
   ],
   "source": [
    "unique_counties['County_FIPS'] = unique_counties['locationcol'].progress_apply(lookup_location)"
   ]
  },
  {
   "cell_type": "markdown",
   "metadata": {},
   "source": [
    "## Visualizing County-Level Data for COVID"
   ]
  },
  {
   "cell_type": "code",
   "execution_count": 63,
   "metadata": {},
   "outputs": [],
   "source": [
    "large_frame_df = large_frame_df.merge(unique_counties, on=\"locationcol\", how=\"left\")"
   ]
  },
  {
   "cell_type": "code",
   "execution_count": 64,
   "metadata": {},
   "outputs": [],
   "source": [
    "large_frame_df_mapping_counties = large_frame_df.groupby(['County_FIPS','State'])['Deaths'].max().reset_index()"
   ]
  },
  {
   "cell_type": "code",
   "execution_count": 65,
   "metadata": {},
   "outputs": [
    {
     "data": {
      "text/html": [
       "<div>\n",
       "<style scoped>\n",
       "    .dataframe tbody tr th:only-of-type {\n",
       "        vertical-align: middle;\n",
       "    }\n",
       "\n",
       "    .dataframe tbody tr th {\n",
       "        vertical-align: top;\n",
       "    }\n",
       "\n",
       "    .dataframe thead th {\n",
       "        text-align: right;\n",
       "    }\n",
       "</style>\n",
       "<table border=\"1\" class=\"dataframe\">\n",
       "  <thead>\n",
       "    <tr style=\"text-align: right;\">\n",
       "      <th></th>\n",
       "      <th>County_FIPS</th>\n",
       "      <th>State</th>\n",
       "      <th>Deaths</th>\n",
       "    </tr>\n",
       "  </thead>\n",
       "  <tbody>\n",
       "    <tr>\n",
       "      <th>0</th>\n",
       "      <td>01001</td>\n",
       "      <td>Alabama</td>\n",
       "      <td>42</td>\n",
       "    </tr>\n",
       "    <tr>\n",
       "      <th>1</th>\n",
       "      <td>01003</td>\n",
       "      <td>Alabama</td>\n",
       "      <td>141</td>\n",
       "    </tr>\n",
       "    <tr>\n",
       "      <th>2</th>\n",
       "      <td>01005</td>\n",
       "      <td>Alabama</td>\n",
       "      <td>30</td>\n",
       "    </tr>\n",
       "    <tr>\n",
       "      <th>3</th>\n",
       "      <td>01007</td>\n",
       "      <td>Alabama</td>\n",
       "      <td>39</td>\n",
       "    </tr>\n",
       "    <tr>\n",
       "      <th>4</th>\n",
       "      <td>01009</td>\n",
       "      <td>Alabama</td>\n",
       "      <td>47</td>\n",
       "    </tr>\n",
       "    <tr>\n",
       "      <th>5</th>\n",
       "      <td>01011</td>\n",
       "      <td>Alabama</td>\n",
       "      <td>20</td>\n",
       "    </tr>\n",
       "    <tr>\n",
       "      <th>6</th>\n",
       "      <td>01013</td>\n",
       "      <td>Alabama</td>\n",
       "      <td>42</td>\n",
       "    </tr>\n",
       "    <tr>\n",
       "      <th>7</th>\n",
       "      <td>01015</td>\n",
       "      <td>Alabama</td>\n",
       "      <td>127</td>\n",
       "    </tr>\n",
       "    <tr>\n",
       "      <th>8</th>\n",
       "      <td>01017</td>\n",
       "      <td>Alabama</td>\n",
       "      <td>55</td>\n",
       "    </tr>\n",
       "    <tr>\n",
       "      <th>9</th>\n",
       "      <td>01019</td>\n",
       "      <td>Alabama</td>\n",
       "      <td>24</td>\n",
       "    </tr>\n",
       "  </tbody>\n",
       "</table>\n",
       "</div>"
      ],
      "text/plain": [
       "  County_FIPS    State  Deaths\n",
       "0       01001  Alabama      42\n",
       "1       01003  Alabama     141\n",
       "2       01005  Alabama      30\n",
       "3       01007  Alabama      39\n",
       "4       01009  Alabama      47\n",
       "5       01011  Alabama      20\n",
       "6       01013  Alabama      42\n",
       "7       01015  Alabama     127\n",
       "8       01017  Alabama      55\n",
       "9       01019  Alabama      24"
      ]
     },
     "execution_count": 65,
     "metadata": {},
     "output_type": "execute_result"
    }
   ],
   "source": [
    "large_frame_df_mapping_counties.head(10)"
   ]
  },
  {
   "cell_type": "markdown",
   "metadata": {},
   "source": [
    "## Roll Up to State Level"
   ]
  },
  {
   "cell_type": "code",
   "execution_count": 66,
   "metadata": {},
   "outputs": [],
   "source": [
    "us_simplified_df = us_simplified_df.groupby(['State','Date']).sum().reset_index()"
   ]
  },
  {
   "cell_type": "code",
   "execution_count": 67,
   "metadata": {},
   "outputs": [
    {
     "name": "stderr",
     "output_type": "stream",
     "text": [
      "  0%|          | 0/58 [00:00<?, ?it/s]/Users/philip.ballentine/anaconda3/lib/python3.7/site-packages/ipykernel_launcher.py:4: SettingWithCopyWarning: \n",
      "A value is trying to be set on a copy of a slice from a DataFrame.\n",
      "Try using .loc[row_indexer,col_indexer] = value instead\n",
      "\n",
      "See the caveats in the documentation: https://pandas.pydata.org/pandas-docs/stable/user_guide/indexing.html#returning-a-view-versus-a-copy\n",
      "  after removing the cwd from sys.path.\n",
      "/Users/philip.ballentine/anaconda3/lib/python3.7/site-packages/ipykernel_launcher.py:5: SettingWithCopyWarning: \n",
      "A value is trying to be set on a copy of a slice from a DataFrame.\n",
      "Try using .loc[row_indexer,col_indexer] = value instead\n",
      "\n",
      "See the caveats in the documentation: https://pandas.pydata.org/pandas-docs/stable/user_guide/indexing.html#returning-a-view-versus-a-copy\n",
      "  \"\"\"\n",
      "/Users/philip.ballentine/anaconda3/lib/python3.7/site-packages/ipykernel_launcher.py:6: SettingWithCopyWarning: \n",
      "A value is trying to be set on a copy of a slice from a DataFrame.\n",
      "Try using .loc[row_indexer,col_indexer] = value instead\n",
      "\n",
      "See the caveats in the documentation: https://pandas.pydata.org/pandas-docs/stable/user_guide/indexing.html#returning-a-view-versus-a-copy\n",
      "  \n",
      "/Users/philip.ballentine/anaconda3/lib/python3.7/site-packages/ipykernel_launcher.py:7: SettingWithCopyWarning: \n",
      "A value is trying to be set on a copy of a slice from a DataFrame.\n",
      "Try using .loc[row_indexer,col_indexer] = value instead\n",
      "\n",
      "See the caveats in the documentation: https://pandas.pydata.org/pandas-docs/stable/user_guide/indexing.html#returning-a-view-versus-a-copy\n",
      "  import sys\n",
      "/Users/philip.ballentine/anaconda3/lib/python3.7/site-packages/ipykernel_launcher.py:8: SettingWithCopyWarning: \n",
      "A value is trying to be set on a copy of a slice from a DataFrame.\n",
      "Try using .loc[row_indexer,col_indexer] = value instead\n",
      "\n",
      "See the caveats in the documentation: https://pandas.pydata.org/pandas-docs/stable/user_guide/indexing.html#returning-a-view-versus-a-copy\n",
      "  \n",
      "100%|██████████| 58/58 [00:00<00:00, 184.37it/s]\n"
     ]
    }
   ],
   "source": [
    "list_frames = []\n",
    "for i in tqdm(list(us_simplified_df.State.unique())):\n",
    "    frame = us_simplified_df[us_simplified_df.State == i]\n",
    "    frame['Confirmed_New_RollingAvg'] = frame.rolling(7, min_periods=7, center=True, on=\"Date\")['Confirmed_New'].mean()\n",
    "    frame['Deaths_New_+7_RollingAvg'] = frame.rolling(7, min_periods=7, center=True, on=\"Date\")['Deaths_New_+7'].mean()\n",
    "    frame['Deaths_New_+14_RollingAvg'] = frame.rolling(7, min_periods=7, center=True, on=\"Date\")['Deaths_New_+14'].mean()\n",
    "    frame['Deaths_New_+21_RollingAvg'] = frame.rolling(7, min_periods=7, center=True, on=\"Date\")['Deaths_New_+21'].mean()\n",
    "    frame['Deaths_New_+28_RollingAvg'] = frame.rolling(7, min_periods=7, center=True, on=\"Date\")['Deaths_New_+28'].mean()\n",
    "    list_frames.append(frame)"
   ]
  },
  {
   "cell_type": "code",
   "execution_count": 68,
   "metadata": {},
   "outputs": [],
   "source": [
    "statelevel_large_df = pd.concat(list_frames)"
   ]
  },
  {
   "cell_type": "markdown",
   "metadata": {},
   "source": [
    "## Get State Region Names from State"
   ]
  },
  {
   "cell_type": "code",
   "execution_count": 69,
   "metadata": {},
   "outputs": [],
   "source": [
    "def normalize_name_from_state(x):\n",
    "    state = us.states.lookup(x)\n",
    "    normalized_state_name = state.name\n",
    "    return normalized_state_name"
   ]
  },
  {
   "cell_type": "code",
   "execution_count": 70,
   "metadata": {},
   "outputs": [],
   "source": [
    "states_regions = pd.read_csv('https://raw.githubusercontent.com/cphalpert/census-regions/master/us%20census%20bureau%20regions%20and%20divisions.csv')"
   ]
  },
  {
   "cell_type": "code",
   "execution_count": 71,
   "metadata": {},
   "outputs": [],
   "source": [
    "#states_regions"
   ]
  },
  {
   "cell_type": "code",
   "execution_count": 72,
   "metadata": {},
   "outputs": [],
   "source": [
    "states_regions_merged = statelevel_large_df.merge(states_regions, on=\"State\", how=\"left\")"
   ]
  },
  {
   "cell_type": "code",
   "execution_count": 73,
   "metadata": {},
   "outputs": [],
   "source": [
    "# some of these don't have regions\n",
    "states_regions_merged[states_regions_merged.Region.isna() == True]['State'].unique()\n",
    "states_regions_merged.Region.fillna('Other Region',inplace=True)"
   ]
  },
  {
   "cell_type": "code",
   "execution_count": 74,
   "metadata": {},
   "outputs": [
    {
     "data": {
      "text/plain": [
       "False    18386\n",
       "True       348\n",
       "Name: Confirmed_New_RollingAvg, dtype: int64"
      ]
     },
     "execution_count": 74,
     "metadata": {},
     "output_type": "execute_result"
    }
   ],
   "source": [
    "states_regions_merged.Confirmed_New_RollingAvg.isna().value_counts()"
   ]
  },
  {
   "cell_type": "code",
   "execution_count": 75,
   "metadata": {},
   "outputs": [],
   "source": [
    "states_regions_merged_nona = states_regions_merged.dropna()"
   ]
  },
  {
   "cell_type": "markdown",
   "metadata": {},
   "source": [
    "## County-Level Frame with Divisions Added"
   ]
  },
  {
   "cell_type": "code",
   "execution_count": 80,
   "metadata": {},
   "outputs": [],
   "source": [
    "large_frame_df_divisions = large_frame_df.merge(states_regions, on=\"State\", how=\"left\")"
   ]
  },
  {
   "cell_type": "code",
   "execution_count": 81,
   "metadata": {},
   "outputs": [
    {
     "data": {
      "text/html": [
       "<div>\n",
       "<style scoped>\n",
       "    .dataframe tbody tr th:only-of-type {\n",
       "        vertical-align: middle;\n",
       "    }\n",
       "\n",
       "    .dataframe tbody tr th {\n",
       "        vertical-align: top;\n",
       "    }\n",
       "\n",
       "    .dataframe thead th {\n",
       "        text-align: right;\n",
       "    }\n",
       "</style>\n",
       "<table border=\"1\" class=\"dataframe\">\n",
       "  <thead>\n",
       "    <tr style=\"text-align: right;\">\n",
       "      <th></th>\n",
       "      <th>Date</th>\n",
       "      <th>Admin2</th>\n",
       "      <th>State</th>\n",
       "      <th>Confirmed</th>\n",
       "      <th>Deaths</th>\n",
       "      <th>Country/Region</th>\n",
       "      <th>Deaths_Previous</th>\n",
       "      <th>Confirmed_Previous</th>\n",
       "      <th>Deaths_New</th>\n",
       "      <th>Deaths_New_+7</th>\n",
       "      <th>...</th>\n",
       "      <th>Confirmed_New_RollingAvg</th>\n",
       "      <th>Deaths_New_RollingAvg</th>\n",
       "      <th>Deaths_New_+7_RollingAvg</th>\n",
       "      <th>Deaths_New_+14_RollingAvg</th>\n",
       "      <th>Deaths_New_+21_RollingAvg</th>\n",
       "      <th>Deaths_New_+28_RollingAvg</th>\n",
       "      <th>County_FIPS</th>\n",
       "      <th>State Code</th>\n",
       "      <th>Region</th>\n",
       "      <th>Division</th>\n",
       "    </tr>\n",
       "  </thead>\n",
       "  <tbody>\n",
       "    <tr>\n",
       "      <th>0</th>\n",
       "      <td>2020-01-22</td>\n",
       "      <td>Autauga</td>\n",
       "      <td>Alabama</td>\n",
       "      <td>0</td>\n",
       "      <td>0</td>\n",
       "      <td>US</td>\n",
       "      <td>NaN</td>\n",
       "      <td>NaN</td>\n",
       "      <td>NaN</td>\n",
       "      <td>0.0</td>\n",
       "      <td>...</td>\n",
       "      <td>NaN</td>\n",
       "      <td>NaN</td>\n",
       "      <td>NaN</td>\n",
       "      <td>NaN</td>\n",
       "      <td>NaN</td>\n",
       "      <td>NaN</td>\n",
       "      <td>01001</td>\n",
       "      <td>AL</td>\n",
       "      <td>South</td>\n",
       "      <td>East South Central</td>\n",
       "    </tr>\n",
       "    <tr>\n",
       "      <th>1</th>\n",
       "      <td>2020-01-23</td>\n",
       "      <td>Autauga</td>\n",
       "      <td>Alabama</td>\n",
       "      <td>0</td>\n",
       "      <td>0</td>\n",
       "      <td>US</td>\n",
       "      <td>0.0</td>\n",
       "      <td>0.0</td>\n",
       "      <td>0.0</td>\n",
       "      <td>0.0</td>\n",
       "      <td>...</td>\n",
       "      <td>NaN</td>\n",
       "      <td>NaN</td>\n",
       "      <td>NaN</td>\n",
       "      <td>NaN</td>\n",
       "      <td>NaN</td>\n",
       "      <td>NaN</td>\n",
       "      <td>01001</td>\n",
       "      <td>AL</td>\n",
       "      <td>South</td>\n",
       "      <td>East South Central</td>\n",
       "    </tr>\n",
       "    <tr>\n",
       "      <th>2</th>\n",
       "      <td>2020-01-24</td>\n",
       "      <td>Autauga</td>\n",
       "      <td>Alabama</td>\n",
       "      <td>0</td>\n",
       "      <td>0</td>\n",
       "      <td>US</td>\n",
       "      <td>0.0</td>\n",
       "      <td>0.0</td>\n",
       "      <td>0.0</td>\n",
       "      <td>0.0</td>\n",
       "      <td>...</td>\n",
       "      <td>NaN</td>\n",
       "      <td>NaN</td>\n",
       "      <td>NaN</td>\n",
       "      <td>NaN</td>\n",
       "      <td>NaN</td>\n",
       "      <td>NaN</td>\n",
       "      <td>01001</td>\n",
       "      <td>AL</td>\n",
       "      <td>South</td>\n",
       "      <td>East South Central</td>\n",
       "    </tr>\n",
       "    <tr>\n",
       "      <th>3</th>\n",
       "      <td>2020-01-25</td>\n",
       "      <td>Autauga</td>\n",
       "      <td>Alabama</td>\n",
       "      <td>0</td>\n",
       "      <td>0</td>\n",
       "      <td>US</td>\n",
       "      <td>0.0</td>\n",
       "      <td>0.0</td>\n",
       "      <td>0.0</td>\n",
       "      <td>0.0</td>\n",
       "      <td>...</td>\n",
       "      <td>NaN</td>\n",
       "      <td>NaN</td>\n",
       "      <td>NaN</td>\n",
       "      <td>NaN</td>\n",
       "      <td>NaN</td>\n",
       "      <td>NaN</td>\n",
       "      <td>01001</td>\n",
       "      <td>AL</td>\n",
       "      <td>South</td>\n",
       "      <td>East South Central</td>\n",
       "    </tr>\n",
       "    <tr>\n",
       "      <th>4</th>\n",
       "      <td>2020-01-26</td>\n",
       "      <td>Autauga</td>\n",
       "      <td>Alabama</td>\n",
       "      <td>0</td>\n",
       "      <td>0</td>\n",
       "      <td>US</td>\n",
       "      <td>0.0</td>\n",
       "      <td>0.0</td>\n",
       "      <td>0.0</td>\n",
       "      <td>0.0</td>\n",
       "      <td>...</td>\n",
       "      <td>NaN</td>\n",
       "      <td>NaN</td>\n",
       "      <td>NaN</td>\n",
       "      <td>NaN</td>\n",
       "      <td>NaN</td>\n",
       "      <td>NaN</td>\n",
       "      <td>01001</td>\n",
       "      <td>AL</td>\n",
       "      <td>South</td>\n",
       "      <td>East South Central</td>\n",
       "    </tr>\n",
       "  </tbody>\n",
       "</table>\n",
       "<p>5 rows × 25 columns</p>\n",
       "</div>"
      ],
      "text/plain": [
       "        Date   Admin2    State  Confirmed  Deaths Country/Region  \\\n",
       "0 2020-01-22  Autauga  Alabama          0       0             US   \n",
       "1 2020-01-23  Autauga  Alabama          0       0             US   \n",
       "2 2020-01-24  Autauga  Alabama          0       0             US   \n",
       "3 2020-01-25  Autauga  Alabama          0       0             US   \n",
       "4 2020-01-26  Autauga  Alabama          0       0             US   \n",
       "\n",
       "   Deaths_Previous  Confirmed_Previous  Deaths_New  Deaths_New_+7  ...  \\\n",
       "0              NaN                 NaN         NaN            0.0  ...   \n",
       "1              0.0                 0.0         0.0            0.0  ...   \n",
       "2              0.0                 0.0         0.0            0.0  ...   \n",
       "3              0.0                 0.0         0.0            0.0  ...   \n",
       "4              0.0                 0.0         0.0            0.0  ...   \n",
       "\n",
       "   Confirmed_New_RollingAvg  Deaths_New_RollingAvg  Deaths_New_+7_RollingAvg  \\\n",
       "0                       NaN                    NaN                       NaN   \n",
       "1                       NaN                    NaN                       NaN   \n",
       "2                       NaN                    NaN                       NaN   \n",
       "3                       NaN                    NaN                       NaN   \n",
       "4                       NaN                    NaN                       NaN   \n",
       "\n",
       "   Deaths_New_+14_RollingAvg Deaths_New_+21_RollingAvg  \\\n",
       "0                        NaN                       NaN   \n",
       "1                        NaN                       NaN   \n",
       "2                        NaN                       NaN   \n",
       "3                        NaN                       NaN   \n",
       "4                        NaN                       NaN   \n",
       "\n",
       "   Deaths_New_+28_RollingAvg  County_FIPS  State Code  Region  \\\n",
       "0                        NaN        01001          AL   South   \n",
       "1                        NaN        01001          AL   South   \n",
       "2                        NaN        01001          AL   South   \n",
       "3                        NaN        01001          AL   South   \n",
       "4                        NaN        01001          AL   South   \n",
       "\n",
       "             Division  \n",
       "0  East South Central  \n",
       "1  East South Central  \n",
       "2  East South Central  \n",
       "3  East South Central  \n",
       "4  East South Central  \n",
       "\n",
       "[5 rows x 25 columns]"
      ]
     },
     "execution_count": 81,
     "metadata": {},
     "output_type": "execute_result"
    }
   ],
   "source": [
    "large_frame_df_divisions.head(5)"
   ]
  },
  {
   "cell_type": "markdown",
   "metadata": {},
   "source": [
    "## Export Full Dataset to File and Save Sample to FIle"
   ]
  },
  {
   "cell_type": "code",
   "execution_count": 82,
   "metadata": {},
   "outputs": [
    {
     "name": "stdout",
     "output_type": "stream",
     "text": [
      "covid_dataset_full.csv has been created in /Users/philip.ballentine/Documents/hia_covid_repo/hia_covid_data_assets\n"
     ]
    }
   ],
   "source": [
    "import os\n",
    "os.chdir(r'/Users/philip.ballentine/Documents/hia_covid_repo/hia_covid_data_assets/')\n",
    "path = str(os.getcwd())\n",
    "filename = \"covid_dataset_full.csv\"\n",
    "large_frame_df_divisions.to_csv(filename)\n",
    "print(\"{filename} has been created in {path}\".format(filename=filename, path=path))"
   ]
  },
  {
   "cell_type": "code",
   "execution_count": 83,
   "metadata": {},
   "outputs": [
    {
     "name": "stdout",
     "output_type": "stream",
     "text": [
      "covid_dataset_sample.csv has been created in /Users/philip.ballentine/Documents/hia_covid_repo/hia_covid_data_assets\n"
     ]
    }
   ],
   "source": [
    "#create sample\n",
    "large_frame_df_divisions_sample = large_frame_df_divisions.sample(frac=.1)\n",
    "\n",
    "filename = \"covid_dataset_sample.csv\"\n",
    "large_frame_df_divisions_sample.to_csv(filename)\n",
    "print(\"{filename} has been created in {path}\".format(filename=filename, path=path))"
   ]
  },
  {
   "cell_type": "code",
   "execution_count": null,
   "metadata": {},
   "outputs": [],
   "source": []
  },
  {
   "cell_type": "code",
   "execution_count": 84,
   "metadata": {},
   "outputs": [],
   "source": [
    "df = large_frame_df_divisions"
   ]
  },
  {
   "cell_type": "code",
   "execution_count": 86,
   "metadata": {},
   "outputs": [],
   "source": [
    "df_max = df[df.Date == df.Date.max()]"
   ]
  },
  {
   "cell_type": "code",
   "execution_count": 90,
   "metadata": {},
   "outputs": [
    {
     "data": {
      "text/plain": [
       "count    3276.000000\n",
       "mean       86.888278\n",
       "std       366.169703\n",
       "min         0.000000\n",
       "25%         6.000000\n",
       "50%        18.000000\n",
       "75%        51.000000\n",
       "max      8075.000000\n",
       "Name: Deaths, dtype: float64"
      ]
     },
     "execution_count": 90,
     "metadata": {},
     "output_type": "execute_result"
    }
   ],
   "source": [
    "df_max.Deaths.describe()"
   ]
  },
  {
   "cell_type": "code",
   "execution_count": null,
   "metadata": {},
   "outputs": [],
   "source": []
  }
 ],
 "metadata": {
  "kernelspec": {
   "display_name": "Python 3",
   "language": "python",
   "name": "python3"
  },
  "language_info": {
   "codemirror_mode": {
    "name": "ipython",
    "version": 3
   },
   "file_extension": ".py",
   "mimetype": "text/x-python",
   "name": "python",
   "nbconvert_exporter": "python",
   "pygments_lexer": "ipython3",
   "version": "3.7.7"
  }
 },
 "nbformat": 4,
 "nbformat_minor": 4
}
