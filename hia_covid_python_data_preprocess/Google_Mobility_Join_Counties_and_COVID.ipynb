{
 "cells": [
  {
   "cell_type": "code",
   "execution_count": 1,
   "metadata": {},
   "outputs": [],
   "source": [
    "import pandas as pd\n",
    "import seaborn as sns\n",
    "import statsmodels.api as sm\n",
    "import os\n",
    "import matplotlib.pyplot as plt"
   ]
  },
  {
   "cell_type": "markdown",
   "metadata": {},
   "source": [
    "## Import Mobility Data"
   ]
  },
  {
   "cell_type": "code",
   "execution_count": 2,
   "metadata": {},
   "outputs": [],
   "source": [
    "# keep FIPS as string to preserve leading zeroes\n",
    "# https://www.google.com/covid19/mobility/"
   ]
  },
  {
   "cell_type": "code",
   "execution_count": 3,
   "metadata": {},
   "outputs": [],
   "source": [
    "mob = pd.read_csv(r\"/Users/philip.ballentine/Documents/hia_covid_repo/hia_covid_data_assets/hia_covid_inputs/2020_US_Region_Mobility_Report.csv\", dtype={'census_fips_code': 'str'} )"
   ]
  },
  {
   "cell_type": "code",
   "execution_count": 4,
   "metadata": {},
   "outputs": [
    {
     "data": {
      "text/plain": [
       "Index(['country_region_code', 'country_region', 'sub_region_1', 'sub_region_2',\n",
       "       'metro_area', 'iso_3166_2_code', 'census_fips_code', 'date',\n",
       "       'retail_and_recreation_percent_change_from_baseline',\n",
       "       'grocery_and_pharmacy_percent_change_from_baseline',\n",
       "       'parks_percent_change_from_baseline',\n",
       "       'transit_stations_percent_change_from_baseline',\n",
       "       'workplaces_percent_change_from_baseline',\n",
       "       'residential_percent_change_from_baseline'],\n",
       "      dtype='object')"
      ]
     },
     "execution_count": 4,
     "metadata": {},
     "output_type": "execute_result"
    }
   ],
   "source": [
    "mob.columns"
   ]
  },
  {
   "cell_type": "code",
   "execution_count": 5,
   "metadata": {},
   "outputs": [
    {
     "data": {
      "text/plain": [
       "<seaborn.axisgrid.FacetGrid at 0x1a25963d50>"
      ]
     },
     "execution_count": 5,
     "metadata": {},
     "output_type": "execute_result"
    },
    {
     "data": {
      "image/png": "[encoded data removed]",
      "text/plain": [
       "<Figure size 1152x288 with 1 Axes>"
      ]
     },
     "metadata": {
      "needs_background": "light"
     },
     "output_type": "display_data"
    }
   ],
   "source": [
    "sns.displot(mob.date, height=4, aspect=4, )\n",
    "#plt.xticks(ticks_locations, labels, rotation=90)"
   ]
  },
  {
   "cell_type": "code",
   "execution_count": null,
   "metadata": {},
   "outputs": [],
   "source": []
  },
  {
   "cell_type": "code",
   "execution_count": null,
   "metadata": {},
   "outputs": [],
   "source": []
  },
  {
   "cell_type": "code",
   "execution_count": 6,
   "metadata": {},
   "outputs": [],
   "source": [
    "mob['date'] = mob['date'].astype('datetime64')"
   ]
  },
  {
   "cell_type": "code",
   "execution_count": 7,
   "metadata": {},
   "outputs": [],
   "source": [
    "mob_renam_col = [i.replace('percent_change_from_baseline', 'PCT_CFB') for i in mob.columns]"
   ]
  },
  {
   "cell_type": "code",
   "execution_count": 8,
   "metadata": {},
   "outputs": [],
   "source": [
    "mob.columns = mob_renam_col"
   ]
  },
  {
   "cell_type": "code",
   "execution_count": 9,
   "metadata": {},
   "outputs": [
    {
     "data": {
      "text/plain": [
       "['country_region_code',\n",
       " 'country_region',\n",
       " 'sub_region_1',\n",
       " 'sub_region_2',\n",
       " 'metro_area',\n",
       " 'iso_3166_2_code',\n",
       " 'census_fips_code',\n",
       " 'date',\n",
       " 'retail_and_recreation_PCT_CFB',\n",
       " 'grocery_and_pharmacy_PCT_CFB',\n",
       " 'parks_PCT_CFB',\n",
       " 'transit_stations_PCT_CFB',\n",
       " 'workplaces_PCT_CFB',\n",
       " 'residential_PCT_CFB']"
      ]
     },
     "execution_count": 9,
     "metadata": {},
     "output_type": "execute_result"
    }
   ],
   "source": [
    "mob_renam_col"
   ]
  },
  {
   "cell_type": "code",
   "execution_count": 10,
   "metadata": {},
   "outputs": [
    {
     "data": {
      "text/plain": [
       "country_region_code                      object\n",
       "country_region                           object\n",
       "sub_region_1                             object\n",
       "sub_region_2                             object\n",
       "metro_area                              float64\n",
       "iso_3166_2_code                          object\n",
       "census_fips_code                         object\n",
       "date                             datetime64[ns]\n",
       "retail_and_recreation_PCT_CFB           float64\n",
       "grocery_and_pharmacy_PCT_CFB            float64\n",
       "parks_PCT_CFB                           float64\n",
       "transit_stations_PCT_CFB                float64\n",
       "workplaces_PCT_CFB                      float64\n",
       "residential_PCT_CFB                     float64\n",
       "dtype: object"
      ]
     },
     "execution_count": 10,
     "metadata": {},
     "output_type": "execute_result"
    }
   ],
   "source": [
    "mob.dtypes"
   ]
  },
  {
   "cell_type": "code",
   "execution_count": 11,
   "metadata": {},
   "outputs": [],
   "source": [
    "mob.sort_values(by=\"date\", inplace=True)"
   ]
  },
  {
   "cell_type": "code",
   "execution_count": 12,
   "metadata": {},
   "outputs": [
    {
     "data": {
      "text/html": [
       "<div>\n",
       "<style scoped>\n",
       "    .dataframe tbody tr th:only-of-type {\n",
       "        vertical-align: middle;\n",
       "    }\n",
       "\n",
       "    .dataframe tbody tr th {\n",
       "        vertical-align: top;\n",
       "    }\n",
       "\n",
       "    .dataframe thead th {\n",
       "        text-align: right;\n",
       "    }\n",
       "</style>\n",
       "<table border=\"1\" class=\"dataframe\">\n",
       "  <thead>\n",
       "    <tr style=\"text-align: right;\">\n",
       "      <th></th>\n",
       "      <th>country_region_code</th>\n",
       "      <th>country_region</th>\n",
       "      <th>sub_region_1</th>\n",
       "      <th>sub_region_2</th>\n",
       "      <th>metro_area</th>\n",
       "      <th>iso_3166_2_code</th>\n",
       "      <th>census_fips_code</th>\n",
       "      <th>date</th>\n",
       "      <th>retail_and_recreation_PCT_CFB</th>\n",
       "      <th>grocery_and_pharmacy_PCT_CFB</th>\n",
       "      <th>parks_PCT_CFB</th>\n",
       "      <th>transit_stations_PCT_CFB</th>\n",
       "      <th>workplaces_PCT_CFB</th>\n",
       "      <th>residential_PCT_CFB</th>\n",
       "    </tr>\n",
       "  </thead>\n",
       "  <tbody>\n",
       "    <tr>\n",
       "      <th>0</th>\n",
       "      <td>US</td>\n",
       "      <td>United States</td>\n",
       "      <td>NaN</td>\n",
       "      <td>NaN</td>\n",
       "      <td>NaN</td>\n",
       "      <td>NaN</td>\n",
       "      <td>NaN</td>\n",
       "      <td>2020-02-15</td>\n",
       "      <td>6.0</td>\n",
       "      <td>2.0</td>\n",
       "      <td>15.0</td>\n",
       "      <td>3.0</td>\n",
       "      <td>2.0</td>\n",
       "      <td>-1.0</td>\n",
       "    </tr>\n",
       "    <tr>\n",
       "      <th>222414</th>\n",
       "      <td>US</td>\n",
       "      <td>United States</td>\n",
       "      <td>Kansas</td>\n",
       "      <td>Jackson County</td>\n",
       "      <td>NaN</td>\n",
       "      <td>NaN</td>\n",
       "      <td>20085</td>\n",
       "      <td>2020-02-15</td>\n",
       "      <td>2.0</td>\n",
       "      <td>-4.0</td>\n",
       "      <td>NaN</td>\n",
       "      <td>NaN</td>\n",
       "      <td>NaN</td>\n",
       "      <td>NaN</td>\n",
       "    </tr>\n",
       "    <tr>\n",
       "      <th>419645</th>\n",
       "      <td>US</td>\n",
       "      <td>United States</td>\n",
       "      <td>New York</td>\n",
       "      <td>Chemung County</td>\n",
       "      <td>NaN</td>\n",
       "      <td>NaN</td>\n",
       "      <td>36015</td>\n",
       "      <td>2020-02-15</td>\n",
       "      <td>11.0</td>\n",
       "      <td>-4.0</td>\n",
       "      <td>NaN</td>\n",
       "      <td>-9.0</td>\n",
       "      <td>3.0</td>\n",
       "      <td>1.0</td>\n",
       "    </tr>\n",
       "    <tr>\n",
       "      <th>222626</th>\n",
       "      <td>US</td>\n",
       "      <td>United States</td>\n",
       "      <td>Kansas</td>\n",
       "      <td>Jefferson County</td>\n",
       "      <td>NaN</td>\n",
       "      <td>NaN</td>\n",
       "      <td>20087</td>\n",
       "      <td>2020-02-15</td>\n",
       "      <td>NaN</td>\n",
       "      <td>5.0</td>\n",
       "      <td>NaN</td>\n",
       "      <td>NaN</td>\n",
       "      <td>7.0</td>\n",
       "      <td>NaN</td>\n",
       "    </tr>\n",
       "    <tr>\n",
       "      <th>27168</th>\n",
       "      <td>US</td>\n",
       "      <td>United States</td>\n",
       "      <td>Arkansas</td>\n",
       "      <td>Bradley County</td>\n",
       "      <td>NaN</td>\n",
       "      <td>NaN</td>\n",
       "      <td>05011</td>\n",
       "      <td>2020-02-15</td>\n",
       "      <td>-7.0</td>\n",
       "      <td>2.0</td>\n",
       "      <td>NaN</td>\n",
       "      <td>NaN</td>\n",
       "      <td>NaN</td>\n",
       "      <td>NaN</td>\n",
       "    </tr>\n",
       "  </tbody>\n",
       "</table>\n",
       "</div>"
      ],
      "text/plain": [
       "       country_region_code country_region sub_region_1      sub_region_2  \\\n",
       "0                       US  United States          NaN               NaN   \n",
       "222414                  US  United States       Kansas    Jackson County   \n",
       "419645                  US  United States     New York    Chemung County   \n",
       "222626                  US  United States       Kansas  Jefferson County   \n",
       "27168                   US  United States     Arkansas    Bradley County   \n",
       "\n",
       "        metro_area iso_3166_2_code census_fips_code       date  \\\n",
       "0              NaN             NaN              NaN 2020-02-15   \n",
       "222414         NaN             NaN            20085 2020-02-15   \n",
       "419645         NaN             NaN            36015 2020-02-15   \n",
       "222626         NaN             NaN            20087 2020-02-15   \n",
       "27168          NaN             NaN            05011 2020-02-15   \n",
       "\n",
       "        retail_and_recreation_PCT_CFB  grocery_and_pharmacy_PCT_CFB  \\\n",
       "0                                 6.0                           2.0   \n",
       "222414                            2.0                          -4.0   \n",
       "419645                           11.0                          -4.0   \n",
       "222626                            NaN                           5.0   \n",
       "27168                            -7.0                           2.0   \n",
       "\n",
       "        parks_PCT_CFB  transit_stations_PCT_CFB  workplaces_PCT_CFB  \\\n",
       "0                15.0                       3.0                 2.0   \n",
       "222414            NaN                       NaN                 NaN   \n",
       "419645            NaN                      -9.0                 3.0   \n",
       "222626            NaN                       NaN                 7.0   \n",
       "27168             NaN                       NaN                 NaN   \n",
       "\n",
       "        residential_PCT_CFB  \n",
       "0                      -1.0  \n",
       "222414                  NaN  \n",
       "419645                  1.0  \n",
       "222626                  NaN  \n",
       "27168                   NaN  "
      ]
     },
     "execution_count": 12,
     "metadata": {},
     "output_type": "execute_result"
    }
   ],
   "source": [
    "mob.head(5)"
   ]
  },
  {
   "cell_type": "markdown",
   "metadata": {},
   "source": [
    "## Compute Rolling Average of Mobility Data"
   ]
  },
  {
   "cell_type": "code",
   "execution_count": null,
   "metadata": {},
   "outputs": [
    {
     "name": "stderr",
     "output_type": "stream",
     "text": [
      "/Users/philip.ballentine/anaconda3/lib/python3.7/site-packages/ipykernel_launcher.py:5: SettingWithCopyWarning: \n",
      "A value is trying to be set on a copy of a slice from a DataFrame.\n",
      "Try using .loc[row_indexer,col_indexer] = value instead\n",
      "\n",
      "See the caveats in the documentation: https://pandas.pydata.org/pandas-docs/stable/user_guide/indexing.html#returning-a-view-versus-a-copy\n",
      "  \"\"\"\n",
      "/Users/philip.ballentine/anaconda3/lib/python3.7/site-packages/ipykernel_launcher.py:6: SettingWithCopyWarning: \n",
      "A value is trying to be set on a copy of a slice from a DataFrame.\n",
      "Try using .loc[row_indexer,col_indexer] = value instead\n",
      "\n",
      "See the caveats in the documentation: https://pandas.pydata.org/pandas-docs/stable/user_guide/indexing.html#returning-a-view-versus-a-copy\n",
      "  \n",
      "/Users/philip.ballentine/anaconda3/lib/python3.7/site-packages/ipykernel_launcher.py:7: SettingWithCopyWarning: \n",
      "A value is trying to be set on a copy of a slice from a DataFrame.\n",
      "Try using .loc[row_indexer,col_indexer] = value instead\n",
      "\n",
      "See the caveats in the documentation: https://pandas.pydata.org/pandas-docs/stable/user_guide/indexing.html#returning-a-view-versus-a-copy\n",
      "  import sys\n",
      "/Users/philip.ballentine/anaconda3/lib/python3.7/site-packages/ipykernel_launcher.py:8: SettingWithCopyWarning: \n",
      "A value is trying to be set on a copy of a slice from a DataFrame.\n",
      "Try using .loc[row_indexer,col_indexer] = value instead\n",
      "\n",
      "See the caveats in the documentation: https://pandas.pydata.org/pandas-docs/stable/user_guide/indexing.html#returning-a-view-versus-a-copy\n",
      "  \n",
      "/Users/philip.ballentine/anaconda3/lib/python3.7/site-packages/ipykernel_launcher.py:9: SettingWithCopyWarning: \n",
      "A value is trying to be set on a copy of a slice from a DataFrame.\n",
      "Try using .loc[row_indexer,col_indexer] = value instead\n",
      "\n",
      "See the caveats in the documentation: https://pandas.pydata.org/pandas-docs/stable/user_guide/indexing.html#returning-a-view-versus-a-copy\n",
      "  if __name__ == '__main__':\n",
      "/Users/philip.ballentine/anaconda3/lib/python3.7/site-packages/ipykernel_launcher.py:10: SettingWithCopyWarning: \n",
      "A value is trying to be set on a copy of a slice from a DataFrame.\n",
      "Try using .loc[row_indexer,col_indexer] = value instead\n",
      "\n",
      "See the caveats in the documentation: https://pandas.pydata.org/pandas-docs/stable/user_guide/indexing.html#returning-a-view-versus-a-copy\n",
      "  # Remove the CWD from sys.path while we load stuff.\n"
     ]
    }
   ],
   "source": [
    "list_all_locations = list(mob.census_fips_code.unique())\n",
    "list_frames = []\n",
    "for i in list_all_locations:\n",
    "    frame = mob[mob.census_fips_code == i]\n",
    "    frame['retail_and_recreation_PCT_CFB_RollingAvg'] = frame.rolling(7, min_periods=7, center=False, on=\"date\")['retail_and_recreation_PCT_CFB'].mean()\n",
    "    frame['grocery_and_pharmacy_PCT_CFB_RollingAvg'] = frame.rolling(7, min_periods=7, center=False, on=\"date\")['grocery_and_pharmacy_PCT_CFB'].mean()\n",
    "    frame['parks_PCT_CFB_RollingAvg'] = frame.rolling(7, min_periods=7, center=False, on=\"date\")['parks_PCT_CFB'].mean()\n",
    "    frame['transit_stations_PCT_CFB_RollingAvg'] = frame.rolling(7, min_periods=7, center=False, on=\"date\")['transit_stations_PCT_CFB'].mean()\n",
    "    frame['workplaces_PCT_CFB_RollingAvg'] = frame.rolling(7, min_periods=7, center=False, on=\"date\")['workplaces_PCT_CFB'].mean()\n",
    "    frame['residential_PCT_CFB_RollingAvg'] = frame.rolling(7, min_periods=7, center=False, on=\"date\")['residential_PCT_CFB'].mean()\n",
    "    list_frames.append(frame)"
   ]
  },
  {
   "cell_type": "code",
   "execution_count": null,
   "metadata": {},
   "outputs": [],
   "source": [
    "recombine = pd.concat(list_frames)"
   ]
  },
  {
   "cell_type": "code",
   "execution_count": null,
   "metadata": {},
   "outputs": [],
   "source": [
    "mobility_final = recombine"
   ]
  },
  {
   "cell_type": "code",
   "execution_count": null,
   "metadata": {},
   "outputs": [],
   "source": [
    "mobility_final['Date'] = mobility_final['date']\n",
    "\n",
    "mobility_final.drop(columns=['date'], inplace=True)"
   ]
  },
  {
   "cell_type": "code",
   "execution_count": null,
   "metadata": {},
   "outputs": [],
   "source": [
    "mobility_final['County_FIPS'] = mobility_final['census_fips_code']\n",
    "mobility_final.drop(columns=['census_fips_code'], inplace=True)"
   ]
  },
  {
   "cell_type": "code",
   "execution_count": null,
   "metadata": {},
   "outputs": [],
   "source": [
    "mobility_final[(mobility_final.County_FIPS == \"12009\") & (mobility_final.Date > '2020-10-01')].head(-18)"
   ]
  },
  {
   "cell_type": "markdown",
   "metadata": {},
   "source": [
    "## Import County-Level Dataset"
   ]
  },
  {
   "cell_type": "code",
   "execution_count": null,
   "metadata": {},
   "outputs": [],
   "source": [
    "counties = pd.read_csv(r\"/Users/philip.ballentine/Documents/hia_covid_repo/hia_covid_data_assets/counties_dataset_full.csv\",dtype={'County_FIPS':'str'})"
   ]
  },
  {
   "cell_type": "code",
   "execution_count": null,
   "metadata": {},
   "outputs": [],
   "source": [
    "counties.dtypes"
   ]
  },
  {
   "cell_type": "code",
   "execution_count": null,
   "metadata": {},
   "outputs": [],
   "source": [
    "#mobility_counties = mobility_final.merge(counties, on = \"census_fips_code\", how=\"left\")"
   ]
  },
  {
   "cell_type": "markdown",
   "metadata": {},
   "source": [
    "## Bring in the COVID Data to be Joined In "
   ]
  },
  {
   "cell_type": "code",
   "execution_count": null,
   "metadata": {},
   "outputs": [],
   "source": [
    "covid = pd.read_csv(r\"/Users/philip.ballentine/Documents/hia_covid_repo/hia_covid_data_assets/covid_dataset_full.csv\",dtype={'County_FIPS':'str'})"
   ]
  },
  {
   "cell_type": "code",
   "execution_count": null,
   "metadata": {},
   "outputs": [],
   "source": [
    "covid.Date = covid.Date.astype(\"datetime64\")"
   ]
  },
  {
   "cell_type": "code",
   "execution_count": null,
   "metadata": {},
   "outputs": [],
   "source": [
    "covid.shape[0]"
   ]
  },
  {
   "cell_type": "code",
   "execution_count": null,
   "metadata": {},
   "outputs": [],
   "source": [
    "mobility_final.columns"
   ]
  },
  {
   "cell_type": "code",
   "execution_count": null,
   "metadata": {},
   "outputs": [],
   "source": [
    "covid_mobility = covid.merge(mobility_final, on =['Date','County_FIPS'], how=\"left\")"
   ]
  },
  {
   "cell_type": "code",
   "execution_count": null,
   "metadata": {},
   "outputs": [],
   "source": [
    "# Join in the Urban Data"
   ]
  },
  {
   "cell_type": "code",
   "execution_count": null,
   "metadata": {},
   "outputs": [],
   "source": [
    "mobility_covid_urban = covid_mobility.merge(counties, on=['County_FIPS'])"
   ]
  },
  {
   "cell_type": "code",
   "execution_count": null,
   "metadata": {},
   "outputs": [],
   "source": [
    "# Can't deal with the + signs, so remove these \n",
    "\n",
    "large_columns = list(mobility_covid_urban.columns)\n",
    "large_columns = [x.replace('+','') for x in large_columns]\n",
    "mobility_covid_urban.columns = large_columns"
   ]
  },
  {
   "cell_type": "code",
   "execution_count": null,
   "metadata": {},
   "outputs": [],
   "source": [
    "list(mobility_covid_urban.columns)"
   ]
  },
  {
   "cell_type": "code",
   "execution_count": null,
   "metadata": {},
   "outputs": [],
   "source": [
    "columns = [ 'Date',\n",
    " 'County_FIPS',\n",
    " 'State Code',\n",
    " 'Name',\n",
    " 'retail_and_recreation_PCT_CFB',\n",
    " 'grocery_and_pharmacy_PCT_CFB',\n",
    " 'parks_PCT_CFB',\n",
    " 'transit_stations_PCT_CFB',\n",
    " 'workplaces_PCT_CFB',\n",
    " 'residential_PCT_CFB',\n",
    " 'retail_and_recreation_PCT_CFB_RollingAvg',\n",
    " 'grocery_and_pharmacy_PCT_CFB_RollingAvg',\n",
    " 'parks_PCT_CFB_RollingAvg',\n",
    " 'transit_stations_PCT_CFB_RollingAvg',\n",
    " 'workplaces_PCT_CFB_RollingAvg',\n",
    " 'residential_PCT_CFB_RollingAvg',\n",
    " 'HS_DIPLOMA_ONLY_2018',\n",
    " 'SOME_COLLEGE_2018',\n",
    " 'BACHELORS_PLUS_2018',\n",
    " 'Poverty_PCT_2018',\n",
    " 'UrbanCD',\n",
    " 'Median_Income_2018',\n",
    " 'Population_ACS',\n",
    " 'Population_Black_ACS',\n",
    " 'Population_Hisp_ACS',\n",
    " 'Population_Native_ACS',\n",
    " 'PCT_Black_ACS',\n",
    " 'PCT_Hisp_ACS',\n",
    " 'PCT_Native_ACS',\n",
    " 'UrbanCD_Description',\n",
    " 'Metro',\n",
    " 'State',\n",
    " 'Confirmed',\n",
    " 'Deaths',\n",
    " 'Country/Region',\n",
    " 'Deaths_Previous',\n",
    " 'Confirmed_Previous',\n",
    " 'Deaths_New',\n",
    " 'Deaths_New_7',\n",
    " 'Deaths_New_14',\n",
    " 'Deaths_New_21',\n",
    " 'Deaths_New_28',\n",
    " 'Confirmed_New',\n",
    " 'locationcol',\n",
    " 'Confirmed_New_RollingAvg',\n",
    " 'Deaths_New_RollingAvg',\n",
    " 'Deaths_New_7_RollingAvg',\n",
    " 'Deaths_New_14_RollingAvg',\n",
    " 'Deaths_New_21_RollingAvg',\n",
    " 'Deaths_New_28_RollingAvg',\n",
    " ]"
   ]
  },
  {
   "cell_type": "code",
   "execution_count": null,
   "metadata": {},
   "outputs": [],
   "source": [
    "combined_dataset_sub = mobility_covid_urban[columns]"
   ]
  },
  {
   "cell_type": "code",
   "execution_count": null,
   "metadata": {},
   "outputs": [],
   "source": [
    "combined_dataset_sub"
   ]
  },
  {
   "cell_type": "code",
   "execution_count": null,
   "metadata": {},
   "outputs": [],
   "source": [
    "#check to see matching\n",
    "combined_dataset_sub[['State','State Code']].sample(frac=.00004)\n"
   ]
  },
  {
   "cell_type": "code",
   "execution_count": null,
   "metadata": {},
   "outputs": [],
   "source": [
    "def create_percapita_measures(dataframe):\n",
    "    list_col = list(dataframe.columns)\n",
    "    for i in list(dataframe.columns):\n",
    "        if \"death\" in i.lower() or \"confirmed\" in i.lower() and \"previous\" not in i.lower() :\n",
    "            try:\n",
    "                new_col_name = i+'_PER_100K'\n",
    "                dataframe[new_col_name] = dataframe[i]/(dataframe['Population_ACS']/100000)\n",
    "            except:\n",
    "                print(\"error occurred for {i}\".format(i=i)) "
   ]
  },
  {
   "cell_type": "code",
   "execution_count": null,
   "metadata": {},
   "outputs": [],
   "source": [
    "create_percapita_measures(combined_dataset_sub)"
   ]
  },
  {
   "cell_type": "code",
   "execution_count": null,
   "metadata": {},
   "outputs": [],
   "source": [
    "list(combined_dataset_sub.columns)"
   ]
  },
  {
   "cell_type": "code",
   "execution_count": null,
   "metadata": {},
   "outputs": [],
   "source": [
    "combined_dataset_sub.dtypes"
   ]
  },
  {
   "cell_type": "code",
   "execution_count": null,
   "metadata": {},
   "outputs": [],
   "source": [
    "combined_dataset_sub.Deaths_New_7_RollingAvg_PER_100K.isna().value_counts()"
   ]
  },
  {
   "cell_type": "code",
   "execution_count": null,
   "metadata": {},
   "outputs": [],
   "source": [
    "combined_dataset_sub.Population_ACS.isna().value_counts()"
   ]
  },
  {
   "cell_type": "code",
   "execution_count": null,
   "metadata": {},
   "outputs": [],
   "source": [
    "combined_dataset_sub.Deaths_New_7_RollingAvg_PER_100K.isna().value_counts()"
   ]
  },
  {
   "cell_type": "code",
   "execution_count": null,
   "metadata": {},
   "outputs": [],
   "source": [
    "combined_dataset_sub.Metro.isna().value_counts()"
   ]
  },
  {
   "cell_type": "markdown",
   "metadata": {},
   "source": [
    "## Get Regions"
   ]
  },
  {
   "cell_type": "code",
   "execution_count": null,
   "metadata": {},
   "outputs": [],
   "source": [
    "regions = pd.read_csv('https://raw.githubusercontent.com/cphalpert/census-regions/master/us%20census%20bureau%20regions%20and%20divisions.csv')"
   ]
  },
  {
   "cell_type": "code",
   "execution_count": null,
   "metadata": {},
   "outputs": [],
   "source": [
    "regions= regions.drop(['State'], axis=1)"
   ]
  },
  {
   "cell_type": "code",
   "execution_count": null,
   "metadata": {},
   "outputs": [],
   "source": [
    "regions"
   ]
  },
  {
   "cell_type": "code",
   "execution_count": null,
   "metadata": {},
   "outputs": [],
   "source": [
    "nostate = combined_dataset_sub[combined_dataset_sub['State Code'].isna()==True]"
   ]
  },
  {
   "cell_type": "code",
   "execution_count": null,
   "metadata": {},
   "outputs": [],
   "source": [
    "combined_dataset_sub_states = combined_dataset_sub[combined_dataset_sub['State Code'].isna()==False]"
   ]
  },
  {
   "cell_type": "code",
   "execution_count": null,
   "metadata": {},
   "outputs": [],
   "source": [
    "combined_dataset_sub_regions = combined_dataset_sub_states.merge(regions, on=\"State Code\", how=\"inner\")"
   ]
  },
  {
   "cell_type": "code",
   "execution_count": null,
   "metadata": {},
   "outputs": [],
   "source": [
    "combined_dataset_sub_regions.Division.isna().value_counts()"
   ]
  },
  {
   "cell_type": "code",
   "execution_count": 51,
   "metadata": {},
   "outputs": [
    {
     "name": "stderr",
     "output_type": "stream",
     "text": [
      "/Users/philip.ballentine/anaconda3/lib/python3.7/site-packages/pandas/core/frame.py:4170: SettingWithCopyWarning: \n",
      "A value is trying to be set on a copy of a slice from a DataFrame\n",
      "\n",
      "See the caveats in the documentation: https://pandas.pydata.org/pandas-docs/stable/user_guide/indexing.html#returning-a-view-versus-a-copy\n",
      "  errors=errors,\n"
     ]
    }
   ],
   "source": [
    "frame03_06 = combined_dataset_sub_regions[(combined_dataset_sub_regions['Date'] >= '2020-03-01') & (combined_dataset_sub_regions['Date'] <= '2020-06-01') ]\n",
    "frame03_06.drop(columns=['State Code'], inplace=True)\n",
    "frame03_06 = pd.DataFrame(frame03_06.groupby([\"County_FIPS\",'Metro','Name','Region','Division']).mean()).reset_index()"
   ]
  },
  {
   "cell_type": "code",
   "execution_count": 52,
   "metadata": {},
   "outputs": [],
   "source": [
    "frame06_09 = combined_dataset_sub_regions[(combined_dataset_sub_regions['Date'] >= '2020-06-01') & (combined_dataset_sub_regions['Date'] <= '2020-09-01') ]\n",
    "frame06_09.drop(columns=['State Code'], inplace=True)\n",
    "frame06_09 = pd.DataFrame(frame06_09.groupby([\"County_FIPS\",'Metro','Name','Region','Division']).mean()).reset_index()"
   ]
  },
  {
   "cell_type": "code",
   "execution_count": 53,
   "metadata": {},
   "outputs": [],
   "source": [
    "frame09_12 = combined_dataset_sub_regions[(combined_dataset_sub_regions['Date'] >= '2020-09-01') & (combined_dataset_sub_regions['Date'] <= '2020-12-01') ]\n",
    "frame09_12.drop(columns=['State Code'], inplace=True)\n",
    "frame09_12 = pd.DataFrame(frame09_12.groupby([\"County_FIPS\",'Metro','Name','Region','Division']).mean()).reset_index()"
   ]
  },
  {
   "cell_type": "code",
   "execution_count": 54,
   "metadata": {},
   "outputs": [],
   "source": [
    "frame11_11 = combined_dataset_sub_regions[(combined_dataset_sub_regions['Date'] >= '2020-11-07') & (combined_dataset_sub_regions['Date'] <= '2020-11-21') ]\n",
    "frame11_11.drop(columns=['State Code'], inplace=True)\n",
    "frame11_11 = pd.DataFrame(frame11_11.groupby([\"County_FIPS\",'Metro','Name','Region','Division']).mean()).reset_index()"
   ]
  },
  {
   "cell_type": "code",
   "execution_count": 2,
   "metadata": {},
   "outputs": [
    {
     "ename": "NameError",
     "evalue": "name 'combined_dataset_sub_regions' is not defined",
     "output_type": "error",
     "traceback": [
      "\u001b[0;31m---------------------------------------------------------------------------\u001b[0m",
      "\u001b[0;31mNameError\u001b[0m                                 Traceback (most recent call last)",
      "\u001b[0;32m<ipython-input-2-32d4eba530e4>\u001b[0m in \u001b[0;36m<module>\u001b[0;34m\u001b[0m\n\u001b[0;32m----> 1\u001b[0;31m \u001b[0mframe1124\u001b[0m \u001b[0;34m=\u001b[0m \u001b[0mcombined_dataset_sub_regions\u001b[0m\u001b[0;34m[\u001b[0m\u001b[0mcombined_dataset_sub_regions\u001b[0m\u001b[0;34m[\u001b[0m\u001b[0;34m'Date'\u001b[0m\u001b[0;34m]\u001b[0m \u001b[0;34m==\u001b[0m \u001b[0;34m'2020-11-24'\u001b[0m\u001b[0;34m]\u001b[0m\u001b[0;34m\u001b[0m\u001b[0;34m\u001b[0m\u001b[0m\n\u001b[0m\u001b[1;32m      2\u001b[0m \u001b[0mframe1124\u001b[0m\u001b[0;34m.\u001b[0m\u001b[0mdrop\u001b[0m\u001b[0;34m(\u001b[0m\u001b[0mcolumns\u001b[0m\u001b[0;34m=\u001b[0m\u001b[0;34m[\u001b[0m\u001b[0;34m'State Code'\u001b[0m\u001b[0;34m]\u001b[0m\u001b[0;34m,\u001b[0m \u001b[0minplace\u001b[0m\u001b[0;34m=\u001b[0m\u001b[0;32mTrue\u001b[0m\u001b[0;34m)\u001b[0m\u001b[0;34m\u001b[0m\u001b[0;34m\u001b[0m\u001b[0m\n\u001b[1;32m      3\u001b[0m \u001b[0mframe1124\u001b[0m \u001b[0;34m=\u001b[0m \u001b[0mpd\u001b[0m\u001b[0;34m.\u001b[0m\u001b[0mDataFrame\u001b[0m\u001b[0;34m(\u001b[0m\u001b[0mframe1124\u001b[0m\u001b[0;34m.\u001b[0m\u001b[0mgroupby\u001b[0m\u001b[0;34m(\u001b[0m\u001b[0;34m[\u001b[0m\u001b[0;34m\"County_FIPS\"\u001b[0m\u001b[0;34m,\u001b[0m\u001b[0;34m'Metro'\u001b[0m\u001b[0;34m,\u001b[0m\u001b[0;34m'Name'\u001b[0m\u001b[0;34m,\u001b[0m\u001b[0;34m'Region'\u001b[0m\u001b[0;34m,\u001b[0m\u001b[0;34m'Division'\u001b[0m\u001b[0;34m]\u001b[0m\u001b[0;34m)\u001b[0m\u001b[0;34m.\u001b[0m\u001b[0mmean\u001b[0m\u001b[0;34m(\u001b[0m\u001b[0;34m)\u001b[0m\u001b[0;34m)\u001b[0m\u001b[0;34m.\u001b[0m\u001b[0mreset_index\u001b[0m\u001b[0;34m(\u001b[0m\u001b[0;34m)\u001b[0m\u001b[0;34m\u001b[0m\u001b[0;34m\u001b[0m\u001b[0m\n",
      "\u001b[0;31mNameError\u001b[0m: name 'combined_dataset_sub_regions' is not defined"
     ]
    }
   ],
   "source": [
    "frame1124 = combined_dataset_sub_regions[combined_dataset_sub_regions['Date'] == '2020-11-24']\n",
    "frame1124.drop(columns=['State Code'], inplace=True)\n",
    "frame1124 = pd.DataFrame(frame1124.groupby([\"County_FIPS\",'Metro','Name','Region','Division']).mean()).reset_index()"
   ]
  },
  {
   "cell_type": "markdown",
   "metadata": {},
   "source": [
    "## Export to File"
   ]
  },
  {
   "cell_type": "code",
   "execution_count": null,
   "metadata": {},
   "outputs": [],
   "source": [
    "path = str(os.getcwd())"
   ]
  },
  {
   "cell_type": "code",
   "execution_count": 55,
   "metadata": {},
   "outputs": [
    {
     "name": "stdout",
     "output_type": "stream",
     "text": [
      "hia_covid_combined.csv has been created in /Users/philip.ballentine/Documents/hia_covid_repo/hia_covid_data_assets\n"
     ]
    }
   ],
   "source": [
    "\n",
    "os.chdir(r'/Users/philip.ballentine/Documents/hia_covid_repo/hia_covid_data_assets/')\n",
    "filename = \"hia_covid_combined.csv\"\n",
    "combined_dataset_sub_regions.to_csv(filename)\n",
    "print(\"{filename} has been created in {path}\".format(filename=filename, path=path))"
   ]
  },
  {
   "cell_type": "code",
   "execution_count": 56,
   "metadata": {},
   "outputs": [
    {
     "name": "stdout",
     "output_type": "stream",
     "text": [
      "hia_covid_combined_sample.csv has been created in /Users/philip.ballentine/Documents/hia_covid_repo/hia_covid_data_assets\n"
     ]
    }
   ],
   "source": [
    "\n",
    "os.chdir(r'/Users/philip.ballentine/Documents/hia_covid_repo/hia_covid_data_assets/')\n",
    "filename = \"hia_covid_combined_sample.csv\"\n",
    "combined_dataset_sub_regions.sample(frac=.10).to_csv(filename)\n",
    "print(\"{filename} has been created in {path}\".format(filename=filename, path=path))"
   ]
  },
  {
   "cell_type": "markdown",
   "metadata": {},
   "source": []
  },
  {
   "cell_type": "code",
   "execution_count": 57,
   "metadata": {},
   "outputs": [
    {
     "name": "stdout",
     "output_type": "stream",
     "text": [
      "hia_covid_0601_0901.csv has been created in /Users/philip.ballentine/Documents/hia_covid_repo/hia_covid_data_assets\n"
     ]
    }
   ],
   "source": [
    "os.chdir(r'/Users/philip.ballentine/Documents/hia_covid_repo/hia_covid_data_assets/')\n",
    "filename = \"hia_covid_0601_0901.csv\"\n",
    "frame06_09.to_csv(filename)\n",
    "print(\"{filename} has been created in {path}\".format(filename=filename, path=path))"
   ]
  },
  {
   "cell_type": "code",
   "execution_count": 58,
   "metadata": {},
   "outputs": [
    {
     "name": "stdout",
     "output_type": "stream",
     "text": [
      "hia_covid_0901_1201.csv has been created in /Users/philip.ballentine/Documents/hia_covid_repo/hia_covid_data_assets\n"
     ]
    }
   ],
   "source": [
    "os.chdir(r'/Users/philip.ballentine/Documents/hia_covid_repo/hia_covid_data_assets/')\n",
    "filename = \"hia_covid_0901_1201.csv\"\n",
    "frame09_12.to_csv(filename)\n",
    "print(\"{filename} has been created in {path}\".format(filename=filename, path=path))"
   ]
  },
  {
   "cell_type": "code",
   "execution_count": 59,
   "metadata": {},
   "outputs": [
    {
     "name": "stdout",
     "output_type": "stream",
     "text": [
      "hia_covid_0301_0601.csv has been created in /Users/philip.ballentine/Documents/hia_covid_repo/hia_covid_data_assets\n"
     ]
    }
   ],
   "source": [
    "os.chdir(r'/Users/philip.ballentine/Documents/hia_covid_repo/hia_covid_data_assets/')\n",
    "path = str(os.getcwd())\n",
    "filename = \"hia_covid_0301_0601.csv\"\n",
    "frame03_06.to_csv(filename)\n",
    "print(\"{filename} has been created in {path}\".format(filename=filename, path=path))"
   ]
  },
  {
   "cell_type": "code",
   "execution_count": 60,
   "metadata": {},
   "outputs": [
    {
     "name": "stdout",
     "output_type": "stream",
     "text": [
      "hia_covid_0301_0601.csv has been created in /Users/philip.ballentine/Documents/hia_covid_repo/hia_covid_data_assets\n"
     ]
    }
   ],
   "source": [
    "os.chdir(r'/Users/philip.ballentine/Documents/hia_covid_repo/hia_covid_data_assets/')\n",
    "filename = \"hia_covid_0301_0601.csv\"\n",
    "frame03_06.to_csv(filename)\n",
    "print(\"{filename} has been created in {path}\".format(filename=filename, path=path))"
   ]
  },
  {
   "cell_type": "code",
   "execution_count": 61,
   "metadata": {},
   "outputs": [
    {
     "name": "stdout",
     "output_type": "stream",
     "text": [
      "hia_covid_1107_1121.csv has been created in /Users/philip.ballentine/Documents/hia_covid_repo/hia_covid_data_assets\n"
     ]
    }
   ],
   "source": [
    "os.chdir(r'/Users/philip.ballentine/Documents/hia_covid_repo/hia_covid_data_assets/')\n",
    "filename = \"hia_covid_1107_1121.csv\"\n",
    "frame11_11.to_csv(filename)\n",
    "print(\"{filename} has been created in {path}\".format(filename=filename, path=path))"
   ]
  },
  {
   "cell_type": "code",
   "execution_count": null,
   "metadata": {},
   "outputs": [],
   "source": []
  },
  {
   "cell_type": "code",
   "execution_count": 62,
   "metadata": {},
   "outputs": [
    {
     "data": {
      "text/plain": [
       "819673    1\n",
       "819674    1\n",
       "819675    1\n",
       "819676    1\n",
       "819677    1\n",
       "819678    1\n",
       "819679    1\n",
       "819680    1\n",
       "819681    1\n",
       "819682    1\n",
       "819683    1\n",
       "819684    1\n",
       "819685    1\n",
       "819686    1\n",
       "819687    1\n",
       "819688    1\n",
       "819689    1\n",
       "819690    1\n",
       "819691    1\n",
       "819692    1\n",
       "819693    1\n",
       "819694    1\n",
       "819695    1\n",
       "819696    1\n",
       "819697    3\n",
       "819698    3\n",
       "819699    3\n",
       "819700    3\n",
       "819701    3\n",
       "819702    3\n",
       "819703    3\n",
       "Name: Deaths, dtype: int64"
      ]
     },
     "execution_count": 62,
     "metadata": {},
     "output_type": "execute_result"
    }
   ],
   "source": [
    "combined_dataset_sub_regions[(combined_dataset_sub_regions.Name == \"Foard County\") & (combined_dataset_sub_regions.Date > '2020-11-01')]['Deaths']"
   ]
  },
  {
   "cell_type": "code",
   "execution_count": 63,
   "metadata": {},
   "outputs": [
    {
     "data": {
      "text/plain": [
       "2593    1.0\n",
       "Name: Deaths, dtype: float64"
      ]
     },
     "execution_count": 63,
     "metadata": {},
     "output_type": "execute_result"
    }
   ],
   "source": [
    "frame11_11[frame11_11.Name == \"Foard County\"]['Deaths']"
   ]
  },
  {
   "cell_type": "code",
   "execution_count": 64,
   "metadata": {},
   "outputs": [],
   "source": [
    "pharm = mob[['grocery_and_pharmacy_PCT_CFB','date']].dropna()\n",
    "work = mob[['workplaces_PCT_CFB','date']].dropna()\n",
    "tr = mob[['transit_stations_PCT_CFB','date']].dropna()\n",
    "park = mob[['parks_PCT_CFB','date']].dropna()\n",
    "res = mob[['residential_PCT_CFB','date']].dropna()\n",
    "ret = mob[['retail_and_recreation_PCT_CFB','date']].dropna()"
   ]
  },
  {
   "cell_type": "code",
   "execution_count": 65,
   "metadata": {},
   "outputs": [
    {
     "data": {
      "image/png": "[encoded data removed]",
      "text/plain": [
       "<Figure size 540x180 with 1 Axes>"
      ]
     },
     "metadata": {
      "needs_background": "light"
     },
     "output_type": "display_data"
    },
    {
     "data": {
      "image/png": "[encoded data removed]",
      "text/plain": [
       "<Figure size 540x180 with 1 Axes>"
      ]
     },
     "metadata": {
      "needs_background": "light"
     },
     "output_type": "display_data"
    },
    {
     "data": {
      "image/png": "[encoded data removed]",
      "text/plain": [
       "<Figure size 540x180 with 1 Axes>"
      ]
     },
     "metadata": {
      "needs_background": "light"
     },
     "output_type": "display_data"
    },
    {
     "data": {
      "image/png": "[encoded data removed]",
      "text/plain": [
       "<Figure size 540x180 with 1 Axes>"
      ]
     },
     "metadata": {
      "needs_background": "light"
     },
     "output_type": "display_data"
    },
    {
     "data": {
      "image/png": "[encoded data removed]",
      "text/plain": [
       "<Figure size 540x180 with 1 Axes>"
      ]
     },
     "metadata": {
      "needs_background": "light"
     },
     "output_type": "display_data"
    },
    {
     "data": {
      "image/png": "[encoded data removed]",
      "text/plain": [
       "<Figure size 540x180 with 1 Axes>"
      ]
     },
     "metadata": {
      "needs_background": "light"
     },
     "output_type": "display_data"
    }
   ],
   "source": [
    "list_frames = [\n",
    "(pharm, 'grocery and pharmacy'),\n",
    "(work, 'workplaces'),\n",
    "(tr, 'transit stations'),\n",
    "(park, 'parks'),\n",
    "(res, 'residential'),\n",
    "(ret, 'retail and recreation')\n",
    "]\n",
    "\n",
    "for i in list_frames:\n",
    "    sns.displot(i[0].date, height=2.5, aspect=3, )\n",
    "    plt.title(\"{x}\".format(x=i[1]))"
   ]
  },
  {
   "cell_type": "code",
   "execution_count": null,
   "metadata": {},
   "outputs": [],
   "source": []
  }
 ],
 "metadata": {
  "kernelspec": {
   "display_name": "Python 3",
   "language": "python",
   "name": "python3"
  },
  "language_info": {
   "codemirror_mode": {
    "name": "ipython",
    "version": 3
   },
   "file_extension": ".py",
   "mimetype": "text/x-python",
   "name": "python",
   "nbconvert_exporter": "python",
   "pygments_lexer": "ipython3",
   "version": "3.7.7"
  }
 },
 "nbformat": 4,
 "nbformat_minor": 4
}
