{
 "cells": [
  {
   "cell_type": "code",
   "execution_count": 43,
   "metadata": {},
   "outputs": [],
   "source": [
    "import pandas as pd\n",
    "import seaborn as sns\n",
    "import statsmodels.api as sm\n",
    "import matplotlib.pyplot as plt\n",
    "import re"
   ]
  },
  {
   "cell_type": "code",
   "execution_count": 65,
   "metadata": {},
   "outputs": [
    {
     "ename": "SyntaxError",
     "evalue": "invalid syntax (<ipython-input-65-16d59d337ad1>, line 2)",
     "output_type": "error",
     "traceback": [
      "\u001b[0;36m  File \u001b[0;32m\"<ipython-input-65-16d59d337ad1>\"\u001b[0;36m, line \u001b[0;32m2\u001b[0m\n\u001b[0;31m    conda install -c conda-forge ipytest\u001b[0m\n\u001b[0m                ^\u001b[0m\n\u001b[0;31mSyntaxError\u001b[0m\u001b[0;31m:\u001b[0m invalid syntax\n"
     ]
    }
   ],
   "source": [
    "#conda install -c anaconda pytest\n"
   ]
  },
  {
   "cell_type": "code",
   "execution_count": 67,
   "metadata": {},
   "outputs": [],
   "source": [
    "#conda install -c conda-forge ipytest"
   ]
  },
  {
   "cell_type": "code",
   "execution_count": 71,
   "metadata": {},
   "outputs": [],
   "source": [
    "import pytest \n",
    "import ipytest\n",
    "ipytest.autoconfig()"
   ]
  },
  {
   "cell_type": "code",
   "execution_count": 146,
   "metadata": {},
   "outputs": [],
   "source": [
    "list_fips = pd.read_html(\"https://en.wikipedia.org/wiki/List_of_United_States_FIPS_codes_by_county\", match='FIPS', header=0, converters={'FIPS': str})[0]"
   ]
  },
  {
   "cell_type": "code",
   "execution_count": 72,
   "metadata": {},
   "outputs": [],
   "source": [
    "combined = pd.read_csv(r\"/Users/philip.ballentine/Documents/hia_covid_repo/hia_covid_data_assets/hia_covid_combined.csv\", dtype={'County_FIPS': 'str'} )"
   ]
  },
  {
   "cell_type": "code",
   "execution_count": 73,
   "metadata": {},
   "outputs": [],
   "source": [
    "covid = pd.read_csv(r\"/Users/philip.ballentine/Documents/hia_covid_repo/hia_covid_data_assets/covid_dataset_full.csv\", dtype={'County_FIPS': 'str'} )"
   ]
  },
  {
   "cell_type": "code",
   "execution_count": 74,
   "metadata": {},
   "outputs": [],
   "source": [
    "counties = pd.read_csv(r\"/Users/philip.ballentine/Documents/hia_covid_repo/hia_covid_data_assets/counties_dataset_full.csv\", dtype={'County_FIPS': 'str'} )"
   ]
  },
  {
   "cell_type": "code",
   "execution_count": 75,
   "metadata": {},
   "outputs": [],
   "source": []
  },
  {
   "cell_type": "code",
   "execution_count": 200,
   "metadata": {},
   "outputs": [],
   "source": [
    "list_combined = [combined, counties, covid]"
   ]
  },
  {
   "cell_type": "code",
   "execution_count": 207,
   "metadata": {},
   "outputs": [
    {
     "name": "stdout",
     "output_type": "stream",
     "text": [
      "FFF.F                                                                    [100%]\n",
      "=================================== FAILURES ===================================\n",
      "_____________________________ test_county_check_1 ______________________________\n",
      "\n",
      "    def test_county_check_1():\n",
      ">       assert county_check(covid, combined) == list()\n",
      "E       AssertionError: assert ['11001', '15...nan', '17099'] == []\n",
      "E         Left contains 5 more items, first extra item: '11001'\n",
      "E         Full diff:\n",
      "E         - []\n",
      "E         + ['11001', '15005', '51515', 'nan', '17099']\n",
      "\n",
      "<ipython-input-207-75d45ad5f3ff>:25: AssertionError\n",
      "_____________________________ test_county_check_2 ______________________________\n",
      "\n",
      "    def test_county_check_2():\n",
      ">       assert county_check(covid, counties) == list()\n",
      "E       AssertionError: assert ['11001', '15...nan', '17099'] == []\n",
      "E         Left contains 5 more items, first extra item: '11001'\n",
      "E         Full diff:\n",
      "E         - []\n",
      "E         + ['11001', '15005', '51515', 'nan', '17099']\n",
      "\n",
      "<ipython-input-207-75d45ad5f3ff>:28: AssertionError\n",
      "_____________________________ test_county_check_3 ______________________________\n",
      "\n",
      "    def test_county_check_3():\n",
      ">       assert county_check(counties, covid) == list()\n",
      "E       AssertionError: assert ['51067', '02...161', '51159'] == []\n",
      "E         Left contains 6 more items, first extra item: '51067'\n",
      "E         Full diff:\n",
      "E         - []\n",
      "E         + ['51067', '02164', '51019', '51059', '51161', '51159']\n",
      "\n",
      "<ipython-input-207-75d45ad5f3ff>:31: AssertionError\n",
      "____________________________ test_fips_notna_check _____________________________\n",
      "\n",
      "    def test_fips_notna_check():\n",
      ">       assert fips_notna_check([combined, counties, covid]) == list()\n",
      "E       AssertionError: assert ['Out of AL|A...ifornia', ...] == []\n",
      "E         Left contains 64 more items, first extra item: 'Out of AL|Alabama'\n",
      "E         Full diff:\n",
      "E           [\n",
      "E         -  ,\n",
      "E         +  'Out of AL|Alabama',\n",
      "E         +  'Bristol Bay plus Lake and Peninsula|Alaska',\n",
      "E         +  'Out of AK|Alaska',...\n",
      "E         \n",
      "E         ...Full output truncated (63 lines hidden), use '-vv' to show\n",
      "\n",
      "<ipython-input-207-75d45ad5f3ff>:37: AssertionError\n",
      "=========================== short test summary info ============================\n",
      "FAILED tmp5edqp246.py::test_county_check_1 - AssertionError: assert ['11001',...\n",
      "FAILED tmp5edqp246.py::test_county_check_2 - AssertionError: assert ['11001',...\n",
      "FAILED tmp5edqp246.py::test_county_check_3 - AssertionError: assert ['51067',...\n",
      "FAILED tmp5edqp246.py::test_fips_notna_check - AssertionError: assert ['Out o...\n",
      "4 failed, 1 passed in 2.65s\n"
     ]
    }
   ],
   "source": [
    "%%run_pytest[clean]\n",
    "\n",
    "def county_check(base,next_comp):\n",
    "    base_fips = set(base.County_FIPS.astype(\"str\").unique())\n",
    "    comparator_fips = set(next_comp.County_FIPS.astype(\"str\").unique())\n",
    "    missing = list((base_fips - comparator_fips))\n",
    "    missing = [str(i) for i in missing] # change to string so that it can be examined \n",
    "    r = re.compile(\"[^72].*\") # codes that match puerto rico can't be included\n",
    "    newlist = list(filter(r.match, missing)) # Read Note\n",
    "    return newlist\n",
    "\n",
    "def fips_notna_check(list_dfs):\n",
    "    list_locs_all = list()\n",
    "    for i in list_dfs:\n",
    "        df = i\n",
    "        df_na = df[df.County_FIPS.isna() == True]\n",
    "        try:\n",
    "            list_locs = list(df_na.Name.unique())\n",
    "            list_locs_all.extend(list_locs)\n",
    "        except:\n",
    "            list_locs = list(df_na.locationcol.unique())\n",
    "            list_locs_all.extend(list_locs)\n",
    "    return list_locs_all\n",
    "\n",
    "\n",
    "def test_county_check_1():\n",
    "    assert county_check(covid, combined) == list()\n",
    "\n",
    "def test_county_check_2():\n",
    "    assert county_check(covid, counties) == list()\n",
    "    \n",
    "def test_county_check_3():\n",
    "    assert county_check(counties, covid) == list()\n",
    "    \n",
    "def test_county_check_4():\n",
    "    assert county_check(combined, counties) == list()\n",
    "\n",
    "def test_fips_notna_check():\n",
    "    assert fips_notna_check([combined, counties, covid]) == list()\n"
   ]
  },
  {
   "cell_type": "code",
   "execution_count": 203,
   "metadata": {},
   "outputs": [
    {
     "data": {
      "text/plain": [
       "['Out of AL|Alabama',\n",
       " 'Bristol Bay plus Lake and Peninsula|Alaska',\n",
       " 'Out of AK|Alaska',\n",
       " 'Out of AZ|Arizona',\n",
       " 'Out of AR|Arkansas',\n",
       " 'Out of CA|California',\n",
       " 'Out of CO|Colorado',\n",
       " 'Out of CT|Connecticut',\n",
       " 'Out of DE|Delaware',\n",
       " 'Out of DC|District of Columbia',\n",
       " 'Out of FL|Florida',\n",
       " 'Out of GA|Georgia',\n",
       " 'Out of HI|Hawaii',\n",
       " 'Out of ID|Idaho',\n",
       " 'Out of IL|Illinois',\n",
       " 'Out of IN|Indiana',\n",
       " 'Out of IA|Iowa',\n",
       " 'Out of KS|Kansas',\n",
       " 'Out of KY|Kentucky',\n",
       " 'LaSalle|Louisiana',\n",
       " 'Out of LA|Louisiana',\n",
       " 'Out of ME|Maine',\n",
       " 'Out of MD|Maryland',\n",
       " 'Dukes and Nantucket|Massachusetts',\n",
       " 'Out of MA|Massachusetts',\n",
       " 'Federal Correctional Institution (FCI)|Michigan',\n",
       " 'Michigan Department of Corrections (MDOC)|Michigan',\n",
       " 'Out of MI|Michigan',\n",
       " 'Out of MN|Minnesota',\n",
       " 'Out of MS|Mississippi',\n",
       " 'Kansas City|Missouri',\n",
       " 'Out of MO|Missouri',\n",
       " 'Out of MT|Montana',\n",
       " 'Out of NE|Nebraska',\n",
       " 'Out of NV|Nevada',\n",
       " 'Out of NH|New Hampshire',\n",
       " 'Out of NJ|New Jersey',\n",
       " 'Out of NM|New Mexico',\n",
       " 'Out of NY|New York',\n",
       " 'Out of NC|North Carolina',\n",
       " 'Out of ND|North Dakota',\n",
       " 'Out of OH|Ohio',\n",
       " 'Out of OK|Oklahoma',\n",
       " 'Out of OR|Oregon',\n",
       " 'Out of PA|Pennsylvania',\n",
       " 'Out of PR|Puerto Rico',\n",
       " 'Out of RI|Rhode Island',\n",
       " 'Out of SC|South Carolina',\n",
       " 'Out of SD|South Dakota',\n",
       " 'Out of TN|Tennessee',\n",
       " 'Out of TX|Texas',\n",
       " 'Bear River|Utah',\n",
       " 'Central Utah|Utah',\n",
       " 'Out of UT|Utah',\n",
       " 'Southeast Utah|Utah',\n",
       " 'Southwest Utah|Utah',\n",
       " 'TriCounty|Utah',\n",
       " 'Weber-Morgan|Utah',\n",
       " 'Out of VT|Vermont',\n",
       " 'Out of VA|Virginia',\n",
       " 'Out of WA|Washington',\n",
       " 'Out of WV|West Virginia',\n",
       " 'Out of WI|Wisconsin',\n",
       " 'Out of WY|Wyoming']"
      ]
     },
     "execution_count": 203,
     "metadata": {},
     "output_type": "execute_result"
    }
   ],
   "source": [
    "fips_notna_check(list_combined)"
   ]
  },
  {
   "cell_type": "code",
   "execution_count": 193,
   "metadata": {},
   "outputs": [
    {
     "name": "stdout",
     "output_type": "stream",
     "text": [
      "\n",
      "no tests ran in 0.01s\n"
     ]
    }
   ],
   "source": [
    "%%run_pytest[clean]\n",
    "\n",
    "def fips_notna_check_test():\n",
    "    assert 1 == 2"
   ]
  },
  {
   "cell_type": "code",
   "execution_count": 140,
   "metadata": {},
   "outputs": [],
   "source": [
    "missinglist = county_check(counties, covid)"
   ]
  },
  {
   "cell_type": "code",
   "execution_count": 142,
   "metadata": {},
   "outputs": [
    {
     "data": {
      "text/html": [
       "<div>\n",
       "<style scoped>\n",
       "    .dataframe tbody tr th:only-of-type {\n",
       "        vertical-align: middle;\n",
       "    }\n",
       "\n",
       "    .dataframe tbody tr th {\n",
       "        vertical-align: top;\n",
       "    }\n",
       "\n",
       "    .dataframe thead th {\n",
       "        text-align: right;\n",
       "    }\n",
       "</style>\n",
       "<table border=\"1\" class=\"dataframe\">\n",
       "  <thead>\n",
       "    <tr style=\"text-align: right;\">\n",
       "      <th></th>\n",
       "      <th>FIPS</th>\n",
       "      <th>County or equivalent</th>\n",
       "      <th>State or equivalent</th>\n",
       "    </tr>\n",
       "  </thead>\n",
       "  <tbody>\n",
       "    <tr>\n",
       "      <th>0</th>\n",
       "      <td>51067</td>\n",
       "      <td>Franklin County</td>\n",
       "      <td>Virginia</td>\n",
       "    </tr>\n",
       "    <tr>\n",
       "      <th>1</th>\n",
       "      <td>02164</td>\n",
       "      <td>Lake and Peninsula Borough[a]</td>\n",
       "      <td>Alaska</td>\n",
       "    </tr>\n",
       "    <tr>\n",
       "      <th>2</th>\n",
       "      <td>51019</td>\n",
       "      <td>Bedford County[v]</td>\n",
       "      <td>Virginia</td>\n",
       "    </tr>\n",
       "    <tr>\n",
       "      <th>3</th>\n",
       "      <td>51059</td>\n",
       "      <td>Fairfax County</td>\n",
       "      <td>Virginia</td>\n",
       "    </tr>\n",
       "    <tr>\n",
       "      <th>4</th>\n",
       "      <td>51161</td>\n",
       "      <td>Roanoke County</td>\n",
       "      <td>Virginia</td>\n",
       "    </tr>\n",
       "    <tr>\n",
       "      <th>5</th>\n",
       "      <td>51159</td>\n",
       "      <td>Richmond County</td>\n",
       "      <td>Virginia</td>\n",
       "    </tr>\n",
       "  </tbody>\n",
       "</table>\n",
       "</div>"
      ],
      "text/plain": [
       "    FIPS           County or equivalent State or equivalent\n",
       "0  51067                Franklin County            Virginia\n",
       "1  02164  Lake and Peninsula Borough[a]              Alaska\n",
       "2  51019              Bedford County[v]            Virginia\n",
       "3  51059                 Fairfax County            Virginia\n",
       "4  51161                 Roanoke County            Virginia\n",
       "5  51159                Richmond County            Virginia"
      ]
     },
     "execution_count": 142,
     "metadata": {},
     "output_type": "execute_result"
    }
   ],
   "source": [
    "missingfips_df = pd.DataFrame(pd.Series(missinglist), columns = ['FIPS'])\n",
    "df = missingfips_df.merge(list_fips, on = [\"FIPS\"])\n",
    "df"
   ]
  },
  {
   "cell_type": "code",
   "execution_count": 184,
   "metadata": {},
   "outputs": [
    {
     "name": "stdout",
     "output_type": "stream",
     "text": [
      "\n",
      "no tests ran in 0.01s\n"
     ]
    }
   ],
   "source": [
    "%%run_pytest[clean]\n",
    "\n",
    "def fips_notna_check(list_dfs):\n",
    "    list_locs_all = list()\n",
    "    for i in list_dfs:\n",
    "        df = i\n",
    "        df_na = df[df.County_FIPS.isna() == True]\n",
    "        list_locs = list(df_na.locationcol.unique())\n",
    "        list_locs_all.extend(list_locs)\n",
    "    return list_locs_all\n",
    "\n",
    "def fips_notna_all_test():\n",
    "    assert  1 == 2 #fips_notna_check(list_combined) == list()\n"
   ]
  },
  {
   "cell_type": "code",
   "execution_count": 186,
   "metadata": {},
   "outputs": [
    {
     "ename": "AssertionError",
     "evalue": "assert 1 == 2",
     "output_type": "error",
     "traceback": [
      "\u001b[0;31m---------------------------------------------------------------------------\u001b[0m",
      "\u001b[0;31mAssertionError\u001b[0m                            Traceback (most recent call last)",
      "\u001b[0;32m<ipython-input-186-9053990b4e02>\u001b[0m in \u001b[0;36m<module>\u001b[0;34m\u001b[0m\n\u001b[0;32m----> 1\u001b[0;31m \u001b[0mfips_notna_all_test\u001b[0m\u001b[0;34m(\u001b[0m\u001b[0;34m)\u001b[0m\u001b[0;34m\u001b[0m\u001b[0;34m\u001b[0m\u001b[0m\n\u001b[0m",
      "\u001b[0;32m<ipython-input-184-3d80815dcaaa>\u001b[0m in \u001b[0;36mfips_notna_all_test\u001b[0;34m()\u001b[0m\n\u001b[1;32m      9\u001b[0m \u001b[0;34m\u001b[0m\u001b[0m\n\u001b[1;32m     10\u001b[0m \u001b[0;32mdef\u001b[0m \u001b[0mfips_notna_all_test\u001b[0m\u001b[0;34m(\u001b[0m\u001b[0;34m)\u001b[0m\u001b[0;34m:\u001b[0m\u001b[0;34m\u001b[0m\u001b[0;34m\u001b[0m\u001b[0m\n\u001b[0;32m---> 11\u001b[0;31m     \u001b[0;32massert\u001b[0m  \u001b[0;36m1\u001b[0m \u001b[0;34m==\u001b[0m \u001b[0;36m2\u001b[0m \u001b[0;31m#fips_notna_check(list_combined) == list()\u001b[0m\u001b[0;34m\u001b[0m\u001b[0;34m\u001b[0m\u001b[0m\n\u001b[0m",
      "\u001b[0;31mAssertionError\u001b[0m: assert 1 == 2"
     ]
    }
   ],
   "source": [
    "fips_notna_all_test()"
   ]
  },
  {
   "cell_type": "code",
   "execution_count": 179,
   "metadata": {},
   "outputs": [
    {
     "data": {
      "text/plain": [
       "[]"
      ]
     },
     "execution_count": 179,
     "metadata": {},
     "output_type": "execute_result"
    }
   ],
   "source": [
    "fips_notna_check(list_combined)"
   ]
  },
  {
   "cell_type": "code",
   "execution_count": 155,
   "metadata": {},
   "outputs": [
    {
     "data": {
      "text/plain": [
       "['Out of AL|Alabama',\n",
       " 'Bristol Bay plus Lake and Peninsula|Alaska',\n",
       " 'Out of AK|Alaska',\n",
       " 'Out of AZ|Arizona',\n",
       " 'Out of AR|Arkansas',\n",
       " 'Out of CA|California',\n",
       " 'Out of CO|Colorado',\n",
       " 'Out of CT|Connecticut',\n",
       " 'Out of DE|Delaware',\n",
       " 'Out of DC|District of Columbia',\n",
       " 'Out of FL|Florida',\n",
       " 'Out of GA|Georgia',\n",
       " 'Out of HI|Hawaii',\n",
       " 'Out of ID|Idaho',\n",
       " 'Out of IL|Illinois',\n",
       " 'Out of IN|Indiana',\n",
       " 'Out of IA|Iowa',\n",
       " 'Out of KS|Kansas',\n",
       " 'Out of KY|Kentucky',\n",
       " 'LaSalle|Louisiana',\n",
       " 'Out of LA|Louisiana',\n",
       " 'Out of ME|Maine',\n",
       " 'Out of MD|Maryland',\n",
       " 'Dukes and Nantucket|Massachusetts',\n",
       " 'Out of MA|Massachusetts',\n",
       " 'Federal Correctional Institution (FCI)|Michigan',\n",
       " 'Michigan Department of Corrections (MDOC)|Michigan',\n",
       " 'Out of MI|Michigan',\n",
       " 'Out of MN|Minnesota',\n",
       " 'Out of MS|Mississippi',\n",
       " 'Kansas City|Missouri',\n",
       " 'Out of MO|Missouri',\n",
       " 'Out of MT|Montana',\n",
       " 'Out of NE|Nebraska',\n",
       " 'Out of NV|Nevada',\n",
       " 'Out of NH|New Hampshire',\n",
       " 'Out of NJ|New Jersey',\n",
       " 'Out of NM|New Mexico',\n",
       " 'Out of NY|New York',\n",
       " 'Out of NC|North Carolina',\n",
       " 'Out of ND|North Dakota',\n",
       " 'Out of OH|Ohio',\n",
       " 'Out of OK|Oklahoma',\n",
       " 'Out of OR|Oregon',\n",
       " 'Out of PA|Pennsylvania',\n",
       " 'Out of PR|Puerto Rico',\n",
       " 'Out of RI|Rhode Island',\n",
       " 'Out of SC|South Carolina',\n",
       " 'Out of SD|South Dakota',\n",
       " 'Out of TN|Tennessee',\n",
       " 'Out of TX|Texas',\n",
       " 'Bear River|Utah',\n",
       " 'Central Utah|Utah',\n",
       " 'Out of UT|Utah',\n",
       " 'Southeast Utah|Utah',\n",
       " 'Southwest Utah|Utah',\n",
       " 'TriCounty|Utah',\n",
       " 'Weber-Morgan|Utah',\n",
       " 'Out of VT|Vermont',\n",
       " 'Out of VA|Virginia',\n",
       " 'Out of WA|Washington',\n",
       " 'Out of WV|West Virginia',\n",
       " 'Out of WI|Wisconsin',\n",
       " 'Out of WY|Wyoming']"
      ]
     },
     "execution_count": 155,
     "metadata": {},
     "output_type": "execute_result"
    }
   ],
   "source": [
    "list(covid[covid['County_FIPS'].isna() == True]['locationcol'].unique())"
   ]
  },
  {
   "cell_type": "code",
   "execution_count": 96,
   "metadata": {},
   "outputs": [
    {
     "name": "stdout",
     "output_type": "stream",
     "text": [
      "F                                                                        [100%]\n",
      "=================================== FAILURES ===================================\n",
      "_____________________________ test_daterange_check _____________________________\n",
      "\n",
      "    def test_daterange_check():\n",
      ">       assert daterange_check(covid) == 0\n",
      "E       assert 310 == 0\n",
      "E        +  where 310 = daterange_check(         Unnamed: 0        Date   Admin2    State  Confirmed  Deaths  \\\\n0                 0  2020-01-22  Autauga  Alab...        WY    West            Mountain  \\n1015559          WY    West            Mountain  \\n\\n[1015560 rows x 26 columns])\n",
      "\n",
      "<ipython-input-96-64c45459a5d2>:6: AssertionError\n",
      "=========================== short test summary info ============================\n",
      "FAILED tmpxf6bpbq8.py::test_daterange_check - assert 310 == 0\n",
      "1 failed in 0.85s\n"
     ]
    }
   ],
   "source": [
    "%%run_pytest[clean]\n",
    "\n",
    "def daterange_check(df):\n",
    "    df_count = df.groupby('Date').count()\n",
    "    df_count[df_count['Date']]\n",
    "    return df_count.shape[0]\n",
    "\n",
    "def test_daterange_check():\n",
    "    assert daterange_check(covid) == 0\n"
   ]
  },
  {
   "cell_type": "code",
   "execution_count": 15,
   "metadata": {},
   "outputs": [],
   "source": [
    "# Did we lose any counties"
   ]
  },
  {
   "cell_type": "code",
   "execution_count": 16,
   "metadata": {},
   "outputs": [],
   "source": [
    "# Did we lose any date ranges entirely?"
   ]
  },
  {
   "cell_type": "code",
   "execution_count": 17,
   "metadata": {},
   "outputs": [],
   "source": [
    "# Duplicates in data"
   ]
  },
  {
   "cell_type": "code",
   "execution_count": 18,
   "metadata": {},
   "outputs": [],
   "source": [
    "# Junk data \n",
    "## Negative counts of cases \n",
    "## Negative deaths "
   ]
  },
  {
   "cell_type": "code",
   "execution_count": null,
   "metadata": {},
   "outputs": [],
   "source": []
  }
 ],
 "metadata": {
  "kernelspec": {
   "display_name": "Python 3",
   "language": "python",
   "name": "python3"
  },
  "language_info": {
   "codemirror_mode": {
    "name": "ipython",
    "version": 3
   },
   "file_extension": ".py",
   "mimetype": "text/x-python",
   "name": "python",
   "nbconvert_exporter": "python",
   "pygments_lexer": "ipython3",
   "version": "3.7.7"
  }
 },
 "nbformat": 4,
 "nbformat_minor": 4
}
