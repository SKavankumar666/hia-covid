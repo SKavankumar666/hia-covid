{
 "cells": [
  {
   "cell_type": "code",
   "execution_count": 43,
   "metadata": {},
   "outputs": [],
   "source": [
    "import pandas as pd\n",
    "import seaborn as sns\n",
    "import statsmodels.api as sm\n",
    "import matplotlib.pyplot as plt\n",
    "import re"
   ]
  },
  {
   "cell_type": "code",
   "execution_count": 65,
   "metadata": {},
   "outputs": [
    {
     "ename": "SyntaxError",
     "evalue": "invalid syntax (<ipython-input-65-16d59d337ad1>, line 2)",
     "output_type": "error",
     "traceback": [
      "\u001b[0;36m  File \u001b[0;32m\"<ipython-input-65-16d59d337ad1>\"\u001b[0;36m, line \u001b[0;32m2\u001b[0m\n\u001b[0;31m    conda install -c conda-forge ipytest\u001b[0m\n\u001b[0m                ^\u001b[0m\n\u001b[0;31mSyntaxError\u001b[0m\u001b[0;31m:\u001b[0m invalid syntax\n"
     ]
    }
   ],
   "source": [
    "#conda install -c anaconda pytest\n"
   ]
  },
  {
   "cell_type": "code",
   "execution_count": 67,
   "metadata": {},
   "outputs": [],
   "source": [
    "#conda install -c conda-forge ipytest"
   ]
  },
  {
   "cell_type": "code",
   "execution_count": 71,
   "metadata": {},
   "outputs": [],
   "source": [
    "import pytest \n",
    "import ipytest\n",
    "ipytest.autoconfig()"
   ]
  },
  {
   "cell_type": "code",
   "execution_count": 146,
   "metadata": {},
   "outputs": [],
   "source": [
    "list_fips = pd.read_html(\"https://en.wikipedia.org/wiki/List_of_United_States_FIPS_codes_by_county\", match='FIPS', header=0, converters={'FIPS': str})[0]"
   ]
  },
  {
   "cell_type": "code",
   "execution_count": 72,
   "metadata": {},
   "outputs": [],
   "source": [
    "combined = pd.read_csv(r\"/Users/philip.ballentine/Documents/hia_covid_repo/hia_covid_data_assets/hia_covid_combined.csv\", dtype={'County_FIPS': 'str'} )"
   ]
  },
  {
   "cell_type": "code",
   "execution_count": 73,
   "metadata": {},
   "outputs": [],
   "source": [
    "covid = pd.read_csv(r\"/Users/philip.ballentine/Documents/hia_covid_repo/hia_covid_data_assets/covid_dataset_full.csv\", dtype={'County_FIPS': 'str'} )"
   ]
  },
  {
   "cell_type": "code",
   "execution_count": 74,
   "metadata": {},
   "outputs": [],
   "source": [
    "counties = pd.read_csv(r\"/Users/philip.ballentine/Documents/hia_covid_repo/hia_covid_data_assets/counties_dataset_full.csv\", dtype={'County_FIPS': 'str'} )"
   ]
  },
  {
   "cell_type": "code",
   "execution_count": 75,
   "metadata": {},
   "outputs": [],
   "source": []
  },
  {
   "cell_type": "code",
   "execution_count": 207,
   "metadata": {},
   "outputs": [
    {
     "name": "stdout",
     "output_type": "stream",
     "text": [
      "FFF.F                                                                    [100%]\n",
      "=================================== FAILURES ===================================\n",
      "_____________________________ test_county_check_1 ______________________________\n",
      "\n",
      "    def test_county_check_1():\n",
      ">       assert county_check(covid, combined) == list()\n",
      "E       AssertionError: assert ['11001', '15...nan', '17099'] == []\n",
      "E         Left contains 5 more items, first extra item: '11001'\n",
      "E         Full diff:\n",
      "E         - []\n",
      "E         + ['11001', '15005', '51515', 'nan', '17099']\n",
      "\n",
      "<ipython-input-207-75d45ad5f3ff>:25: AssertionError\n",
      "_____________________________ test_county_check_2 ______________________________\n",
      "\n",
      "    def test_county_check_2():\n",
      ">       assert county_check(covid, counties) == list()\n",
      "E       AssertionError: assert ['11001', '15...nan', '17099'] == []\n",
      "E         Left contains 5 more items, first extra item: '11001'\n",
      "E         Full diff:\n",
      "E         - []\n",
      "E         + ['11001', '15005', '51515', 'nan', '17099']\n",
      "\n",
      "<ipython-input-207-75d45ad5f3ff>:28: AssertionError\n",
      "_____________________________ test_county_check_3 ______________________________\n",
      "\n",
      "    def test_county_check_3():\n",
      ">       assert county_check(counties, covid) == list()\n",
      "E       AssertionError: assert ['51067', '02...161', '51159'] == []\n",
      "E         Left contains 6 more items, first extra item: '51067'\n",
      "E         Full diff:\n",
      "E         - []\n",
      "E         + ['51067', '02164', '51019', '51059', '51161', '51159']\n",
      "\n",
      "<ipython-input-207-75d45ad5f3ff>:31: AssertionError\n",
      "____________________________ test_fips_notna_check _____________________________\n",
      "\n",
      "    def test_fips_notna_check():\n",
      ">       assert fips_notna_check([combined, counties, covid]) == list()\n",
      "E       AssertionError: assert ['Out of AL|A...ifornia', ...] == []\n",
      "E         Left contains 64 more items, first extra item: 'Out of AL|Alabama'\n",
      "E         Full diff:\n",
      "E           [\n",
      "E         -  ,\n",
      "E         +  'Out of AL|Alabama',\n",
      "E         +  'Bristol Bay plus Lake and Peninsula|Alaska',\n",
      "E         +  'Out of AK|Alaska',...\n",
      "E         \n",
      "E         ...Full output truncated (63 lines hidden), use '-vv' to show\n",
      "\n",
      "<ipython-input-207-75d45ad5f3ff>:37: AssertionError\n",
      "=========================== short test summary info ============================\n",
      "FAILED tmp5edqp246.py::test_county_check_1 - AssertionError: assert ['11001',...\n",
      "FAILED tmp5edqp246.py::test_county_check_2 - AssertionError: assert ['11001',...\n",
      "FAILED tmp5edqp246.py::test_county_check_3 - AssertionError: assert ['51067',...\n",
      "FAILED tmp5edqp246.py::test_fips_notna_check - AssertionError: assert ['Out o...\n",
      "4 failed, 1 passed in 2.65s\n"
     ]
    }
   ],
   "source": [
    "%%run_pytest[clean]\n",
    "\n",
    "def county_check(base,next_comp):\n",
    "    base_fips = set(base.County_FIPS.astype(\"str\").unique())\n",
    "    comparator_fips = set(next_comp.County_FIPS.astype(\"str\").unique())\n",
    "    missing = list((base_fips - comparator_fips))\n",
    "    missing = [str(i) for i in missing] # change to string so that it can be examined \n",
    "    r = re.compile(\"[^72].*\") # codes that match puerto rico can't be included\n",
    "    newlist = list(filter(r.match, missing)) # Read Note\n",
    "    return newlist\n",
    "\n",
    "def fips_notna_check(list_dfs):\n",
    "    list_locs_all = list()\n",
    "    for i in list_dfs:\n",
    "        df = i\n",
    "        df_na = df[df.County_FIPS.isna() == True]\n",
    "        try:\n",
    "            list_locs = list(df_na.Name.unique())\n",
    "            list_locs_all.extend(list_locs)\n",
    "        except:\n",
    "            list_locs = list(df_na.locationcol.unique())\n",
    "            list_locs_all.extend(list_locs)\n",
    "    return list_locs_all\n",
    "\n",
    "\n",
    "def test_county_check_1():\n",
    "    assert county_check(covid, combined) == list()\n",
    "\n",
    "def test_county_check_2():\n",
    "    assert county_check(covid, counties) == list()\n",
    "    \n",
    "def test_county_check_3():\n",
    "    assert county_check(counties, covid) == list()\n",
    "    \n",
    "def test_county_check_4():\n",
    "    assert county_check(combined, counties) == list()\n",
    "\n",
    "def test_fips_notna_check():\n",
    "    assert fips_notna_check([combined, counties, covid]) == list()\n"
   ]
  },
  {
   "cell_type": "code",
   "execution_count": 203,
   "metadata": {},
   "outputs": [
    {
     "data": {
      "text/plain": [
       "['Out of AL|Alabama',\n",
       " 'Bristol Bay plus Lake and Peninsula|Alaska',\n",
       " 'Out of AK|Alaska',\n",
       " 'Out of AZ|Arizona',\n",
       " 'Out of AR|Arkansas',\n",
       " 'Out of CA|California',\n",
       " 'Out of CO|Colorado',\n",
       " 'Out of CT|Connecticut',\n",
       " 'Out of DE|Delaware',\n",
       " 'Out of DC|District of Columbia',\n",
       " 'Out of FL|Florida',\n",
       " 'Out of GA|Georgia',\n",
       " 'Out of HI|Hawaii',\n",
       " 'Out of ID|Idaho',\n",
       " 'Out of IL|Illinois',\n",
       " 'Out of IN|Indiana',\n",
       " 'Out of IA|Iowa',\n",
       " 'Out of KS|Kansas',\n",
       " 'Out of KY|Kentucky',\n",
       " 'LaSalle|Louisiana',\n",
       " 'Out of LA|Louisiana',\n",
       " 'Out of ME|Maine',\n",
       " 'Out of MD|Maryland',\n",
       " 'Dukes and Nantucket|Massachusetts',\n",
       " 'Out of MA|Massachusetts',\n",
       " 'Federal Correctional Institution (FCI)|Michigan',\n",
       " 'Michigan Department of Corrections (MDOC)|Michigan',\n",
       " 'Out of MI|Michigan',\n",
       " 'Out of MN|Minnesota',\n",
       " 'Out of MS|Mississippi',\n",
       " 'Kansas City|Missouri',\n",
       " 'Out of MO|Missouri',\n",
       " 'Out of MT|Montana',\n",
       " 'Out of NE|Nebraska',\n",
       " 'Out of NV|Nevada',\n",
       " 'Out of NH|New Hampshire',\n",
       " 'Out of NJ|New Jersey',\n",
       " 'Out of NM|New Mexico',\n",
       " 'Out of NY|New York',\n",
       " 'Out of NC|North Carolina',\n",
       " 'Out of ND|North Dakota',\n",
       " 'Out of OH|Ohio',\n",
       " 'Out of OK|Oklahoma',\n",
       " 'Out of OR|Oregon',\n",
       " 'Out of PA|Pennsylvania',\n",
       " 'Out of PR|Puerto Rico',\n",
       " 'Out of RI|Rhode Island',\n",
       " 'Out of SC|South Carolina',\n",
       " 'Out of SD|South Dakota',\n",
       " 'Out of TN|Tennessee',\n",
       " 'Out of TX|Texas',\n",
       " 'Bear River|Utah',\n",
       " 'Central Utah|Utah',\n",
       " 'Out of UT|Utah',\n",
       " 'Southeast Utah|Utah',\n",
       " 'Southwest Utah|Utah',\n",
       " 'TriCounty|Utah',\n",
       " 'Weber-Morgan|Utah',\n",
       " 'Out of VT|Vermont',\n",
       " 'Out of VA|Virginia',\n",
       " 'Out of WA|Washington',\n",
       " 'Out of WV|West Virginia',\n",
       " 'Out of WI|Wisconsin',\n",
       " 'Out of WY|Wyoming']"
      ]
     },
     "execution_count": 203,
     "metadata": {},
     "output_type": "execute_result"
    }
   ],
   "source": [
    "fips_notna_check(list_combined)"
   ]
  },
  {
   "cell_type": "code",
   "execution_count": 140,
   "metadata": {},
   "outputs": [],
   "source": [
    "missinglist = county_check(counties, covid)"
   ]
  },
  {
   "cell_type": "code",
   "execution_count": 142,
   "metadata": {},
   "outputs": [
    {
     "data": {
      "text/html": [
       "<div>\n",
       "<style scoped>\n",
       "    .dataframe tbody tr th:only-of-type {\n",
       "        vertical-align: middle;\n",
       "    }\n",
       "\n",
       "    .dataframe tbody tr th {\n",
       "        vertical-align: top;\n",
       "    }\n",
       "\n",
       "    .dataframe thead th {\n",
       "        text-align: right;\n",
       "    }\n",
       "</style>\n",
       "<table border=\"1\" class=\"dataframe\">\n",
       "  <thead>\n",
       "    <tr style=\"text-align: right;\">\n",
       "      <th></th>\n",
       "      <th>FIPS</th>\n",
       "      <th>County or equivalent</th>\n",
       "      <th>State or equivalent</th>\n",
       "    </tr>\n",
       "  </thead>\n",
       "  <tbody>\n",
       "    <tr>\n",
       "      <th>0</th>\n",
       "      <td>51067</td>\n",
       "      <td>Franklin County</td>\n",
       "      <td>Virginia</td>\n",
       "    </tr>\n",
       "    <tr>\n",
       "      <th>1</th>\n",
       "      <td>02164</td>\n",
       "      <td>Lake and Peninsula Borough[a]</td>\n",
       "      <td>Alaska</td>\n",
       "    </tr>\n",
       "    <tr>\n",
       "      <th>2</th>\n",
       "      <td>51019</td>\n",
       "      <td>Bedford County[v]</td>\n",
       "      <td>Virginia</td>\n",
       "    </tr>\n",
       "    <tr>\n",
       "      <th>3</th>\n",
       "      <td>51059</td>\n",
       "      <td>Fairfax County</td>\n",
       "      <td>Virginia</td>\n",
       "    </tr>\n",
       "    <tr>\n",
       "      <th>4</th>\n",
       "      <td>51161</td>\n",
       "      <td>Roanoke County</td>\n",
       "      <td>Virginia</td>\n",
       "    </tr>\n",
       "    <tr>\n",
       "      <th>5</th>\n",
       "      <td>51159</td>\n",
       "      <td>Richmond County</td>\n",
       "      <td>Virginia</td>\n",
       "    </tr>\n",
       "  </tbody>\n",
       "</table>\n",
       "</div>"
      ],
      "text/plain": [
       "    FIPS           County or equivalent State or equivalent\n",
       "0  51067                Franklin County            Virginia\n",
       "1  02164  Lake and Peninsula Borough[a]              Alaska\n",
       "2  51019              Bedford County[v]            Virginia\n",
       "3  51059                 Fairfax County            Virginia\n",
       "4  51161                 Roanoke County            Virginia\n",
       "5  51159                Richmond County            Virginia"
      ]
     },
     "execution_count": 142,
     "metadata": {},
     "output_type": "execute_result"
    }
   ],
   "source": [
    "missingfips_df = pd.DataFrame(pd.Series(missinglist), columns = ['FIPS'])\n",
    "df = missingfips_df.merge(list_fips, on = [\"FIPS\"])\n",
    "df"
   ]
  },
  {
   "cell_type": "code",
   "execution_count": 186,
   "metadata": {},
   "outputs": [
    {
     "ename": "AssertionError",
     "evalue": "assert 1 == 2",
     "output_type": "error",
     "traceback": [
      "\u001b[0;31m---------------------------------------------------------------------------\u001b[0m",
      "\u001b[0;31mAssertionError\u001b[0m                            Traceback (most recent call last)",
      "\u001b[0;32m<ipython-input-186-9053990b4e02>\u001b[0m in \u001b[0;36m<module>\u001b[0;34m\u001b[0m\n\u001b[0;32m----> 1\u001b[0;31m \u001b[0mfips_notna_all_test\u001b[0m\u001b[0;34m(\u001b[0m\u001b[0;34m)\u001b[0m\u001b[0;34m\u001b[0m\u001b[0;34m\u001b[0m\u001b[0m\n\u001b[0m",
      "\u001b[0;32m<ipython-input-184-3d80815dcaaa>\u001b[0m in \u001b[0;36mfips_notna_all_test\u001b[0;34m()\u001b[0m\n\u001b[1;32m      9\u001b[0m \u001b[0;34m\u001b[0m\u001b[0m\n\u001b[1;32m     10\u001b[0m \u001b[0;32mdef\u001b[0m \u001b[0mfips_notna_all_test\u001b[0m\u001b[0;34m(\u001b[0m\u001b[0;34m)\u001b[0m\u001b[0;34m:\u001b[0m\u001b[0;34m\u001b[0m\u001b[0;34m\u001b[0m\u001b[0m\n\u001b[0;32m---> 11\u001b[0;31m     \u001b[0;32massert\u001b[0m  \u001b[0;36m1\u001b[0m \u001b[0;34m==\u001b[0m \u001b[0;36m2\u001b[0m \u001b[0;31m#fips_notna_check(list_combined) == list()\u001b[0m\u001b[0;34m\u001b[0m\u001b[0;34m\u001b[0m\u001b[0m\n\u001b[0m",
      "\u001b[0;31mAssertionError\u001b[0m: assert 1 == 2"
     ]
    }
   ],
   "source": [
    "fips_notna_all_test()"
   ]
  },
  {
   "cell_type": "code",
   "execution_count": 179,
   "metadata": {},
   "outputs": [
    {
     "data": {
      "text/plain": [
       "[]"
      ]
     },
     "execution_count": 179,
     "metadata": {},
     "output_type": "execute_result"
    }
   ],
   "source": [
    "fips_notna_check(list_combined)"
   ]
  },
  {
   "cell_type": "code",
   "execution_count": 155,
   "metadata": {},
   "outputs": [
    {
     "data": {
      "text/plain": [
       "['Out of AL|Alabama',\n",
       " 'Bristol Bay plus Lake and Peninsula|Alaska',\n",
       " 'Out of AK|Alaska',\n",
       " 'Out of AZ|Arizona',\n",
       " 'Out of AR|Arkansas',\n",
       " 'Out of CA|California',\n",
       " 'Out of CO|Colorado',\n",
       " 'Out of CT|Connecticut',\n",
       " 'Out of DE|Delaware',\n",
       " 'Out of DC|District of Columbia',\n",
       " 'Out of FL|Florida',\n",
       " 'Out of GA|Georgia',\n",
       " 'Out of HI|Hawaii',\n",
       " 'Out of ID|Idaho',\n",
       " 'Out of IL|Illinois',\n",
       " 'Out of IN|Indiana',\n",
       " 'Out of IA|Iowa',\n",
       " 'Out of KS|Kansas',\n",
       " 'Out of KY|Kentucky',\n",
       " 'LaSalle|Louisiana',\n",
       " 'Out of LA|Louisiana',\n",
       " 'Out of ME|Maine',\n",
       " 'Out of MD|Maryland',\n",
       " 'Dukes and Nantucket|Massachusetts',\n",
       " 'Out of MA|Massachusetts',\n",
       " 'Federal Correctional Institution (FCI)|Michigan',\n",
       " 'Michigan Department of Corrections (MDOC)|Michigan',\n",
       " 'Out of MI|Michigan',\n",
       " 'Out of MN|Minnesota',\n",
       " 'Out of MS|Mississippi',\n",
       " 'Kansas City|Missouri',\n",
       " 'Out of MO|Missouri',\n",
       " 'Out of MT|Montana',\n",
       " 'Out of NE|Nebraska',\n",
       " 'Out of NV|Nevada',\n",
       " 'Out of NH|New Hampshire',\n",
       " 'Out of NJ|New Jersey',\n",
       " 'Out of NM|New Mexico',\n",
       " 'Out of NY|New York',\n",
       " 'Out of NC|North Carolina',\n",
       " 'Out of ND|North Dakota',\n",
       " 'Out of OH|Ohio',\n",
       " 'Out of OK|Oklahoma',\n",
       " 'Out of OR|Oregon',\n",
       " 'Out of PA|Pennsylvania',\n",
       " 'Out of PR|Puerto Rico',\n",
       " 'Out of RI|Rhode Island',\n",
       " 'Out of SC|South Carolina',\n",
       " 'Out of SD|South Dakota',\n",
       " 'Out of TN|Tennessee',\n",
       " 'Out of TX|Texas',\n",
       " 'Bear River|Utah',\n",
       " 'Central Utah|Utah',\n",
       " 'Out of UT|Utah',\n",
       " 'Southeast Utah|Utah',\n",
       " 'Southwest Utah|Utah',\n",
       " 'TriCounty|Utah',\n",
       " 'Weber-Morgan|Utah',\n",
       " 'Out of VT|Vermont',\n",
       " 'Out of VA|Virginia',\n",
       " 'Out of WA|Washington',\n",
       " 'Out of WV|West Virginia',\n",
       " 'Out of WI|Wisconsin',\n",
       " 'Out of WY|Wyoming']"
      ]
     },
     "execution_count": 155,
     "metadata": {},
     "output_type": "execute_result"
    }
   ],
   "source": [
    "list(covid[covid['County_FIPS'].isna() == True]['locationcol'].unique())"
   ]
  },
  {
   "cell_type": "code",
   "execution_count": 276,
   "metadata": {},
   "outputs": [
    {
     "name": "stdout",
     "output_type": "stream",
     "text": [
      "F                                                                        [100%]\n",
      "=================================== FAILURES ===================================\n",
      "_____________________________ test_negative_check ______________________________\n",
      "\n",
      "    def test_negative_check():\n",
      ">       assert output_dict['negative_deaths'].shape[0] == 0 and output_dict['negative_confirmed'].shape[0] == 0\n",
      "E       NameError: name 'output_dict' is not defined\n",
      "\n",
      "<ipython-input-276-ac96519cd1aa>:12: NameError\n",
      "=========================== short test summary info ============================\n",
      "FAILED tmpa6ryncxm.py::test_negative_check - NameError: name 'output_dict' is...\n",
      "1 failed in 0.03s\n"
     ]
    }
   ],
   "source": [
    "%%run_pytest[clean]\n",
    "\n",
    "def negative_check(list_dfs):\n",
    "    output_dict = dict()\n",
    "    for df in list_dfs:\n",
    "        negative_deaths = df[df['Deaths_New'] < 0]\n",
    "        negative_confirmed = df[df['Confirmed_New'] < 0]\n",
    "        #df_count = df[df['Deaths'] < 0]\n",
    "        output_dict['negative_deaths'] = negative_deaths\n",
    "        output_dict['negative_confirmed']= negative_confirmed\n",
    "    return output_dict\n",
    "\n",
    "def test_negative_check():\n",
    "    assert output_dict['negative_deaths'].shape[0] == 0 and output_dict['negative_confirmed'].shape[0] == 0\n"
   ]
  },
  {
   "cell_type": "code",
   "execution_count": 277,
   "metadata": {},
   "outputs": [
    {
     "data": {
      "text/plain": [
       "{'negative_deaths':          Unnamed: 0        Date    Admin2      State  Confirmed  Deaths  \\\n",
       " 89               89  2020-04-20   Autauga    Alabama         28       1   \n",
       " 100             100  2020-05-01   Autauga    Alabama         43       3   \n",
       " 119             119  2020-05-20   Autauga    Alabama        135       3   \n",
       " 254             254  2020-10-02   Autauga    Alabama       1812      27   \n",
       " 289             289  2020-11-06   Autauga    Alabama       2257      30   \n",
       " ...             ...         ...       ...        ...        ...     ...   \n",
       " 996328       996328  2020-11-15   Lincoln  Wisconsin       1592      18   \n",
       " 1000678     1000678  2020-11-25    Pierce  Wisconsin       2322      20   \n",
       " 1008703     1008703  2020-10-21  Big Horn    Wyoming        175       1   \n",
       " 1012118     1012118  2020-10-26   Natrona    Wyoming       1331       8   \n",
       " 1015541     1015541  2020-11-08    Weston    Wyoming        306       0   \n",
       " \n",
       "         Country/Region  Deaths_Previous  Confirmed_Previous  Deaths_New  ...  \\\n",
       " 89                  US              2.0                26.0        -1.0  ...   \n",
       " 100                 US              4.0                42.0        -1.0  ...   \n",
       " 119                 US              4.0               130.0        -1.0  ...   \n",
       " 254                 US             28.0              1799.0        -1.0  ...   \n",
       " 289                 US             31.0              2244.0        -1.0  ...   \n",
       " ...                ...              ...                 ...         ...  ...   \n",
       " 996328              US             19.0              1555.0        -1.0  ...   \n",
       " 1000678             US             21.0              2277.0        -1.0  ...   \n",
       " 1008703             US              2.0               173.0        -1.0  ...   \n",
       " 1012118             US              9.0              1274.0        -1.0  ...   \n",
       " 1015541             US              1.0               296.0        -1.0  ...   \n",
       " \n",
       "          Confirmed_New_RollingAvg  Deaths_New_RollingAvg  \\\n",
       " 89                       1.285714               0.000000   \n",
       " 100                      1.000000               0.142857   \n",
       " 119                      6.428571              -0.142857   \n",
       " 254                      8.857143               0.285714   \n",
       " 289                     14.714286              -0.142857   \n",
       " ...                           ...                    ...   \n",
       " 996328                  42.428571               0.428571   \n",
       " 1000678                 55.857143               0.857143   \n",
       " 1008703                  7.571429              -0.142857   \n",
       " 1012118                 41.571429               0.142857   \n",
       " 1015541                 20.285714               0.000000   \n",
       " \n",
       "          Deaths_New_+7_RollingAvg  Deaths_New_+14_RollingAvg  \\\n",
       " 89                       0.285714                   0.000000   \n",
       " 100                      0.142857                   0.000000   \n",
       " 119                      0.000000                   0.285714   \n",
       " 254                      0.142857                   0.000000   \n",
       " 289                      0.857143                   0.428571   \n",
       " ...                           ...                        ...   \n",
       " 996328                   1.285714                        NaN   \n",
       " 1000678                       NaN                        NaN   \n",
       " 1008703                  0.857143                   0.142857   \n",
       " 1012118                  0.285714                   0.428571   \n",
       " 1015541                  0.000000                   0.000000   \n",
       " \n",
       "          Deaths_New_+21_RollingAvg Deaths_New_+28_RollingAvg  County_FIPS  \\\n",
       " 89                        0.142857                  0.000000        01001   \n",
       " 100                      -0.142857                  0.000000        01001   \n",
       " 119                       0.142857                  0.000000        01001   \n",
       " 254                       0.285714                  0.142857        01001   \n",
       " 289                            NaN                       NaN        01001   \n",
       " ...                            ...                       ...          ...   \n",
       " 996328                         NaN                       NaN        55069   \n",
       " 1000678                        NaN                       NaN        55093   \n",
       " 1008703                   0.142857                  0.000000        56003   \n",
       " 1012118                   1.428571                  3.142857        56025   \n",
       " 1015541                        NaN                       NaN        56045   \n",
       " \n",
       "          State Code   Region            Division  \n",
       " 89               AL    South  East South Central  \n",
       " 100              AL    South  East South Central  \n",
       " 119              AL    South  East South Central  \n",
       " 254              AL    South  East South Central  \n",
       " 289              AL    South  East South Central  \n",
       " ...             ...      ...                 ...  \n",
       " 996328           WI  Midwest  East North Central  \n",
       " 1000678          WI  Midwest  East North Central  \n",
       " 1008703          WY     West            Mountain  \n",
       " 1012118          WY     West            Mountain  \n",
       " 1015541          WY     West            Mountain  \n",
       " \n",
       " [2959 rows x 26 columns],\n",
       " 'negative_confirmed':          Unnamed: 0        Date          Admin2    State  Confirmed  Deaths  \\\n",
       " 4027           4027  2020-11-24          Clarke  Alabama       1553      19   \n",
       " 4325           4325  2020-11-12            Clay  Alabama        825      13   \n",
       " 20451         20451  2020-11-18      Washington  Alabama        878      17   \n",
       " 20457         20457  2020-11-24      Washington  Alabama        899      18   \n",
       " 21382         21382  2020-11-19  Aleutians East   Alaska         21       0   \n",
       " ...             ...         ...             ...      ...        ...     ...   \n",
       " 1015452     1015452  2020-08-11          Weston  Wyoming          5       0   \n",
       " 1015461     1015461  2020-08-20          Weston  Wyoming          0       0   \n",
       " 1015495     1015495  2020-09-23          Weston  Wyoming         25       0   \n",
       " 1015545     1015545  2020-11-12          Weston  Wyoming        321       0   \n",
       " 1015549     1015549  2020-11-16          Weston  Wyoming        338       0   \n",
       " \n",
       "         Country/Region  Deaths_Previous  Confirmed_Previous  Deaths_New  ...  \\\n",
       " 4027                US             19.0              1554.0         0.0  ...   \n",
       " 4325                US             13.0               826.0         0.0  ...   \n",
       " 20451               US             17.0               880.0         0.0  ...   \n",
       " 20457               US             18.0               900.0         0.0  ...   \n",
       " 21382               US              0.0                22.0         0.0  ...   \n",
       " ...                ...              ...                 ...         ...  ...   \n",
       " 1015452             US              0.0                 6.0         0.0  ...   \n",
       " 1015461             US              0.0                12.0         0.0  ...   \n",
       " 1015495             US              0.0                26.0         0.0  ...   \n",
       " 1015545             US              0.0               323.0         0.0  ...   \n",
       " 1015549             US              0.0               339.0         0.0  ...   \n",
       " \n",
       "          Confirmed_New_RollingAvg  Deaths_New_RollingAvg  \\\n",
       " 4027                     6.571429               0.000000   \n",
       " 4325                     2.714286               0.000000   \n",
       " 20451                    5.285714               0.714286   \n",
       " 20457                    2.714286               0.142857   \n",
       " 21382                    0.142857               0.000000   \n",
       " ...                           ...                    ...   \n",
       " 1015452                  0.000000               0.000000   \n",
       " 1015461                 -0.714286               0.000000   \n",
       " 1015495                  0.285714               0.000000   \n",
       " 1015545                 16.857143              -0.142857   \n",
       " 1015549                  4.000000               0.000000   \n",
       " \n",
       "          Deaths_New_+7_RollingAvg  Deaths_New_+14_RollingAvg  \\\n",
       " 4027                          NaN                        NaN   \n",
       " 4325                     1.428571                   0.142857   \n",
       " 20451                    0.285714                        NaN   \n",
       " 20457                         NaN                        NaN   \n",
       " 21382                    0.000000                        NaN   \n",
       " ...                           ...                        ...   \n",
       " 1015452                  0.000000                   0.000000   \n",
       " 1015461                  0.000000                   0.000000   \n",
       " 1015495                  0.000000                   0.000000   \n",
       " 1015545                  0.000000                   0.142857   \n",
       " 1015549                  0.142857                        NaN   \n",
       " \n",
       "          Deaths_New_+21_RollingAvg Deaths_New_+28_RollingAvg  County_FIPS  \\\n",
       " 4027                           NaN                       NaN        01025   \n",
       " 4325                           NaN                       NaN        01027   \n",
       " 20451                          NaN                       NaN        01129   \n",
       " 20457                          NaN                       NaN        01129   \n",
       " 21382                          NaN                       NaN        02013   \n",
       " ...                            ...                       ...          ...   \n",
       " 1015452                        0.0                       0.0        56045   \n",
       " 1015461                        0.0                       0.0        56045   \n",
       " 1015495                        0.0                       0.0        56045   \n",
       " 1015545                        NaN                       NaN        56045   \n",
       " 1015549                        NaN                       NaN        56045   \n",
       " \n",
       "          State Code  Region            Division  \n",
       " 4027             AL   South  East South Central  \n",
       " 4325             AL   South  East South Central  \n",
       " 20451            AL   South  East South Central  \n",
       " 20457            AL   South  East South Central  \n",
       " 21382            AK    West             Pacific  \n",
       " ...             ...     ...                 ...  \n",
       " 1015452          WY    West            Mountain  \n",
       " 1015461          WY    West            Mountain  \n",
       " 1015495          WY    West            Mountain  \n",
       " 1015545          WY    West            Mountain  \n",
       " 1015549          WY    West            Mountain  \n",
       " \n",
       " [12171 rows x 26 columns]}"
      ]
     },
     "execution_count": 277,
     "metadata": {},
     "output_type": "execute_result"
    }
   ],
   "source": [
    "negative_check([covid])"
   ]
  },
  {
   "cell_type": "code",
   "execution_count": 15,
   "metadata": {},
   "outputs": [],
   "source": [
    "# Did we lose any counties"
   ]
  },
  {
   "cell_type": "code",
   "execution_count": 16,
   "metadata": {},
   "outputs": [],
   "source": [
    "# Did we lose any date ranges entirely?"
   ]
  },
  {
   "cell_type": "code",
   "execution_count": 17,
   "metadata": {},
   "outputs": [],
   "source": [
    "# Duplicates in data"
   ]
  },
  {
   "cell_type": "code",
   "execution_count": 18,
   "metadata": {},
   "outputs": [],
   "source": [
    "# Junk data \n",
    "## Negative counts of cases \n",
    "## Negative deaths "
   ]
  },
  {
   "cell_type": "code",
   "execution_count": null,
   "metadata": {},
   "outputs": [],
   "source": []
  }
 ],
 "metadata": {
  "kernelspec": {
   "display_name": "Python 3",
   "language": "python",
   "name": "python3"
  },
  "language_info": {
   "codemirror_mode": {
    "name": "ipython",
    "version": 3
   },
   "file_extension": ".py",
   "mimetype": "text/x-python",
   "name": "python",
   "nbconvert_exporter": "python",
   "pygments_lexer": "ipython3",
   "version": "3.7.7"
  }
 },
 "nbformat": 4,
 "nbformat_minor": 4
}
