{
 "cells": [
  {
   "cell_type": "code",
   "execution_count": 20,
   "metadata": {},
   "outputs": [],
   "source": [
    "import pandas as pd\n",
    "import seaborn as sns\n",
    "import statsmodels.api as sm"
   ]
  },
  {
   "cell_type": "markdown",
   "metadata": {},
   "source": [
    "## Import Mobility Data"
   ]
  },
  {
   "cell_type": "code",
   "execution_count": 21,
   "metadata": {},
   "outputs": [],
   "source": [
    "# keep FIPS as string to preserve leading zeroes"
   ]
  },
  {
   "cell_type": "code",
   "execution_count": 22,
   "metadata": {},
   "outputs": [],
   "source": [
    "mob = pd.read_csv(r\"/Users/philip.ballentine/Downloads/Region_Mobility_Report_CSVs/2020_US_Region_Mobility_Report.csv\", dtype={'census_fips_code': 'str'} )"
   ]
  },
  {
   "cell_type": "code",
   "execution_count": 23,
   "metadata": {},
   "outputs": [],
   "source": [
    "mob['date'] = mob['date'].astype('datetime64')"
   ]
  },
  {
   "cell_type": "code",
   "execution_count": 24,
   "metadata": {},
   "outputs": [
    {
     "data": {
      "text/plain": [
       "country_region_code                                           object\n",
       "country_region                                                object\n",
       "sub_region_1                                                  object\n",
       "sub_region_2                                                  object\n",
       "metro_area                                                   float64\n",
       "iso_3166_2_code                                               object\n",
       "census_fips_code                                              object\n",
       "date                                                  datetime64[ns]\n",
       "retail_and_recreation_percent_change_from_baseline           float64\n",
       "grocery_and_pharmacy_percent_change_from_baseline            float64\n",
       "parks_percent_change_from_baseline                           float64\n",
       "transit_stations_percent_change_from_baseline                float64\n",
       "workplaces_percent_change_from_baseline                      float64\n",
       "residential_percent_change_from_baseline                     float64\n",
       "dtype: object"
      ]
     },
     "execution_count": 24,
     "metadata": {},
     "output_type": "execute_result"
    }
   ],
   "source": [
    "mob.dtypes"
   ]
  },
  {
   "cell_type": "markdown",
   "metadata": {},
   "source": [
    "## Join Full County-Level Dataset"
   ]
  },
  {
   "cell_type": "code",
   "execution_count": 42,
   "metadata": {},
   "outputs": [],
   "source": [
    "counties = pd.read_csv(r\"/Users/philip.ballentine/Documents/hia_covid_repo/hia_covid_data_assets/counties_dataset_full.csv\",dtype={'County_FIPS':'str'})"
   ]
  },
  {
   "cell_type": "code",
   "execution_count": 43,
   "metadata": {},
   "outputs": [
    {
     "data": {
      "text/plain": [
       "Unnamed: 0                 int64\n",
       "County_FIPS               object\n",
       "StateCD                   object\n",
       "Name                      object\n",
       "HS_DIPLOMA_ONLY_2018     float64\n",
       "SOME_COLLEGE_2018        float64\n",
       "BACHELORS_PLUS_2018      float64\n",
       "Poverty_PCT_2018         float64\n",
       "UrbanCD                    int64\n",
       "Median_Income_2018       float64\n",
       "Population_ACS           float64\n",
       "Population_Black_ACS     float64\n",
       "Population_Hisp_ACS      float64\n",
       "Population_Native_ACS    float64\n",
       "PCT_Black_ACS            float64\n",
       "PCT_Hisp_ACS             float64\n",
       "PCT_Native_ACS           float64\n",
       "UrbanCD_Description       object\n",
       "Metro                     object\n",
       "dtype: object"
      ]
     },
     "execution_count": 43,
     "metadata": {},
     "output_type": "execute_result"
    }
   ],
   "source": [
    "counties.dtypes"
   ]
  },
  {
   "cell_type": "code",
   "execution_count": 44,
   "metadata": {},
   "outputs": [],
   "source": [
    "counties['census_fips_code'] = counties['County_FIPS'].astype('str')"
   ]
  },
  {
   "cell_type": "code",
   "execution_count": 45,
   "metadata": {},
   "outputs": [],
   "source": [
    "mobility_counties = mob.merge(counties, on = \"census_fips_code\")"
   ]
  },
  {
   "cell_type": "code",
   "execution_count": 46,
   "metadata": {},
   "outputs": [
    {
     "data": {
      "text/plain": [
       "country_region_code                                           object\n",
       "country_region                                                object\n",
       "sub_region_1                                                  object\n",
       "sub_region_2                                                  object\n",
       "metro_area                                                   float64\n",
       "iso_3166_2_code                                               object\n",
       "census_fips_code                                              object\n",
       "date                                                  datetime64[ns]\n",
       "retail_and_recreation_percent_change_from_baseline           float64\n",
       "grocery_and_pharmacy_percent_change_from_baseline            float64\n",
       "parks_percent_change_from_baseline                           float64\n",
       "transit_stations_percent_change_from_baseline                float64\n",
       "workplaces_percent_change_from_baseline                      float64\n",
       "residential_percent_change_from_baseline                     float64\n",
       "Unnamed: 0                                                     int64\n",
       "County_FIPS                                                   object\n",
       "StateCD                                                       object\n",
       "Name                                                          object\n",
       "HS_DIPLOMA_ONLY_2018                                         float64\n",
       "SOME_COLLEGE_2018                                            float64\n",
       "BACHELORS_PLUS_2018                                          float64\n",
       "Poverty_PCT_2018                                             float64\n",
       "UrbanCD                                                        int64\n",
       "Median_Income_2018                                           float64\n",
       "Population_ACS                                               float64\n",
       "Population_Black_ACS                                         float64\n",
       "Population_Hisp_ACS                                          float64\n",
       "Population_Native_ACS                                        float64\n",
       "PCT_Black_ACS                                                float64\n",
       "PCT_Hisp_ACS                                                 float64\n",
       "PCT_Native_ACS                                               float64\n",
       "UrbanCD_Description                                           object\n",
       "Metro                                                         object\n",
       "dtype: object"
      ]
     },
     "execution_count": 46,
     "metadata": {},
     "output_type": "execute_result"
    }
   ],
   "source": [
    "mobility_counties.dtypes"
   ]
  },
  {
   "cell_type": "code",
   "execution_count": 47,
   "metadata": {},
   "outputs": [
    {
     "data": {
      "text/html": [
       "<div>\n",
       "<style scoped>\n",
       "    .dataframe tbody tr th:only-of-type {\n",
       "        vertical-align: middle;\n",
       "    }\n",
       "\n",
       "    .dataframe tbody tr th {\n",
       "        vertical-align: top;\n",
       "    }\n",
       "\n",
       "    .dataframe thead th {\n",
       "        text-align: right;\n",
       "    }\n",
       "</style>\n",
       "<table border=\"1\" class=\"dataframe\">\n",
       "  <thead>\n",
       "    <tr style=\"text-align: right;\">\n",
       "      <th></th>\n",
       "      <th>country_region_code</th>\n",
       "      <th>country_region</th>\n",
       "      <th>sub_region_1</th>\n",
       "      <th>sub_region_2</th>\n",
       "      <th>metro_area</th>\n",
       "      <th>iso_3166_2_code</th>\n",
       "      <th>census_fips_code</th>\n",
       "      <th>date</th>\n",
       "      <th>retail_and_recreation_percent_change_from_baseline</th>\n",
       "      <th>grocery_and_pharmacy_percent_change_from_baseline</th>\n",
       "      <th>...</th>\n",
       "      <th>Median_Income_2018</th>\n",
       "      <th>Population_ACS</th>\n",
       "      <th>Population_Black_ACS</th>\n",
       "      <th>Population_Hisp_ACS</th>\n",
       "      <th>Population_Native_ACS</th>\n",
       "      <th>PCT_Black_ACS</th>\n",
       "      <th>PCT_Hisp_ACS</th>\n",
       "      <th>PCT_Native_ACS</th>\n",
       "      <th>UrbanCD_Description</th>\n",
       "      <th>Metro</th>\n",
       "    </tr>\n",
       "  </thead>\n",
       "  <tbody>\n",
       "    <tr>\n",
       "      <th>0</th>\n",
       "      <td>US</td>\n",
       "      <td>United States</td>\n",
       "      <td>Alabama</td>\n",
       "      <td>Autauga County</td>\n",
       "      <td>NaN</td>\n",
       "      <td>NaN</td>\n",
       "      <td>01001</td>\n",
       "      <td>2020-02-15</td>\n",
       "      <td>5.0</td>\n",
       "      <td>7.0</td>\n",
       "      <td>...</td>\n",
       "      <td>59338.0</td>\n",
       "      <td>55036.0</td>\n",
       "      <td>10510.0</td>\n",
       "      <td>1467.0</td>\n",
       "      <td>169.0</td>\n",
       "      <td>19.096591</td>\n",
       "      <td>2.665528</td>\n",
       "      <td>0.307072</td>\n",
       "      <td>In small metro area of less than 1 million res...</td>\n",
       "      <td>Smaller_metro</td>\n",
       "    </tr>\n",
       "    <tr>\n",
       "      <th>1</th>\n",
       "      <td>US</td>\n",
       "      <td>United States</td>\n",
       "      <td>Alabama</td>\n",
       "      <td>Autauga County</td>\n",
       "      <td>NaN</td>\n",
       "      <td>NaN</td>\n",
       "      <td>01001</td>\n",
       "      <td>2020-02-16</td>\n",
       "      <td>0.0</td>\n",
       "      <td>1.0</td>\n",
       "      <td>...</td>\n",
       "      <td>59338.0</td>\n",
       "      <td>55036.0</td>\n",
       "      <td>10510.0</td>\n",
       "      <td>1467.0</td>\n",
       "      <td>169.0</td>\n",
       "      <td>19.096591</td>\n",
       "      <td>2.665528</td>\n",
       "      <td>0.307072</td>\n",
       "      <td>In small metro area of less than 1 million res...</td>\n",
       "      <td>Smaller_metro</td>\n",
       "    </tr>\n",
       "    <tr>\n",
       "      <th>2</th>\n",
       "      <td>US</td>\n",
       "      <td>United States</td>\n",
       "      <td>Alabama</td>\n",
       "      <td>Autauga County</td>\n",
       "      <td>NaN</td>\n",
       "      <td>NaN</td>\n",
       "      <td>01001</td>\n",
       "      <td>2020-02-17</td>\n",
       "      <td>8.0</td>\n",
       "      <td>0.0</td>\n",
       "      <td>...</td>\n",
       "      <td>59338.0</td>\n",
       "      <td>55036.0</td>\n",
       "      <td>10510.0</td>\n",
       "      <td>1467.0</td>\n",
       "      <td>169.0</td>\n",
       "      <td>19.096591</td>\n",
       "      <td>2.665528</td>\n",
       "      <td>0.307072</td>\n",
       "      <td>In small metro area of less than 1 million res...</td>\n",
       "      <td>Smaller_metro</td>\n",
       "    </tr>\n",
       "    <tr>\n",
       "      <th>3</th>\n",
       "      <td>US</td>\n",
       "      <td>United States</td>\n",
       "      <td>Alabama</td>\n",
       "      <td>Autauga County</td>\n",
       "      <td>NaN</td>\n",
       "      <td>NaN</td>\n",
       "      <td>01001</td>\n",
       "      <td>2020-02-18</td>\n",
       "      <td>-2.0</td>\n",
       "      <td>0.0</td>\n",
       "      <td>...</td>\n",
       "      <td>59338.0</td>\n",
       "      <td>55036.0</td>\n",
       "      <td>10510.0</td>\n",
       "      <td>1467.0</td>\n",
       "      <td>169.0</td>\n",
       "      <td>19.096591</td>\n",
       "      <td>2.665528</td>\n",
       "      <td>0.307072</td>\n",
       "      <td>In small metro area of less than 1 million res...</td>\n",
       "      <td>Smaller_metro</td>\n",
       "    </tr>\n",
       "    <tr>\n",
       "      <th>4</th>\n",
       "      <td>US</td>\n",
       "      <td>United States</td>\n",
       "      <td>Alabama</td>\n",
       "      <td>Autauga County</td>\n",
       "      <td>NaN</td>\n",
       "      <td>NaN</td>\n",
       "      <td>01001</td>\n",
       "      <td>2020-02-19</td>\n",
       "      <td>-2.0</td>\n",
       "      <td>0.0</td>\n",
       "      <td>...</td>\n",
       "      <td>59338.0</td>\n",
       "      <td>55036.0</td>\n",
       "      <td>10510.0</td>\n",
       "      <td>1467.0</td>\n",
       "      <td>169.0</td>\n",
       "      <td>19.096591</td>\n",
       "      <td>2.665528</td>\n",
       "      <td>0.307072</td>\n",
       "      <td>In small metro area of less than 1 million res...</td>\n",
       "      <td>Smaller_metro</td>\n",
       "    </tr>\n",
       "  </tbody>\n",
       "</table>\n",
       "<p>5 rows × 33 columns</p>\n",
       "</div>"
      ],
      "text/plain": [
       "  country_region_code country_region sub_region_1    sub_region_2  metro_area  \\\n",
       "0                  US  United States      Alabama  Autauga County         NaN   \n",
       "1                  US  United States      Alabama  Autauga County         NaN   \n",
       "2                  US  United States      Alabama  Autauga County         NaN   \n",
       "3                  US  United States      Alabama  Autauga County         NaN   \n",
       "4                  US  United States      Alabama  Autauga County         NaN   \n",
       "\n",
       "  iso_3166_2_code census_fips_code       date  \\\n",
       "0             NaN            01001 2020-02-15   \n",
       "1             NaN            01001 2020-02-16   \n",
       "2             NaN            01001 2020-02-17   \n",
       "3             NaN            01001 2020-02-18   \n",
       "4             NaN            01001 2020-02-19   \n",
       "\n",
       "   retail_and_recreation_percent_change_from_baseline  \\\n",
       "0                                                5.0    \n",
       "1                                                0.0    \n",
       "2                                                8.0    \n",
       "3                                               -2.0    \n",
       "4                                               -2.0    \n",
       "\n",
       "   grocery_and_pharmacy_percent_change_from_baseline  ...  Median_Income_2018  \\\n",
       "0                                                7.0  ...             59338.0   \n",
       "1                                                1.0  ...             59338.0   \n",
       "2                                                0.0  ...             59338.0   \n",
       "3                                                0.0  ...             59338.0   \n",
       "4                                                0.0  ...             59338.0   \n",
       "\n",
       "   Population_ACS  Population_Black_ACS  Population_Hisp_ACS  \\\n",
       "0         55036.0               10510.0               1467.0   \n",
       "1         55036.0               10510.0               1467.0   \n",
       "2         55036.0               10510.0               1467.0   \n",
       "3         55036.0               10510.0               1467.0   \n",
       "4         55036.0               10510.0               1467.0   \n",
       "\n",
       "   Population_Native_ACS PCT_Black_ACS PCT_Hisp_ACS PCT_Native_ACS  \\\n",
       "0                  169.0     19.096591     2.665528       0.307072   \n",
       "1                  169.0     19.096591     2.665528       0.307072   \n",
       "2                  169.0     19.096591     2.665528       0.307072   \n",
       "3                  169.0     19.096591     2.665528       0.307072   \n",
       "4                  169.0     19.096591     2.665528       0.307072   \n",
       "\n",
       "                                 UrbanCD_Description          Metro  \n",
       "0  In small metro area of less than 1 million res...  Smaller_metro  \n",
       "1  In small metro area of less than 1 million res...  Smaller_metro  \n",
       "2  In small metro area of less than 1 million res...  Smaller_metro  \n",
       "3  In small metro area of less than 1 million res...  Smaller_metro  \n",
       "4  In small metro area of less than 1 million res...  Smaller_metro  \n",
       "\n",
       "[5 rows x 33 columns]"
      ]
     },
     "execution_count": 47,
     "metadata": {},
     "output_type": "execute_result"
    }
   ],
   "source": [
    "mobility_counties.head(5)"
   ]
  },
  {
   "cell_type": "markdown",
   "metadata": {},
   "source": [
    "## Bring in the COVID Data to be Joined In "
   ]
  },
  {
   "cell_type": "code",
   "execution_count": 48,
   "metadata": {},
   "outputs": [],
   "source": [
    "covid = pd.read_csv(r\"/Users/philip.ballentine/Documents/hia_covid_repo/hia_covid_data_assets/covid_dataset_full.csv\",dtype={'County_FIPS':'str'})"
   ]
  },
  {
   "cell_type": "code",
   "execution_count": 49,
   "metadata": {},
   "outputs": [],
   "source": [
    "covid.Date = covid.Date.astype(\"datetime64\")"
   ]
  },
  {
   "cell_type": "code",
   "execution_count": 50,
   "metadata": {},
   "outputs": [],
   "source": [
    "mobility_counties['Date'] = mobility_counties['date']\n",
    "\n"
   ]
  },
  {
   "cell_type": "code",
   "execution_count": 51,
   "metadata": {},
   "outputs": [],
   "source": [
    "mobility_covid_urban = mobility_counties.merge(covid, on =['Date','County_FIPS'])"
   ]
  },
  {
   "cell_type": "code",
   "execution_count": 52,
   "metadata": {},
   "outputs": [],
   "source": [
    "# Can't deal with the + signs, so remove these \n",
    "\n",
    "large_columns = list(mobility_covid_urban.columns)\n",
    "large_columns = [x.replace('+','') for x in large_columns]\n",
    "mobility_covid_urban.columns = large_columns"
   ]
  },
  {
   "cell_type": "code",
   "execution_count": 54,
   "metadata": {},
   "outputs": [],
   "source": [
    "columns = [ 'date',\n",
    " 'retail_and_recreation_percent_change_from_baseline',\n",
    " 'grocery_and_pharmacy_percent_change_from_baseline',\n",
    " 'parks_percent_change_from_baseline',\n",
    " 'transit_stations_percent_change_from_baseline',\n",
    " 'workplaces_percent_change_from_baseline',\n",
    " 'residential_percent_change_from_baseline',\n",
    " 'County_FIPS',\n",
    " 'StateCD',\n",
    " 'Name',\n",
    " 'HS_DIPLOMA_ONLY_2018',\n",
    " 'SOME_COLLEGE_2018',\n",
    " 'BACHELORS_PLUS_2018',\n",
    " 'Poverty_PCT_2018',\n",
    " 'UrbanCD',\n",
    " 'Median_Income_2018',\n",
    " 'Population_ACS',\n",
    " 'Population_Black_ACS',\n",
    " 'Population_Hisp_ACS',\n",
    " 'Population_Native_ACS',\n",
    " 'PCT_Black_ACS',\n",
    " 'PCT_Hisp_ACS',\n",
    " 'PCT_Native_ACS',\n",
    " 'UrbanCD_Description',\n",
    " 'Metro',\n",
    " 'Date',\n",
    " 'State',\n",
    " 'Confirmed',\n",
    " 'Deaths',\n",
    " 'Country/Region',\n",
    " 'Deaths_Previous',\n",
    " 'Confirmed_Previous',\n",
    " 'Deaths_New',\n",
    " 'Deaths_New_7',\n",
    " 'Deaths_New_14',\n",
    " 'Deaths_New_21',\n",
    " 'Deaths_New_28',\n",
    " 'Confirmed_New',\n",
    " 'locationcol',\n",
    " 'Confirmed_New_RollingAvg',\n",
    " 'Deaths_New_7_RollingAvg',\n",
    " 'Deaths_New_14_RollingAvg',\n",
    " 'Deaths_New_21_RollingAvg',\n",
    " 'Deaths_New_28_RollingAvg',\n",
    " ]"
   ]
  },
  {
   "cell_type": "code",
   "execution_count": 55,
   "metadata": {},
   "outputs": [],
   "source": [
    "combined_dataset_sub = mobility_covid_urban[columns]"
   ]
  },
  {
   "cell_type": "code",
   "execution_count": 69,
   "metadata": {},
   "outputs": [
    {
     "data": {
      "text/html": [
       "<div>\n",
       "<style scoped>\n",
       "    .dataframe tbody tr th:only-of-type {\n",
       "        vertical-align: middle;\n",
       "    }\n",
       "\n",
       "    .dataframe tbody tr th {\n",
       "        vertical-align: top;\n",
       "    }\n",
       "\n",
       "    .dataframe thead th {\n",
       "        text-align: right;\n",
       "    }\n",
       "</style>\n",
       "<table border=\"1\" class=\"dataframe\">\n",
       "  <thead>\n",
       "    <tr style=\"text-align: right;\">\n",
       "      <th></th>\n",
       "      <th>State</th>\n",
       "      <th>StateCD</th>\n",
       "    </tr>\n",
       "  </thead>\n",
       "  <tbody>\n",
       "    <tr>\n",
       "      <th>483690</th>\n",
       "      <td>Pennsylvania</td>\n",
       "      <td>PA</td>\n",
       "    </tr>\n",
       "    <tr>\n",
       "      <th>22058</th>\n",
       "      <td>Arizona</td>\n",
       "      <td>AZ</td>\n",
       "    </tr>\n",
       "    <tr>\n",
       "      <th>78918</th>\n",
       "      <td>Florida</td>\n",
       "      <td>FL</td>\n",
       "    </tr>\n",
       "    <tr>\n",
       "      <th>196718</th>\n",
       "      <td>Iowa</td>\n",
       "      <td>IA</td>\n",
       "    </tr>\n",
       "    <tr>\n",
       "      <th>361694</th>\n",
       "      <td>Nebraska</td>\n",
       "      <td>NE</td>\n",
       "    </tr>\n",
       "    <tr>\n",
       "      <th>494108</th>\n",
       "      <td>Pennsylvania</td>\n",
       "      <td>PA</td>\n",
       "    </tr>\n",
       "    <tr>\n",
       "      <th>245398</th>\n",
       "      <td>Louisiana</td>\n",
       "      <td>LA</td>\n",
       "    </tr>\n",
       "    <tr>\n",
       "      <th>534059</th>\n",
       "      <td>Tennessee</td>\n",
       "      <td>TN</td>\n",
       "    </tr>\n",
       "    <tr>\n",
       "      <th>81</th>\n",
       "      <td>Alabama</td>\n",
       "      <td>AL</td>\n",
       "    </tr>\n",
       "    <tr>\n",
       "      <th>392741</th>\n",
       "      <td>New York</td>\n",
       "      <td>NY</td>\n",
       "    </tr>\n",
       "    <tr>\n",
       "      <th>325981</th>\n",
       "      <td>Missouri</td>\n",
       "      <td>MO</td>\n",
       "    </tr>\n",
       "    <tr>\n",
       "      <th>588440</th>\n",
       "      <td>Texas</td>\n",
       "      <td>TX</td>\n",
       "    </tr>\n",
       "    <tr>\n",
       "      <th>44597</th>\n",
       "      <td>California</td>\n",
       "      <td>CA</td>\n",
       "    </tr>\n",
       "    <tr>\n",
       "      <th>87611</th>\n",
       "      <td>Georgia</td>\n",
       "      <td>GA</td>\n",
       "    </tr>\n",
       "    <tr>\n",
       "      <th>641323</th>\n",
       "      <td>West Virginia</td>\n",
       "      <td>WV</td>\n",
       "    </tr>\n",
       "    <tr>\n",
       "      <th>612366</th>\n",
       "      <td>Virginia</td>\n",
       "      <td>VA</td>\n",
       "    </tr>\n",
       "    <tr>\n",
       "      <th>398177</th>\n",
       "      <td>New York</td>\n",
       "      <td>NY</td>\n",
       "    </tr>\n",
       "    <tr>\n",
       "      <th>370454</th>\n",
       "      <td>New Hampshire</td>\n",
       "      <td>NH</td>\n",
       "    </tr>\n",
       "    <tr>\n",
       "      <th>90172</th>\n",
       "      <td>Georgia</td>\n",
       "      <td>GA</td>\n",
       "    </tr>\n",
       "    <tr>\n",
       "      <th>280264</th>\n",
       "      <td>Michigan</td>\n",
       "      <td>MI</td>\n",
       "    </tr>\n",
       "    <tr>\n",
       "      <th>514064</th>\n",
       "      <td>South Dakota</td>\n",
       "      <td>SD</td>\n",
       "    </tr>\n",
       "    <tr>\n",
       "      <th>333046</th>\n",
       "      <td>Missouri</td>\n",
       "      <td>MO</td>\n",
       "    </tr>\n",
       "    <tr>\n",
       "      <th>172142</th>\n",
       "      <td>Indiana</td>\n",
       "      <td>IN</td>\n",
       "    </tr>\n",
       "    <tr>\n",
       "      <th>118107</th>\n",
       "      <td>Georgia</td>\n",
       "      <td>GA</td>\n",
       "    </tr>\n",
       "    <tr>\n",
       "      <th>526904</th>\n",
       "      <td>Tennessee</td>\n",
       "      <td>TN</td>\n",
       "    </tr>\n",
       "    <tr>\n",
       "      <th>385716</th>\n",
       "      <td>New York</td>\n",
       "      <td>NY</td>\n",
       "    </tr>\n",
       "    <tr>\n",
       "      <th>30778</th>\n",
       "      <td>Arkansas</td>\n",
       "      <td>AR</td>\n",
       "    </tr>\n",
       "  </tbody>\n",
       "</table>\n",
       "</div>"
      ],
      "text/plain": [
       "                State StateCD\n",
       "483690   Pennsylvania      PA\n",
       "22058         Arizona      AZ\n",
       "78918         Florida      FL\n",
       "196718           Iowa      IA\n",
       "361694       Nebraska      NE\n",
       "494108   Pennsylvania      PA\n",
       "245398      Louisiana      LA\n",
       "534059      Tennessee      TN\n",
       "81            Alabama      AL\n",
       "392741       New York      NY\n",
       "325981       Missouri      MO\n",
       "588440          Texas      TX\n",
       "44597      California      CA\n",
       "87611         Georgia      GA\n",
       "641323  West Virginia      WV\n",
       "612366       Virginia      VA\n",
       "398177       New York      NY\n",
       "370454  New Hampshire      NH\n",
       "90172         Georgia      GA\n",
       "280264       Michigan      MI\n",
       "514064   South Dakota      SD\n",
       "333046       Missouri      MO\n",
       "172142        Indiana      IN\n",
       "118107        Georgia      GA\n",
       "526904      Tennessee      TN\n",
       "385716       New York      NY\n",
       "30778        Arkansas      AR"
      ]
     },
     "execution_count": 69,
     "metadata": {},
     "output_type": "execute_result"
    }
   ],
   "source": [
    "#check to see matching\n",
    "combined_dataset_sub[['State','StateCD']].sample(frac=.00004)\n"
   ]
  },
  {
   "cell_type": "markdown",
   "metadata": {},
   "source": [
    "## Export to File"
   ]
  },
  {
   "cell_type": "code",
   "execution_count": 70,
   "metadata": {},
   "outputs": [
    {
     "name": "stdout",
     "output_type": "stream",
     "text": [
      "hia_covid_combined.csv has been created in /Users/philip.ballentine/Documents/hia_covid_repo/hia_covid_data_assets\n"
     ]
    }
   ],
   "source": [
    "import os\n",
    "os.chdir(r'/Users/philip.ballentine/Documents/hia_covid_repo/hia_covid_data_assets/')\n",
    "path = str(os.getcwd())\n",
    "filename = \"hia_covid_combined.csv\"\n",
    "combined_dataset_sub.to_csv(filename)\n",
    "print(\"{filename} has been created in {path}\".format(filename=filename, path=path))"
   ]
  },
  {
   "cell_type": "code",
   "execution_count": 73,
   "metadata": {},
   "outputs": [
    {
     "data": {
      "text/plain": [
       "0.9993187291472363"
      ]
     },
     "execution_count": 73,
     "metadata": {},
     "output_type": "execute_result"
    }
   ],
   "source": [
    "# ratio to check join \n",
    "combined_dataset_sub.shape[0]/mobility_counties.shape[0]"
   ]
  },
  {
   "cell_type": "code",
   "execution_count": null,
   "metadata": {},
   "outputs": [],
   "source": []
  }
 ],
 "metadata": {
  "kernelspec": {
   "display_name": "Python 3",
   "language": "python",
   "name": "python3"
  },
  "language_info": {
   "codemirror_mode": {
    "name": "ipython",
    "version": 3
   },
   "file_extension": ".py",
   "mimetype": "text/x-python",
   "name": "python",
   "nbconvert_exporter": "python",
   "pygments_lexer": "ipython3",
   "version": "3.7.7"
  }
 },
 "nbformat": 4,
 "nbformat_minor": 4
}
